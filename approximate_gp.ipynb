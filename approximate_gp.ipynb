{
 "cells": [
  {
   "cell_type": "code",
   "execution_count": 90,
   "metadata": {},
   "outputs": [
    {
     "name": "stdout",
     "output_type": "stream",
     "text": [
      "The autoreload extension is already loaded. To reload it, use:\n",
      "  %reload_ext autoreload\n"
     ]
    }
   ],
   "source": [
    "import torch\n",
    "import matplotlib.pyplot as plt\n",
    "from torch import distributions\n",
    "import seaborn as sns\n",
    "import numpy as np\n",
    "import torch\n",
    "import torch.nn as nn\n",
    "from tqdm.auto import tqdm\n",
    "import matplotlib as mpl\n",
    "mpl.rcParams['font.size'] = 14\n",
    "\n",
    "torch.manual_seed(42)\n",
    "np.random.seed(42)\n",
    "device = torch.device('cuda:0' if torch.cuda.is_available() else 'cpu')\n",
    "\n",
    "from network import ClassifierNN,load_model_info\n",
    "from density_utils import draw_density_ratio, refine_sample, refine_sample2, draw_density_ratio2, draw_density_ratio_GP, refine_sample_GP, refine_sample2_GP\n",
    "\n",
    "from utils import load_item, show_grasp, count_real_positives\n",
    "from dataset import ToyGraspDataset\n",
    "\n",
    "%load_ext autoreload\n",
    "%autoreload 2"
   ]
  },
  {
   "cell_type": "code",
   "execution_count": null,
   "metadata": {},
   "outputs": [],
   "source": []
  },
  {
   "cell_type": "code",
   "execution_count": null,
   "metadata": {},
   "outputs": [],
   "source": []
  },
  {
   "cell_type": "markdown",
   "metadata": {},
   "source": [
    "# GP Classifier Sim+ vs Real+"
   ]
  },
  {
   "cell_type": "code",
   "execution_count": 91,
   "metadata": {},
   "outputs": [
    {
     "data": {
      "text/plain": [
       "<torch._C.Generator at 0x7f9314106530>"
      ]
     },
     "execution_count": 91,
     "metadata": {},
     "output_type": "execute_result"
    }
   ],
   "source": [
    "import torch\n",
    "import matplotlib.pyplot as plt\n",
    "from torch import distributions\n",
    "import seaborn as sns\n",
    "import numpy as np\n",
    "import torch\n",
    "import torch.nn as nn\n",
    "from tqdm.auto import tqdm\n",
    "import matplotlib as mpl\n",
    "mpl.rcParams['font.size'] = 14\n",
    "\n",
    "torch.manual_seed(42)\n",
    "np.random.seed(42)\n",
    "device = torch.device('cuda:0' if torch.cuda.is_available() else 'cpu')\n",
    "\n",
    "from network import ClassifierNN, train_network, save_model_info, load_model_info\n",
    "\n",
    "from density_utils import draw_density_ratio, refine_sample, refine_sample2, draw_density_ratio2, refine_sample_GP, draw_density_ratio_GP\n",
    "\n",
    "from utils import load_item, show_grasp\n",
    "from dataset import ToyGraspDataset\n",
    "\n",
    "from torch.utils.data import TensorDataset, DataLoader\n",
    "import torch.optim as optim\n",
    "\n",
    "torch.manual_seed(42)\n"
   ]
  },
  {
   "cell_type": "code",
   "execution_count": 92,
   "metadata": {},
   "outputs": [
    {
     "name": "stdout",
     "output_type": "stream",
     "text": [
      "sim2real!!!\n"
     ]
    },
    {
     "data": {
      "image/png": "[encoded data removed]",
      "text/plain": [
       "<Figure size 1152x1152 with 1 Axes>"
      ]
     },
     "metadata": {
      "needs_background": "light"
     },
     "output_type": "display_data"
    }
   ],
   "source": [
    "# USING 2D FORK DATA ===============================\n",
    "\n",
    "n = 10\n",
    "\n",
    "# train classifier\n",
    "train_dataset = ToyGraspDataset(root='data', name='sim2real_train', size=100, is_pos_label=True, device=device)\n",
    "# train_dataloader = DataLoader(train_dataset, batch_size=10, shuffle=True)\n",
    "\n",
    "test_dataset = ToyGraspDataset(root='data', name='sim2real_test', size=n, is_pos_label=True, device=device)\n",
    "# test_dataloader = DataLoader(test_dataset, batch_size=512, shuffle=False)\n",
    "\n",
    "\n",
    "\n",
    "# dataset = ToyGraspDataset(root='data', size=50)\n",
    "train_x = torch.Tensor(train_dataset.data[:,:2])\n",
    "train_y = torch.Tensor(train_dataset.data[:,2]).long().to(device)\n",
    "\n",
    "x_t = train_x.clone().to(device)\n",
    "# Normalize inputs\n",
    "x_t[:,0] /= 244\n",
    "x_t[:,1] /= (3.14*2)\n",
    "\n",
    "\n",
    "fig = plt.figure(figsize=(16,16))\n",
    "ax1 = fig.add_subplot(221)\n",
    "\n",
    "# show the data\n",
    "data = train_dataset.data\n",
    "pos_masks = data[:,2] == 1\n",
    "neg_masks = ~pos_masks\n",
    "\n",
    "ax1.scatter(data[pos_masks][:,0], data[pos_masks][:,1], marker='.', alpha=1.0, color='b')\n",
    "ax1.scatter(data[neg_masks][:,0], data[neg_masks][:,1], marker='.', alpha=1.0, color='r')\n",
    "ax1.set_title('Sim+ vs Real+ Train')\n",
    "ax1.set_xlabel('Grasp center')\n",
    "ax1.set_ylabel('Grasp angle')\n",
    "\n",
    "plt.show()"
   ]
  },
  {
   "cell_type": "code",
   "execution_count": 93,
   "metadata": {},
   "outputs": [
    {
     "name": "stdout",
     "output_type": "stream",
     "text": [
      "The autoreload extension is already loaded. To reload it, use:\n",
      "  %reload_ext autoreload\n",
      "Iter 1/4000 - Loss: 1.177   lengthscale: 0.744   noise: 0.644\n",
      "Iter 401/4000 - Loss: 0.360   lengthscale: 0.021   noise: 0.014\n",
      "Iter 801/4000 - Loss: 0.346   lengthscale: 0.021   noise: 0.015\n",
      "Iter 1201/4000 - Loss: 0.337   lengthscale: 0.019   noise: 0.013\n",
      "Iter 1601/4000 - Loss: 0.340   lengthscale: 0.021   noise: 0.014\n",
      "Iter 2001/4000 - Loss: 0.344   lengthscale: 0.021   noise: 0.013\n",
      "Iter 2401/4000 - Loss: 0.377   lengthscale: 0.023   noise: 0.018\n",
      "Iter 2801/4000 - Loss: 0.358   lengthscale: 0.021   noise: 0.017\n",
      "Iter 3201/4000 - Loss: 0.370   lengthscale: 0.019   noise: 0.011\n",
      "Iter 3601/4000 - Loss: 0.391   lengthscale: 0.023   noise: 0.016\n"
     ]
    }
   ],
   "source": [
    "import math\n",
    "import torch\n",
    "import numpy as np\n",
    "import gpytorch\n",
    "from matplotlib import pyplot as plt\n",
    "\n",
    "%matplotlib inline\n",
    "%load_ext autoreload\n",
    "%autoreload 2\n",
    "\n",
    "from gpytorch.models import ExactGP\n",
    "from gpytorch.likelihoods import DirichletClassificationLikelihood\n",
    "from gpytorch.means import ConstantMean\n",
    "from gpytorch.kernels import ScaleKernel, RBFKernel\n",
    "\n",
    "from network import ExactGPModel\n",
    "\n",
    "\n",
    "\n",
    "\n",
    "\n",
    "# likelihood = gpytorch.likelihoods.GaussianLikelihood().to(device)\n",
    "likelihood = gpytorch.likelihoods.GaussianLikelihood().to(device)\n",
    "model = ExactGPModel(x_t, train_y, likelihood).to(device)\n",
    "\n",
    "\n",
    "\n",
    "\n",
    "# this is for running the notebook in our testing framework\n",
    "import os\n",
    "smoke_test = ('CI' in os.environ)\n",
    "training_iter = 2 if smoke_test else 4000\n",
    "\n",
    "\n",
    "# Find optimal model hyperparameters\n",
    "model.train()\n",
    "likelihood.train()\n",
    "\n",
    "# Use the adam optimizer\n",
    "optimizer = torch.optim.Adam(model.parameters(), lr=0.1)  # Includes GaussianLikelihood parameters\n",
    "\n",
    "# \"Loss\" for GPs - the marginal log likelihood\n",
    "mll = gpytorch.mlls.ExactMarginalLogLikelihood(likelihood, model)\n",
    "\n",
    "for i in range(training_iter):\n",
    "    # Zero gradients from previous iteration\n",
    "    optimizer.zero_grad()\n",
    "\n",
    "    # Output from model\n",
    "    output = likelihood(model(x_t))\n",
    "\n",
    "    # Calc loss and backprop gradients\n",
    "    loss = -mll(output, train_y).sum()\n",
    "    loss.backward()\n",
    "    optimizer.step()\n",
    "        \n",
    "    if i % 400 == 0:\n",
    "\n",
    "        print('Iter %d/%d - Loss: %.3f   lengthscale: %.3f   noise: %.3f' % (\n",
    "            i + 1, training_iter, loss.item(),\n",
    "            model.covar_module.base_kernel.lengthscale.item(),\n",
    "            model.likelihood.noise.item()\n",
    "        ))        \n",
    "#         print('Iter %d/%d - Loss: %.3f - Acc: %.3f' % (i + 1, training_iter, loss.item(), train_accuracy))\n",
    "#         print('Iter %d/%d - Loss: %.3f' % (i + 1, training_iter, loss.item()))\n"
   ]
  },
  {
   "cell_type": "code",
   "execution_count": 94,
   "metadata": {},
   "outputs": [
    {
     "name": "stdout",
     "output_type": "stream",
     "text": [
      "22 78\n"
     ]
    },
    {
     "data": {
      "application/vnd.jupyter.widget-view+json": {
       "model_id": "",
       "version_major": 2,
       "version_minor": 0
      },
      "text/plain": [
       "  0%|          | 0/100 [00:00<?, ?it/s]"
      ]
     },
     "metadata": {},
     "output_type": "display_data"
    }
   ],
   "source": [
    "steps_refinement = 100\n",
    "\n",
    "\n",
    "# from the GP classifier\n",
    "# f2\n",
    "# Nq = info2['pos_samples_size'], Np = info2['neg_samples_size']\n",
    "\n",
    "Nq = int(train_y.sum())\n",
    "Np = int(train_y.size()[0] - train_y.sum())\n",
    "\n",
    "# print(my_sample)\n",
    "# my_sample = torch.FloatTensor([[25, 0.3],\n",
    "my_sample = torch.FloatTensor([[60, 1.5],\n",
    "                               [210, 3]])#[160, 3]\n",
    "# my_sample = torch.FloatTensor([[210, 3]])\n",
    "\n",
    "my_sample[:,0] /= 224\n",
    "my_sample[:,1] /= (2*3.14)\n",
    "\n",
    "# my_sample = my_sample.repeat(1,200)\n",
    "\n",
    "model.to(device)\n",
    "model.eval()\n",
    "likelihood.to(device)\n",
    "likelihood.eval()\n",
    "\n",
    "all_x1, all_v1 = refine_sample_GP(my_sample.to(device), model, likelihood, steps=steps_refinement,\n",
    "# all_x1, all_v1 = refine_sample_GP(my_sample.to(device), model, steps=steps_refinement,\n",
    "#                                eta=0.0001, noise_factor=0.0000,\n",
    "                               eta=0.1, noise_factor=0.000,\n",
    "#                                eta=0.5, noise_factor=0.000,\n",
    "                              Nq = Nq, Np = Np)"
   ]
  },
  {
   "cell_type": "code",
   "execution_count": 95,
   "metadata": {
    "scrolled": false
   },
   "outputs": [],
   "source": [
    "# # train_x\n",
    "# # all_x1\n",
    "# # my_sample.size()\n",
    "# # my_sample\n",
    "# model.eval()\n",
    "# # print(x_t)\n",
    "# out = model(x_t.to(device)).loc\n",
    "# print(max(out).item(), min(out).item())"
   ]
  },
  {
   "cell_type": "code",
   "execution_count": 96,
   "metadata": {
    "scrolled": false
   },
   "outputs": [
    {
     "data": {
      "application/vnd.jupyter.widget-view+json": {
       "model_id": "573d4d0ec2c747f2b7230b3f3d88bfb6",
       "version_major": 2,
       "version_minor": 0
      },
      "text/plain": [
       "  0%|          | 0/10 [00:00<?, ?it/s]"
      ]
     },
     "metadata": {},
     "output_type": "display_data"
    },
    {
     "name": "stdout",
     "output_type": "stream",
     "text": [
      "0.43119562 0.7787277\n"
     ]
    },
    {
     "data": {
      "image/png": "[encoded data removed]",
      "text/plain": [
       "<Figure size 864x864 with 2 Axes>"
      ]
     },
     "metadata": {
      "needs_background": "light"
     },
     "output_type": "display_data"
    }
   ],
   "source": [
    "import torch\n",
    "torch.cuda.empty_cache()\n",
    "fig, ax = plt.subplots(nrows=1, figsize=(12,12))\n",
    "ax.scatter(train_x[pos_masks][:,0], train_x[pos_masks][:,1], marker='.', alpha=0.2, color='b')\n",
    "ax.scatter(train_x[neg_masks][:,0], train_x[neg_masks][:,1], marker='.', alpha=0.2, color='r')\n",
    "\n",
    "plt.scatter(my_sample[:, 0]*224, my_sample[:,1]*(2*3.14), marker='*', color='g', s=200)\n",
    "# plt.scatter(my_sample[:, 0], my_sample[:,1], marker='*', color='g', s=200)\n",
    "\n",
    "for i in range(1, steps_refinement, 1):\n",
    "    plt.scatter(all_x1[i][:, 0]*224, all_x1[i][:,1]*(2*3.14), marker='d', color='g', s=4)\n",
    "#     plt.scatter(all_x1[i][:, 0], all_x1[i][:,1], marker='d', color='g', s=4)\n",
    "\n",
    "\n",
    "Z, CS = draw_density_ratio_GP(ax=ax,\n",
    "                   model=model,\n",
    "                   likelihood=likelihood,\n",
    "                   p_type='p_y_given_x',\n",
    "#                    p_type='log_density_ratio',\n",
    "                   device=device,\n",
    "                   x_lim=[0, 224],\n",
    "                   y_lim=[0, 2*np.pi],\n",
    "                   cmap='RdBu',\n",
    "                   step_size=0.1,\n",
    "                   Np=Np, Nq=Nq)\n",
    "fig.colorbar(CS, ax=ax)\n",
    "\n",
    "\n",
    "\n",
    "ax.set_title(f'GP Classifier Log Density Ratio')\n",
    "ax.set_xlim([0, 300])\n",
    "ax.set_ylim([0, 2*np.pi])\n",
    "\n",
    "plt.show()"
   ]
  },
  {
   "cell_type": "code",
   "execution_count": 111,
   "metadata": {},
   "outputs": [
    {
     "name": "stdout",
     "output_type": "stream",
     "text": [
      "tensor([0.1168, 1.0030, 0.1815, 0.2199], device='cuda:0',\n",
      "       grad_fn=<ViewBackward0>)\n"
     ]
    }
   ],
   "source": [
    "my_sample = torch.FloatTensor([[60, 1.5],\n",
    "                               [80, 1.5],\n",
    "                               [0.0, 0.0],\n",
    "                               [160, 1.5]]).to(device)\n",
    "\n",
    "my_sample[:,0] /= 224\n",
    "my_sample[:,1] /= (2*3.14)\n",
    "\n",
    "\n",
    "model.to(device)\n",
    "model.eval()\n",
    "pred = model(my_sample).mean\n",
    "print(pred)\n",
    "# print(min(pred).item(), max(pred).item())"
   ]
  },
  {
   "cell_type": "code",
   "execution_count": 20,
   "metadata": {},
   "outputs": [
    {
     "ename": "NameError",
     "evalue": "name 'test_x' is not defined",
     "output_type": "error",
     "traceback": [
      "\u001b[0;31m---------------------------------------------------------------------------\u001b[0m",
      "\u001b[0;31mNameError\u001b[0m                                 Traceback (most recent call last)",
      "Input \u001b[0;32mIn [20]\u001b[0m, in \u001b[0;36m<module>\u001b[0;34m\u001b[0m\n\u001b[0;32m----> 1\u001b[0m \u001b[43mtest_x\u001b[49m\n",
      "\u001b[0;31mNameError\u001b[0m: name 'test_x' is not defined"
     ]
    }
   ],
   "source": []
  },
  {
   "cell_type": "code",
   "execution_count": null,
   "metadata": {},
   "outputs": [],
   "source": []
  },
  {
   "cell_type": "code",
   "execution_count": null,
   "metadata": {},
   "outputs": [],
   "source": []
  },
  {
   "cell_type": "code",
   "execution_count": 45,
   "metadata": {},
   "outputs": [],
   "source": [
    "import tqdm\n",
    "import math\n",
    "import torch\n",
    "import gpytorch\n",
    "from matplotlib import pyplot as plt\n",
    "\n",
    "# Make plots inline\n",
    "%matplotlib inline\n",
    "\n",
    "import torch\n",
    "import numpy as np\n",
    "from density_utils import draw_density_ratio, refine_sample, refine_sample2, draw_density_ratio2, draw_density_ratio_GP, refine_sample_GP, refine_sample2_GP\n",
    "torch.cuda.empty_cache()\n",
    "\n",
    "import os"
   ]
  },
  {
   "cell_type": "code",
   "execution_count": 46,
   "metadata": {},
   "outputs": [],
   "source": [
    "# import urllib.request\n",
    "# import os\n",
    "# from scipy.io import loadmat\n",
    "# from math import floor\n",
    "\n",
    "\n",
    "# # this is for running the notebook in our testing framework\n",
    "# smoke_test = ('CI' in os.environ)\n",
    "\n",
    "\n",
    "# if not smoke_test and not os.path.isfile('../elevators.mat'):\n",
    "#     print('Downloading \\'elevators\\' UCI dataset...')\n",
    "#     urllib.request.urlretrieve('https://drive.google.com/uc?export=download&id=1jhWL3YUHvXIaftia4qeAyDwVxo6j1alk', '../elevators.mat')\n",
    "\n",
    "# X, y = torch.randn(1000, 3), torch.randn(1000)\n",
    "\n",
    "# # if smoke_test:  # this is for running the notebook in our testing framework\n",
    "# #     X, y = torch.randn(1000, 3), torch.randn(1000)\n",
    "# # else:\n",
    "# #     data = torch.Tensor(loadmat('../elevators.mat')['data'])\n",
    "# #     X = data[:, :-1]\n",
    "# #     X = X - X.min(0)[0]\n",
    "# #     X = 2 * (X / X.max(0)[0]) - 1\n",
    "# #     y = data[:, -1]\n",
    "\n",
    "\n",
    "# train_n = int(floor(0.8 * len(X)))\n",
    "# train_x = X[:train_n, :].contiguous()\n",
    "# train_y = y[:train_n].contiguous()\n",
    "\n",
    "# test_x = X[train_n:, :].contiguous()\n",
    "# test_y = y[train_n:].contiguous()\n",
    "\n",
    "# if torch.cuda.is_available():\n",
    "#     train_x, train_y, test_x, test_y = train_x.cuda(), train_y.cuda(), test_x.cuda(), test_y.cuda()"
   ]
  },
  {
   "cell_type": "code",
   "execution_count": 47,
   "metadata": {},
   "outputs": [],
   "source": [
    "\n",
    "# from torch.utils.data import TensorDataset, DataLoader\n",
    "# train_dataset = TensorDataset(train_x, train_y)\n",
    "# train_loader = DataLoader(train_dataset, batch_size=1024, shuffle=True)\n",
    "\n",
    "# test_dataset = TensorDataset(test_x, test_y)\n",
    "# test_loader = DataLoader(test_dataset, batch_size=1024, shuffle=False)"
   ]
  },
  {
   "cell_type": "code",
   "execution_count": 82,
   "metadata": {},
   "outputs": [
    {
     "name": "stdout",
     "output_type": "stream",
     "text": [
      "sim2real!!!\n"
     ]
    }
   ],
   "source": [
    "device = torch.device('cuda:0' if torch.cuda.is_available() else 'cpu')\n",
    "n = 50\n",
    "from dataset import ToyGraspDataset\n",
    "from torch.utils.data import TensorDataset, DataLoader\n",
    "\n",
    "# train classifier\n",
    "train_dataset = ToyGraspDataset(root='data', name='sim2real_train', size=10000, is_pos_label=True, device=device)\n",
    "test_dataset = ToyGraspDataset(root='data', name='sim2real_test', size=n, is_pos_label=True, device=device)\n",
    "\n",
    "train_data = torch.Tensor(train_dataset.data).to(device)\n",
    "test_data = torch.Tensor(test_dataset.data).to(device)\n",
    "\n",
    "\n",
    "train_x = train_data[:,:2]\n",
    "train_y = train_data[:,2]\n",
    "test_x = test_data[:,:2]\n",
    "test_y = test_data[:,2]\n",
    "pos_mask = train_y == 1\n",
    "neg_mask = ~pos_mask\n",
    "\n",
    "\n",
    "train_dataset = TensorDataset(train_x, train_y)\n",
    "train_loader = DataLoader(train_dataset, batch_size=1024, shuffle=True)\n",
    "\n",
    "test_dataset = TensorDataset(test_x, test_y)\n",
    "test_loader = DataLoader(test_dataset, batch_size=1024, shuffle=False)\n"
   ]
  },
  {
   "cell_type": "code",
   "execution_count": 83,
   "metadata": {},
   "outputs": [
    {
     "name": "stdout",
     "output_type": "stream",
     "text": [
      "tensor([108.6242,   4.7700], device='cuda:0')\n",
      "tensor(1., device='cuda:0')\n",
      "tensor([65.0000,  1.2217], device='cuda:0')\n",
      "tensor(0., device='cuda:0')\n"
     ]
    }
   ],
   "source": [
    "print(train_x[0])\n",
    "print(train_y[0])\n",
    "print(test_x[0])\n",
    "print(test_y[0])"
   ]
  },
  {
   "cell_type": "code",
   "execution_count": 88,
   "metadata": {},
   "outputs": [],
   "source": [
    "from gpytorch.models import ApproximateGP\n",
    "from gpytorch.variational import CholeskyVariationalDistribution\n",
    "from gpytorch.variational import VariationalStrategy\n",
    "\n",
    "class ApproximateGPModel(ApproximateGP):\n",
    "    def __init__(self, inducing_points):\n",
    "        variational_distribution = CholeskyVariationalDistribution(inducing_points.size(0))\n",
    "        variational_strategy = VariationalStrategy(self, inducing_points, variational_distribution, learn_inducing_locations=True)\n",
    "        super(ApproximateGPModel, self).__init__(variational_strategy)\n",
    "        self.mean_module = gpytorch.means.ConstantMean()\n",
    "        self.covar_module = gpytorch.kernels.ScaleKernel(gpytorch.kernels.RBFKernel())\n",
    "\n",
    "    def forward(self, x):\n",
    "        mean_x = self.mean_module(x)\n",
    "        covar_x = self.covar_module(x)\n",
    "        return gpytorch.distributions.MultivariateNormal(mean_x, covar_x)\n",
    "\n",
    "inducing_points = train_x[:5000, :]\n",
    "inducing_points[:,0] /= 244\n",
    "inducing_points[:,1] /= 2*(3.14)\n",
    "model = ApproximateGPModel(inducing_points=inducing_points)\n",
    "likelihood = gpytorch.likelihoods.GaussianLikelihood()\n",
    "\n",
    "if torch.cuda.is_available():\n",
    "    model = model.cuda()\n",
    "    likelihood = likelihood.cuda()"
   ]
  },
  {
   "cell_type": "code",
   "execution_count": 89,
   "metadata": {},
   "outputs": [
    {
     "data": {
      "application/vnd.jupyter.widget-view+json": {
       "model_id": "5598d5eeee2441c08578824d14588a13",
       "version_major": 2,
       "version_minor": 0
      },
      "text/plain": [
       "Epoch:   0%|          | 0/5 [00:00<?, ?it/s]"
      ]
     },
     "metadata": {},
     "output_type": "display_data"
    },
    {
     "data": {
      "application/vnd.jupyter.widget-view+json": {
       "model_id": "",
       "version_major": 2,
       "version_minor": 0
      },
      "text/plain": [
       "Minibatch:   0%|          | 0/10 [00:00<?, ?it/s]"
      ]
     },
     "metadata": {},
     "output_type": "display_data"
    },
    {
     "data": {
      "application/vnd.jupyter.widget-view+json": {
       "model_id": "",
       "version_major": 2,
       "version_minor": 0
      },
      "text/plain": [
       "Minibatch:   0%|          | 0/10 [00:00<?, ?it/s]"
      ]
     },
     "metadata": {},
     "output_type": "display_data"
    },
    {
     "data": {
      "application/vnd.jupyter.widget-view+json": {
       "model_id": "",
       "version_major": 2,
       "version_minor": 0
      },
      "text/plain": [
       "Minibatch:   0%|          | 0/10 [00:00<?, ?it/s]"
      ]
     },
     "metadata": {},
     "output_type": "display_data"
    },
    {
     "data": {
      "application/vnd.jupyter.widget-view+json": {
       "model_id": "",
       "version_major": 2,
       "version_minor": 0
      },
      "text/plain": [
       "Minibatch:   0%|          | 0/10 [00:00<?, ?it/s]"
      ]
     },
     "metadata": {},
     "output_type": "display_data"
    },
    {
     "data": {
      "application/vnd.jupyter.widget-view+json": {
       "model_id": "",
       "version_major": 2,
       "version_minor": 0
      },
      "text/plain": [
       "Minibatch:   0%|          | 0/10 [00:00<?, ?it/s]"
      ]
     },
     "metadata": {},
     "output_type": "display_data"
    }
   ],
   "source": [
    "import os\n",
    "smoke_test = ('CI' in os.environ)\n",
    "num_epochs = 1 if smoke_test else 5\n",
    "\n",
    "\n",
    "model.train()\n",
    "likelihood.train()\n",
    "\n",
    "optimizer = torch.optim.Adam([\n",
    "    {'params': model.parameters()},\n",
    "    {'params': likelihood.parameters()},\n",
    "], lr=0.1)\n",
    "\n",
    "# Our loss object. We're using the VariationalELBO\n",
    "# mll = gpytorch.mlls.VariationalELBO(likelihood, model, num_data=train_y.size(0))\n",
    "mll = gpytorch.mlls.ExactMarginalLogLikelihood(likelihood, model)\n",
    "\n",
    "\n",
    "epochs_iter = tqdm.notebook.tqdm(range(num_epochs), desc=\"Epoch\")\n",
    "with gpytorch.settings.cholesky_jitter(1e-1):\n",
    "    for i in epochs_iter:\n",
    "        # Within each iteration, we will go over each minibatch of data\n",
    "        minibatch_iter = tqdm.notebook.tqdm(train_loader, desc=\"Minibatch\", leave=False)\n",
    "        for x_batch, y_batch in minibatch_iter:\n",
    "            x_batch[:,0] /= 244\n",
    "            x_batch[:,1] /= (3.14*2)\n",
    "            optimizer.zero_grad()\n",
    "            output = model(x_batch)\n",
    "            loss = -mll(output, y_batch)\n",
    "            minibatch_iter.set_postfix(loss=loss.item())\n",
    "            loss.backward()\n",
    "            optimizer.step()\n",
    "#         if i*10 == 0:\n",
    "#             print(loss.item())"
   ]
  },
  {
   "cell_type": "code",
   "execution_count": null,
   "metadata": {},
   "outputs": [],
   "source": [
    "model.eval()\n",
    "likelihood.eval()\n",
    "means = torch.tensor([0.])\n",
    "with torch.no_grad():\n",
    "    for x_batch, y_batch in test_loader:\n",
    "        x_batch[:,0] /= 244\n",
    "        x_batch[:,1] /= (3.14*2)        \n",
    "        preds = model(x_batch)\n",
    "        means = torch.cat([means, preds.mean.cpu()])\n",
    "means = means[1:]\n",
    "print('Test MAE: {}'.format(torch.mean(torch.abs(means - test_y.cpu()))))\n"
   ]
  },
  {
   "cell_type": "code",
   "execution_count": null,
   "metadata": {},
   "outputs": [],
   "source": [
    "steps_refinement = 100\n",
    "\n",
    "\n",
    "# from the GP classifier\n",
    "# f2\n",
    "# Nq = info2['pos_samples_size'], Np = info2['neg_samples_size']\n",
    "\n",
    "Nq = int(train_y.sum())\n",
    "Np = int(train_y.size()[0] - train_y.sum())\n",
    "\n",
    "# print(my_sample)\n",
    "# my_sample = torch.FloatTensor([[25, 0.3],\n",
    "my_sample = torch.FloatTensor([[60, 1.5],\n",
    "                               [210, 3]])#[160, 3]\n",
    "# my_sample = torch.FloatTensor([[210, 3]])\n",
    "\n",
    "my_sample[:,0] /= 224\n",
    "my_sample[:,1] /= (2*3.14)\n",
    "\n",
    "# my_sample = my_sample.repeat(1,200)\n",
    "\n",
    "model.to(device)\n",
    "model.eval()\n",
    "likelihood.to(device)\n",
    "likelihood.eval()\n",
    "\n",
    "all_x1, all_v1 = refine_sample_GP(my_sample.to(device), model, likelihood, steps=steps_refinement,\n",
    "# all_x1, all_v1 = refine_sample_GP(my_sample.to(device), model, steps=steps_refinement,\n",
    "#                                eta=0.0001, noise_factor=0.0000,\n",
    "                               eta=0.1, noise_factor=0.000,\n",
    "#                                eta=0.5, noise_factor=0.000,\n",
    "                              Nq = Nq, Np = Np)"
   ]
  },
  {
   "cell_type": "code",
   "execution_count": null,
   "metadata": {},
   "outputs": [],
   "source": [
    "\n",
    "\n",
    "\n",
    "Nq = int(train_y.sum())\n",
    "Np = int(train_y.size()[0] - train_y.sum())\n",
    "print(Np,Nq)\n",
    "train_x= train_x.cpu()\n",
    "fig, ax = plt.subplots(nrows=1, figsize=(12,12))\n",
    "ax.scatter(train_x[pos_mask][:,0]*244, train_x[pos_mask][:,1]*(2*3.14), marker='.', alpha=0.2, color='b')\n",
    "ax.scatter(train_x[neg_mask][:,0]*244, train_x[neg_mask][:,1]*(2*3.14), marker='.', alpha=0.2, color='r')\n",
    "\n",
    "plt.scatter(my_sample[:, 0]*224, my_sample[:,1]*(2*3.14), marker='*', color='g', s=200)\n",
    "# plt.scatter(my_sample[:, 0], my_sample[:,1], marker='*', color='g', s=200)\n",
    "\n",
    "for i in range(1, steps_refinement, 1):\n",
    "    plt.scatter(all_x1[i][:, 0]*224, all_x1[i][:,1]*(2*3.14), marker='d', color='g', s=4)\n",
    "#     plt.scatter(all_x1[i][:, 0], all_x1[i][:,1], marker='d', color='g', s=4)\n",
    "\n",
    "\n",
    "\n",
    "Z, CS = draw_density_ratio_GP(ax=ax,\n",
    "                   model=model,\n",
    "                   likelihood=likelihood,\n",
    "                   p_type='p_y_given_x',\n",
    "#                    p_type='log_density_ratio',\n",
    "                   device=device,\n",
    "                   x_lim=[0, 224],\n",
    "                   y_lim=[0, 2*np.pi],\n",
    "                   cmap='RdBu',\n",
    "                   step_size=0.1,\n",
    "                   Np=Np, Nq=Nq)\n",
    "fig.colorbar(CS, ax=ax)\n",
    "\n",
    "\n",
    "\n",
    "ax.set_title(f'GP Classifier Log Density Ratio')\n",
    "# ax.set_xlim([0, 300])\n",
    "# ax.set_ylim([0, 2*np.pi])\n",
    "\n",
    "plt.show()"
   ]
  },
  {
   "cell_type": "code",
   "execution_count": null,
   "metadata": {},
   "outputs": [],
   "source": []
  },
  {
   "cell_type": "code",
   "execution_count": null,
   "metadata": {},
   "outputs": [],
   "source": []
  },
  {
   "cell_type": "code",
   "execution_count": null,
   "metadata": {},
   "outputs": [],
   "source": []
  },
  {
   "cell_type": "code",
   "execution_count": null,
   "metadata": {},
   "outputs": [],
   "source": []
  }
 ],
 "metadata": {
  "kernelspec": {
   "display_name": "my-virtualenv-name",
   "language": "python",
   "name": "my-virtualenv-name"
  },
  "language_info": {
   "codemirror_mode": {
    "name": "ipython",
    "version": 3
   },
   "file_extension": ".py",
   "mimetype": "text/x-python",
   "name": "python",
   "nbconvert_exporter": "python",
   "pygments_lexer": "ipython3",
   "version": "3.9.9"
  }
 },
 "nbformat": 4,
 "nbformat_minor": 4
}
