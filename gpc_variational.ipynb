{
 "cells": [
  {
   "cell_type": "code",
   "execution_count": 1,
   "metadata": {},
   "outputs": [],
   "source": [
    "import torch\n",
    "import matplotlib.pyplot as plt\n",
    "from torch import distributions\n",
    "import seaborn as sns\n",
    "import numpy as np\n",
    "import torch\n",
    "import torch.nn as nn\n",
    "from tqdm.auto import tqdm\n",
    "import matplotlib as mpl\n",
    "mpl.rcParams['font.size'] = 14\n",
    "\n",
    "%matplotlib inline\n",
    "\n",
    "torch.manual_seed(42)\n",
    "np.random.seed(42)\n",
    "device = torch.device('cuda:0' if torch.cuda.is_available() else 'cpu')\n",
    "\n",
    "from network import ClassifierNN,load_model_info\n",
    "from density_utils import draw_density_ratio, refine_sample_GPC, refine_sample2, draw_density_ratio2, draw_density_ratio_GPC, refine_sample_GP, refine_sample2_GP\n",
    "\n",
    "from utils import load_item, show_grasp, count_real_positives\n",
    "from dataset import ToyGraspDataset\n",
    "\n",
    "%load_ext autoreload\n",
    "%autoreload 2"
   ]
  },
  {
   "cell_type": "code",
   "execution_count": null,
   "metadata": {},
   "outputs": [],
   "source": []
  },
  {
   "cell_type": "code",
   "execution_count": null,
   "metadata": {},
   "outputs": [],
   "source": []
  },
  {
   "cell_type": "markdown",
   "metadata": {},
   "source": [
    "# GP Classifier Sim+ vs Real+"
   ]
  },
  {
   "cell_type": "code",
   "execution_count": 2,
   "metadata": {},
   "outputs": [],
   "source": [
    "import torch\n",
    "import matplotlib.pyplot as plt\n",
    "from torch import distributions\n",
    "import seaborn as sns\n",
    "import numpy as np\n",
    "import torch\n",
    "import torch.nn as nn\n",
    "from tqdm.auto import tqdm\n",
    "import matplotlib as mpl\n",
    "mpl.rcParams['font.size'] = 14\n",
    "\n",
    "torch.manual_seed(42)\n",
    "np.random.seed(42)\n",
    "device = torch.device('cuda:0' if torch.cuda.is_available() else 'cpu')\n",
    "\n",
    "from network import ClassifierNN, train_network, save_model_info, load_model_info\n",
    "\n",
    "from density_utils import draw_density_ratio, refine_sample, refine_sample2, draw_density_ratio2, refine_sample_GP, draw_density_ratio_GP\n",
    "\n",
    "from utils import load_item, show_grasp\n",
    "from dataset import ToyGraspDataset\n",
    "\n",
    "from torch.utils.data import TensorDataset, DataLoader\n",
    "import torch.optim as optim\n",
    "\n",
    "torch.manual_seed(42)\n",
    "import math\n"
   ]
  },
  {
   "cell_type": "code",
   "execution_count": 134,
   "metadata": {},
   "outputs": [
    {
     "name": "stdout",
     "output_type": "stream",
     "text": [
      "sim2real!!!\n"
     ]
    },
    {
     "data": {
      "text/plain": [
       "<matplotlib.contour.QuadContourSet at 0x251941ab820>"
      ]
     },
     "execution_count": 134,
     "metadata": {},
     "output_type": "execute_result"
    },
    {
     "data": {
      "image/png": "[encoded data removed]",
      "text/plain": [
       "<Figure size 432x288 with 1 Axes>"
      ]
     },
     "metadata": {
      "needs_background": "light"
     },
     "output_type": "display_data"
    }
   ],
   "source": [
    "# USING 2D FORK DATA ===============================\n",
    "n = 10\n",
    "\n",
    "# train classifier\n",
    "train_dataset = ToyGraspDataset(root='data', name='sim2real_train', size=500, is_pos_label=True, device=device)\n",
    "train_dataloader = DataLoader(train_dataset, batch_size=512, shuffle=True)\n",
    "\n",
    "test_dataset = ToyGraspDataset(root='data', name='sim2real_test', size=n, is_pos_label=True, device=device)\n",
    "test_dataloader = DataLoader(test_dataset, batch_size=512, shuffle=False)\n",
    "\n",
    "\n",
    "# dataset = ToyGraspDataset(root='data', size=50)\n",
    "train_x = torch.Tensor(train_dataset.data[:,:2])\n",
    "# train_y = torch.Tensor(train_dataset.data[:,2]).long()\n",
    "train_y = torch.Tensor(train_dataset.data[:,2]).long() * 2 -1 \n",
    "\n",
    "train_x[:,0] /= 244\n",
    "train_x[:,1] /= 2*(3.14)\n",
    "\n",
    "# y = train_dataset.data[:,2].reshape(-1,1)\n",
    "\n",
    "test_x = torch.Tensor(test_dataset.data[:,:2])\n",
    "test_x_mat = torch.reshape(test_x[:,0], (n, n))\n",
    "test_y_mat = torch.reshape(test_x[:,1], (n, n))\n",
    "\n",
    "test_x[:,0] /= 244\n",
    "test_x[:,1] /= 2*(3.14)\n",
    "\n",
    "# test_y = torch.Tensor(test_dataset.data[:,2]).long()\n",
    "test_y = torch.Tensor(test_dataset.data[:,2]).long() * 2 -1 \n",
    "test_labels = torch.reshape(test_y, (n, n))\n",
    "\n",
    "\n",
    "plt.contourf(test_x_mat.numpy(), test_y_mat.numpy(), test_labels.numpy())"
   ]
  },
  {
   "cell_type": "code",
   "execution_count": 135,
   "metadata": {},
   "outputs": [],
   "source": [
    "# print(train_y[train_y==1].sum())\n",
    "# # print(train_y.shape[0])\n",
    "# train_x = torch.linspace(0, 1, 100)\n",
    "# train_y = torch.sign(torch.cos(train_x * (4 * math.pi)))"
   ]
  },
  {
   "cell_type": "code",
   "execution_count": 136,
   "metadata": {
    "scrolled": true
   },
   "outputs": [],
   "source": [
    "import gpytorch\n",
    "from gpytorch.models import AbstractVariationalGP\n",
    "from gpytorch.variational import CholeskyVariationalDistribution\n",
    "from gpytorch.variational import VariationalStrategy\n",
    "from gpytorch.variational import UnwhitenedVariationalStrategy\n",
    "\n",
    "class GPClassificationModel(AbstractVariationalGP):\n",
    "    def __init__(self, train_x):\n",
    "        variational_distribution = CholeskyVariationalDistribution(train_x.size(0))\n",
    "#         variational_strategy = VariationalStrategy(\n",
    "#             self, train_x, variational_distribution)\n",
    "        \n",
    "        variational_strategy = UnwhitenedVariationalStrategy(\n",
    "            self, train_x, variational_distribution, learn_inducing_locations=True\n",
    "        )\n",
    "        super(GPClassificationModel, self).__init__(variational_strategy)\n",
    "#         self.mean_module = gpytorch.means.ConstantMean()\n",
    "        self.mean_module = gpytorch.means.ZeroMean()\n",
    "        self.covar_module = gpytorch.kernels.ScaleKernel(gpytorch.kernels.RBFKernel())\n",
    "\n",
    "    def forward(self, x):\n",
    "        mean_x = self.mean_module(x)\n",
    "        covar_x = self.covar_module(x)\n",
    "        latent_pred = gpytorch.distributions.MultivariateNormal(mean_x, covar_x)\n",
    "        return latent_pred\n",
    "\n",
    "\n",
    "# Initialize model and likelihood\n",
    "model = GPClassificationModel(train_x)\n",
    "likelihood = gpytorch.likelihoods.BernoulliLikelihood()"
   ]
  },
  {
   "cell_type": "code",
   "execution_count": 137,
   "metadata": {},
   "outputs": [
    {
     "name": "stdout",
     "output_type": "stream",
     "text": [
      "The autoreload extension is already loaded. To reload it, use:\n",
      "  %reload_ext autoreload\n",
      "Iter 1/500 - Loss: 0.909\n",
      "Iter 51/500 - Loss: 2.951\n",
      "Iter 101/500 - Loss: 2.357\n",
      "Iter 151/500 - Loss: 1.663\n",
      "Iter 201/500 - Loss: 1.286\n",
      "Iter 251/500 - Loss: 1.021\n",
      "Iter 301/500 - Loss: 0.771\n",
      "Iter 351/500 - Loss: 0.625\n",
      "Iter 401/500 - Loss: 0.534\n",
      "Iter 451/500 - Loss: 0.528\n"
     ]
    }
   ],
   "source": [
    "import math\n",
    "import torch\n",
    "import numpy as np\n",
    "import gpytorch\n",
    "from matplotlib import pyplot as plt\n",
    "\n",
    "%matplotlib inline\n",
    "%load_ext autoreload\n",
    "%autoreload 2\n",
    "\n",
    "# this is for running the notebook in our testing framework\n",
    "import os\n",
    "smoke_test = ('CI' in os.environ)\n",
    "training_iter = 2 if smoke_test else 500\n",
    "\n",
    "\n",
    "\n",
    "\n",
    "# Find optimal model hyperparameters\n",
    "\n",
    "model.train()\n",
    "likelihood.train()\n",
    "# Use the adam optimizer\n",
    "optimizer = torch.optim.Adam(model.parameters(), lr=0.1)  # Includes GaussianLikelihood parameters\n",
    "\n",
    "from gpytorch.mlls.variational_elbo import VariationalELBO\n",
    "# \"Loss\" for GPs - the marginal log likelihood\n",
    "mll = VariationalELBO(likelihood, model, train_y.numel())\n",
    "\n",
    "\n",
    "# model, likelihood, train_x, train_y = model.to(device), likelihood.to(device), train_x.to(device), train_y.to(device)\n",
    "for i in range(training_iter):\n",
    "    # Zero gradients from previous iteration\n",
    "    optimizer.zero_grad()\n",
    "    # Output from model\n",
    "    output = model(train_x)\n",
    "    # Calc loss and backprop gradients\n",
    "    loss = -mll(output, train_y)\n",
    "    loss.backward()\n",
    "    if i % 50 == 0:\n",
    "        print('Iter %d/%d - Loss: %.3f' % (i + 1, training_iter, loss.item()))\n",
    "    optimizer.step()"
   ]
  },
  {
   "cell_type": "code",
   "execution_count": 138,
   "metadata": {},
   "outputs": [],
   "source": [
    "pos_masks = train_y == 1\n",
    "neg_masks = ~pos_masks\n",
    "# pos_masks, neg_masks = pos_masks.cpu(), neg_masks.cpu()\n",
    "\n",
    "# train_x = train_x.cpu().numpy()\n"
   ]
  },
  {
   "cell_type": "code",
   "execution_count": 141,
   "metadata": {
    "scrolled": false
   },
   "outputs": [
    {
     "data": {
      "image/png": "[encoded data removed]",
      "text/plain": [
       "<Figure size 576x576 with 1 Axes>"
      ]
     },
     "metadata": {
      "needs_background": "light"
     },
     "output_type": "display_data"
    },
    {
     "name": "stdout",
     "output_type": "stream",
     "text": [
      "tensor([0.1016, 0.7063, 0.4539], grad_fn=<MulBackward0>)\n",
      "tensor([0.1016, 0.7063, 0.4539], grad_fn=<MulBackward0>)\n"
     ]
    }
   ],
   "source": [
    "import torch\n",
    "torch.cuda.empty_cache()\n",
    "\n",
    "Nq = int(train_y.sum())\n",
    "Np = int(train_y.size()[0] - train_y.sum())\n",
    "\n",
    "# print(my_sample)\n",
    "# my_sample = torch.FloatTensor([[25, 0.3],\n",
    "my_sample = torch.FloatTensor([[60, 1.5],\n",
    "                               [93, 4.65],\n",
    "                               [127, 2.6]])#[160, 3]\n",
    "# my_sample = torch.FloatTensor([[210, 3]])\n",
    "\n",
    "my_sample[:,0] /= 224\n",
    "my_sample[:,1] /= (2*3.14)\n",
    "\n",
    "\n",
    "\n",
    "fig, ax = plt.subplots(nrows=1, figsize=(8,8))\n",
    "ax.scatter(train_x[pos_masks][:,0]*224, train_x[pos_masks][:,1]*(2*3.14), marker='.', alpha=0.25, color='b')\n",
    "ax.scatter(train_x[neg_masks][:,0]*224, train_x[neg_masks][:,1]*(2*3.14), marker='.', alpha=0.25, color='r')\n",
    "\n",
    "plt.scatter(my_sample[:, 0]*224, my_sample[:,1]*(2*3.14), marker='*', color='g', s=200)\n",
    "\n",
    "# Z, CS = draw_density_ratio_GPC(ax=ax,\n",
    "#                    model=model,\n",
    "#                    likelihood=likelihood,\n",
    "# #                    model=model.to(device),\n",
    "# #                    likelihood=likelihood.to(device),\n",
    "# #                    p_type='p_y_given_x',\n",
    "#                    p_type='log_density_ratio',\n",
    "#                    device=device,\n",
    "#                    x_lim=[0, 224],\n",
    "#                    y_lim=[0, 2*np.pi],\n",
    "#                    cmap='RdBu',\n",
    "#                    step_size=0.1,\n",
    "#                    Np=Np, Nq=Nq)\n",
    "# fig.colorbar(CS, ax=ax)\n",
    "\n",
    "\n",
    "\n",
    "ax.set_title(f'GP Classifier Log Density Ratio')\n",
    "ax.set_xlim([0, 300])\n",
    "ax.set_ylim([0, 2*np.pi])\n",
    "\n",
    "plt.show()\n",
    "print(likelihood(model(my_sample)).probs)\n",
    "model.eval()\n",
    "likelihood.eval()\n",
    "print(likelihood(model(my_sample)).probs)\n"
   ]
  },
  {
   "cell_type": "code",
   "execution_count": 140,
   "metadata": {},
   "outputs": [
    {
     "data": {
      "text/plain": [
       "Text(0.5, 1.0, 'Predictions: ')"
      ]
     },
     "execution_count": 140,
     "metadata": {},
     "output_type": "execute_result"
    },
    {
     "data": {
      "image/png": "[encoded data removed]",
      "text/plain": [
       "<Figure size 576x576 with 2 Axes>"
      ]
     },
     "metadata": {
      "needs_background": "light"
     },
     "output_type": "display_data"
    }
   ],
   "source": [
    "model.eval()\n",
    "likelihood.eval()\n",
    "model = model.to('cpu')\n",
    "\n",
    "# t_x = test_x.clone().to(device)\n",
    "with gpytorch.settings.fast_pred_var(), torch.no_grad():\n",
    "    test_dist = likelihood(model(test_x))\n",
    "#     test_dist = _test_dist.clone().cpu()\n",
    "    _pred_means = test_dist.mean\n",
    "    pred_means = _pred_means.clone().cpu()\n",
    "    \n",
    "    \n",
    "fig, ax = plt.subplots(nrows=1, figsize=(8,8))\n",
    "\n",
    "ax.contourf(test_x_mat.numpy()*224, test_y_mat.numpy()*(2*3.14), pred_means.numpy().reshape((n,n)))\n",
    "fig.colorbar(im, ax=ax)\n",
    "ax.set_title(\"Predictions: \" , fontsize = 20)"
   ]
  },
  {
   "cell_type": "code",
   "execution_count": null,
   "metadata": {},
   "outputs": [],
   "source": []
  }
 ],
 "metadata": {
  "kernelspec": {
   "display_name": "Python 3 (ipykernel)",
   "language": "python",
   "name": "python3"
  },
  "language_info": {
   "codemirror_mode": {
    "name": "ipython",
    "version": 3
   },
   "file_extension": ".py",
   "mimetype": "text/x-python",
   "name": "python",
   "nbconvert_exporter": "python",
   "pygments_lexer": "ipython3",
   "version": "3.8.12"
  }
 },
 "nbformat": 4,
 "nbformat_minor": 4
}
