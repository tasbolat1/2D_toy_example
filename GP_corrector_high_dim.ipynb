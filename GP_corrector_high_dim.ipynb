{
 "cells": [
  {
   "cell_type": "code",
   "execution_count": 1,
   "metadata": {},
   "outputs": [],
   "source": [
    "import torch\n",
    "import matplotlib.pyplot as plt\n",
    "from torch import distributions\n",
    "import seaborn as sns\n",
    "import numpy as np\n",
    "import torch\n",
    "import torch.nn as nn\n",
    "from tqdm.auto import tqdm\n",
    "import matplotlib as mpl\n",
    "mpl.rcParams['font.size'] = 14\n",
    "\n",
    "torch.manual_seed(42)\n",
    "np.random.seed(42)\n",
    "device = torch.device('cuda:0' if torch.cuda.is_available() else 'cpu')\n",
    "\n",
    "from network import ClassifierNN,load_model_info\n",
    "from density_utils import draw_density_ratio, refine_sample, refine_sample2, draw_density_ratio2, draw_density_ratio_GP, refine_sample_GP, refine_sample2_GP\n",
    "\n",
    "from utils import load_item, show_grasp, count_real_positives\n",
    "from dataset import ToyGraspDataset\n",
    "\n",
    "%load_ext autoreload\n",
    "%autoreload 2"
   ]
  },
  {
   "cell_type": "code",
   "execution_count": null,
   "metadata": {},
   "outputs": [],
   "source": []
  },
  {
   "cell_type": "code",
   "execution_count": null,
   "metadata": {},
   "outputs": [],
   "source": []
  },
  {
   "cell_type": "markdown",
   "metadata": {},
   "source": [
    "# GP Classifier Sim+ vs Real+"
   ]
  },
  {
   "cell_type": "code",
   "execution_count": 2,
   "metadata": {},
   "outputs": [
    {
     "data": {
      "text/plain": [
       "<torch._C.Generator at 0x21ac03e15b0>"
      ]
     },
     "execution_count": 2,
     "metadata": {},
     "output_type": "execute_result"
    }
   ],
   "source": [
    "import torch\n",
    "import matplotlib.pyplot as plt\n",
    "from torch import distributions\n",
    "import seaborn as sns\n",
    "import numpy as np\n",
    "import torch\n",
    "import torch.nn as nn\n",
    "from tqdm.auto import tqdm\n",
    "import matplotlib as mpl\n",
    "mpl.rcParams['font.size'] = 14\n",
    "\n",
    "torch.manual_seed(42)\n",
    "np.random.seed(42)\n",
    "device = torch.device('cuda:0' if torch.cuda.is_available() else 'cpu')\n",
    "\n",
    "from network import ClassifierNN, train_network, save_model_info, load_model_info\n",
    "\n",
    "from density_utils import draw_density_ratio, refine_sample, refine_sample2, draw_density_ratio2, refine_sample_GP, draw_density_ratio_GP\n",
    "\n",
    "from utils import load_item, show_grasp\n",
    "from dataset import ToyGraspDataset\n",
    "\n",
    "from torch.utils.data import TensorDataset, DataLoader\n",
    "import torch.optim as optim\n",
    "\n",
    "torch.manual_seed(42)\n"
   ]
  },
  {
   "cell_type": "code",
   "execution_count": 3,
   "metadata": {},
   "outputs": [
    {
     "name": "stdout",
     "output_type": "stream",
     "text": [
      "sim2real!!!\n"
     ]
    },
    {
     "data": {
      "image/png": "[encoded data removed]",
      "text/plain": [
       "<Figure size 1152x1152 with 1 Axes>"
      ]
     },
     "metadata": {
      "needs_background": "light"
     },
     "output_type": "display_data"
    }
   ],
   "source": [
    "# USING 2D FORK DATA ===============================\n",
    "\n",
    "n = 10\n",
    "\n",
    "# train classifier\n",
    "train_dataset = ToyGraspDataset(root='data', name='sim2real_train', size=100, is_pos_label=True, device=device)\n",
    "train_dataloader = DataLoader(train_dataset, batch_size=512, shuffle=True)\n",
    "\n",
    "test_dataset = ToyGraspDataset(root='data', name='sim2real_test', size=n, is_pos_label=True, device=device)\n",
    "test_dataloader = DataLoader(test_dataset, batch_size=512, shuffle=False)\n",
    "\n",
    "\n",
    "\n",
    "# dataset = ToyGraspDataset(root='data', size=50)\n",
    "train_x = torch.Tensor(train_dataset.data[:,:2])\n",
    "train_y = torch.Tensor(train_dataset.data[:,2]).long()\n",
    "x_t = train_x.clone()\n",
    "# Normalize inputs\n",
    "x_t[:,0] /= 244\n",
    "x_t[:,1] /= (3.14*2)\n",
    "\n",
    "x_t = x_t.repeat(1,200)\n",
    "\n",
    "\n",
    "\n",
    "# y = train_dataset.data[:,2].reshape(-1,1)\n",
    "\n",
    "# test_x = torch.Tensor(test_dataset.data[:,:2])\n",
    "# # test_x = torch.Tensor(test_dataset.data[:,:2])\n",
    "# test_x_mat = torch.reshape(test_x[:,0], (n, n))\n",
    "# test_y_mat = torch.reshape(test_x[:,1], (n, n))\n",
    "\n",
    "# test_y = torch.Tensor(test_dataset.data[:,2]).long()\n",
    "# test_labels = torch.reshape(test_y, (n, n))\n",
    "\n",
    "\n",
    "\n",
    "\n",
    "\n",
    "fig = plt.figure(figsize=(16,16))\n",
    "ax1 = fig.add_subplot(221)\n",
    "\n",
    "# show the data\n",
    "data = train_dataset.data\n",
    "pos_masks = data[:,2] == 1\n",
    "neg_masks = ~pos_masks\n",
    "\n",
    "ax1.scatter(data[pos_masks][:,0], data[pos_masks][:,1], marker='.', alpha=1.0, color='b')\n",
    "ax1.scatter(data[neg_masks][:,0], data[neg_masks][:,1], marker='.', alpha=1.0, color='r')\n",
    "ax1.set_title('Sim+ vs Real+ Train')\n",
    "ax1.set_xlabel('Grasp center')\n",
    "ax1.set_ylabel('Grasp angle')\n",
    "\n",
    "\n",
    "\n",
    "\n",
    "\n",
    "# ax2 = fig.add_subplot(222)\n",
    "# test_pos_masks = test_y == 1\n",
    "# test_neg_masks = ~test_pos_masks\n",
    "\n",
    "# ax2.scatter(test_x[test_pos_masks][:,0], test_x[test_pos_masks][:,1], marker='.', alpha=1.0, color='b')\n",
    "# ax2.scatter(test_x[test_neg_masks][:,0], test_x[test_neg_masks][:,1], marker='.', alpha=1.0, color='r')\n",
    "# ax2.set_title('Sim+ vs Real+ Test')\n",
    "# ax2.set_xlabel('Grasp center')\n",
    "# ax2.set_ylabel('Grasp angle')\n",
    "\n",
    "\n",
    "\n",
    "plt.show()"
   ]
  },
  {
   "cell_type": "code",
   "execution_count": 4,
   "metadata": {},
   "outputs": [
    {
     "data": {
      "text/plain": [
       "torch.Size([100, 400])"
      ]
     },
     "execution_count": 4,
     "metadata": {},
     "output_type": "execute_result"
    }
   ],
   "source": [
    "x_t.size()"
   ]
  },
  {
   "cell_type": "code",
   "execution_count": 5,
   "metadata": {},
   "outputs": [
    {
     "name": "stdout",
     "output_type": "stream",
     "text": [
      "The autoreload extension is already loaded. To reload it, use:\n",
      "  %reload_ext autoreload\n",
      "Iter 1/100 - Loss: 1.252   lengthscale: 0.693   noise: 0.693\n",
      "Iter 11/100 - Loss: 0.881   lengthscale: 1.287   noise: 0.312\n",
      "Iter 21/100 - Loss: 0.587   lengthscale: 1.836   noise: 0.128\n",
      "Iter 31/100 - Loss: 0.511   lengthscale: 1.848   noise: 0.061\n",
      "Iter 41/100 - Loss: 0.484   lengthscale: 1.145   noise: 0.052\n",
      "Iter 51/100 - Loss: 0.429   lengthscale: 0.485   noise: 0.056\n",
      "Iter 61/100 - Loss: 0.405   lengthscale: 0.320   noise: 0.043\n",
      "Iter 71/100 - Loss: 0.375   lengthscale: 0.395   noise: 0.029\n",
      "Iter 81/100 - Loss: 0.359   lengthscale: 0.318   noise: 0.021\n",
      "Iter 91/100 - Loss: 0.353   lengthscale: 0.305   noise: 0.017\n"
     ]
    }
   ],
   "source": [
    "import math\n",
    "import torch\n",
    "import numpy as np\n",
    "import gpytorch\n",
    "from matplotlib import pyplot as plt\n",
    "\n",
    "%matplotlib inline\n",
    "%load_ext autoreload\n",
    "%autoreload 2\n",
    "\n",
    "from gpytorch.models import ExactGP\n",
    "from gpytorch.likelihoods import DirichletClassificationLikelihood\n",
    "from gpytorch.means import ConstantMean\n",
    "from gpytorch.kernels import ScaleKernel, RBFKernel\n",
    "\n",
    "from network import ExactGPModel\n",
    "\n",
    "\n",
    "\n",
    "likelihood = gpytorch.likelihoods.GaussianLikelihood()\n",
    "model = ExactGPModel(x_t, train_y, likelihood)\n",
    "\n",
    "# this is for running the notebook in our testing framework\n",
    "import os\n",
    "smoke_test = ('CI' in os.environ)\n",
    "training_iter = 2 if smoke_test else 100\n",
    "\n",
    "\n",
    "# Find optimal model hyperparameters\n",
    "model.train()\n",
    "likelihood.train()\n",
    "\n",
    "# Use the adam optimizer\n",
    "optimizer = torch.optim.Adam(model.parameters(), lr=0.1)  # Includes GaussianLikelihood parameters\n",
    "\n",
    "# \"Loss\" for GPs - the marginal log likelihood\n",
    "mll = gpytorch.mlls.ExactMarginalLogLikelihood(likelihood, model)\n",
    "\n",
    "for i in range(training_iter):\n",
    "    # Zero gradients from previous iteration\n",
    "    optimizer.zero_grad()\n",
    "    # Output from model\n",
    "    output = likelihood(model(x_t))\n",
    "#     print(output.loc[:10])\n",
    "    \n",
    "    # Calc loss and backprop gradients\n",
    "#     loss = -mll(output, likelihood.transformed_targets).sum()\n",
    "    loss = -mll(output, train_y).sum()\n",
    "#     loss = -mll(output, ytrain_tensor)\n",
    "\n",
    "    loss.backward()\n",
    "\n",
    "#     train_accuracy = (torch.round(output.loc.clone()) == train_y).sum().item()\n",
    "    \n",
    "    if i % 10 == 0:\n",
    "\n",
    "        print('Iter %d/%d - Loss: %.3f   lengthscale: %.3f   noise: %.3f' % (\n",
    "            i + 1, training_iter, loss.item(),\n",
    "            model.covar_module.base_kernel.lengthscale.item(),\n",
    "            model.likelihood.noise.item()\n",
    "        ))        \n",
    "#         print('Iter %d/%d - Loss: %.3f - Acc: %.3f' % (i + 1, training_iter, loss.item(), train_accuracy))\n",
    "#         print('Iter %d/%d - Loss: %.3f' % (i + 1, training_iter, loss.item()))\n",
    "    optimizer.step()"
   ]
  },
  {
   "cell_type": "code",
   "execution_count": 6,
   "metadata": {},
   "outputs": [
    {
     "name": "stdout",
     "output_type": "stream",
     "text": [
      "22 78\n",
      "22 78\n"
     ]
    },
    {
     "data": {
      "application/vnd.jupyter.widget-view+json": {
       "model_id": "",
       "version_major": 2,
       "version_minor": 0
      },
      "text/plain": [
       "  0%|          | 0/100 [00:00<?, ?it/s]"
      ]
     },
     "metadata": {},
     "output_type": "display_data"
    }
   ],
   "source": [
    "steps_refinement = 100\n",
    "\n",
    "\n",
    "# from the GP classifier\n",
    "# f2\n",
    "# Nq = info2['pos_samples_size'], Np = info2['neg_samples_size']\n",
    "\n",
    "Nq = int(train_y.sum())\n",
    "Np = int(train_y.size()[0] - train_y.sum())\n",
    "\n",
    "# print(my_sample)\n",
    "# my_sample = torch.FloatTensor([[25, 0.3],\n",
    "my_sample = torch.FloatTensor([[60, 1.5],\n",
    "                               [210, 3]])#[160, 3]\n",
    "# my_sample = torch.FloatTensor([[210, 3]])\n",
    "\n",
    "my_sample[:,0] /= 224\n",
    "my_sample[:,1] /= (2*3.14)\n",
    "\n",
    "my_sample = my_sample.repeat(1,200)\n",
    "\n",
    "model.to(device)\n",
    "model.eval()\n",
    "likelihood.to(device)\n",
    "likelihood.eval()\n",
    "\n",
    "all_x1, all_v1 = refine_sample_GP(my_sample.to(device), model, likelihood, steps=steps_refinement,\n",
    "# all_x1, all_v1 = refine_sample_GP(my_sample.to(device), model, steps=steps_refinement,\n",
    "#                                eta=0.0001, noise_factor=0.0000,\n",
    "                               eta=0.1, noise_factor=0.000,\n",
    "#                                eta=0.5, noise_factor=0.000,\n",
    "                              Nq = Nq, Np = Np)"
   ]
  },
  {
   "cell_type": "code",
   "execution_count": 7,
   "metadata": {
    "scrolled": false
   },
   "outputs": [
    {
     "data": {
      "text/plain": [
       "torch.Size([2, 400])"
      ]
     },
     "execution_count": 7,
     "metadata": {},
     "output_type": "execute_result"
    }
   ],
   "source": [
    "# train_x\n",
    "# all_x1\n",
    "my_sample.size()"
   ]
  },
  {
   "cell_type": "code",
   "execution_count": 9,
   "metadata": {},
   "outputs": [
    {
     "data": {
      "application/vnd.jupyter.widget-view+json": {
       "model_id": "3e214ceab55d4bfd94f25ca23307a4eb",
       "version_major": 2,
       "version_minor": 0
      },
      "text/plain": [
       "  0%|          | 0/10 [00:00<?, ?it/s]"
      ]
     },
     "metadata": {},
     "output_type": "display_data"
    },
    {
     "name": "stdout",
     "output_type": "stream",
     "text": [
      "0.40268606 0.82953876\n"
     ]
    },
    {
     "data": {
      "image/png": "[encoded data removed]",
      "text/plain": [
       "<Figure size 864x864 with 2 Axes>"
      ]
     },
     "metadata": {
      "needs_background": "light"
     },
     "output_type": "display_data"
    }
   ],
   "source": [
    "import torch\n",
    "torch.cuda.empty_cache()\n",
    "fig, ax = plt.subplots(nrows=1, figsize=(12,12))\n",
    "ax.scatter(train_x[pos_masks][:,0], train_x[pos_masks][:,1], marker='.', alpha=0.2, color='b')\n",
    "ax.scatter(train_x[neg_masks][:,0], train_x[neg_masks][:,1], marker='.', alpha=0.2, color='r')\n",
    "\n",
    "plt.scatter(my_sample[:, 0]*224, my_sample[:,1]*(2*3.14), marker='*', color='g', s=200)\n",
    "# plt.scatter(my_sample[:, 0], my_sample[:,1], marker='*', color='g', s=200)\n",
    "\n",
    "for i in range(1, steps_refinement, 1):\n",
    "    plt.scatter(all_x1[i][:, 0]*224, all_x1[i][:,1]*(2*3.14), marker='d', color='g', s=4)\n",
    "#     plt.scatter(all_x1[i][:, 0], all_x1[i][:,1], marker='d', color='g', s=4)\n",
    "\n",
    "\n",
    "Z, CS = draw_density_ratio_GP(ax=ax,\n",
    "                   model=model,\n",
    "                   likelihood=likelihood,\n",
    "                   p_type='p_y_given_x',\n",
    "#                    p_type='log_density_ratio',\n",
    "                   device=device,\n",
    "                   x_lim=[0, 224],\n",
    "                   y_lim=[0, 2*np.pi],\n",
    "                   cmap='RdBu',\n",
    "                   step_size=0.1,\n",
    "                   Np=Np, Nq=Nq)\n",
    "fig.colorbar(CS, ax=ax)\n",
    "\n",
    "\n",
    "\n",
    "ax.set_title(f'GP Classifier Log Density Ratio')\n",
    "ax.set_xlim([0, 300])\n",
    "ax.set_ylim([0, 2*np.pi])\n",
    "\n",
    "plt.show()"
   ]
  },
  {
   "cell_type": "code",
   "execution_count": null,
   "metadata": {},
   "outputs": [],
   "source": []
  },
  {
   "cell_type": "code",
   "execution_count": null,
   "metadata": {},
   "outputs": [],
   "source": []
  },
  {
   "cell_type": "code",
   "execution_count": null,
   "metadata": {},
   "outputs": [],
   "source": []
  },
  {
   "cell_type": "code",
   "execution_count": null,
   "metadata": {},
   "outputs": [],
   "source": []
  },
  {
   "cell_type": "code",
   "execution_count": null,
   "metadata": {},
   "outputs": [],
   "source": []
  },
  {
   "cell_type": "code",
   "execution_count": null,
   "metadata": {},
   "outputs": [],
   "source": []
  },
  {
   "cell_type": "markdown",
   "metadata": {},
   "source": [
    "# Refining Multiple Grasps"
   ]
  },
  {
   "cell_type": "markdown",
   "metadata": {},
   "source": [
    "1. Create test dataset\n",
    "2. Refine datapoints\n",
    "    - using single refinement\n",
    "    - using corrector refinement\n",
    "3. create graph/table"
   ]
  },
  {
   "cell_type": "code",
   "execution_count": null,
   "metadata": {},
   "outputs": [],
   "source": [
    "from dataset import ToyGraspDataset\n",
    "# real_dataset = ToyGraspDataset(root='data', size=10000, is_pos_label=True, device=device)\n",
    "real_dataset = ToyGraspDataset(root='data', name='real_refine', size=200, is_pos_label=True, device=device)\n",
    "\n",
    "# show the data\n",
    "real_data = real_dataset.data\n",
    "real_pos_masks = real_data[:,2] == 1\n",
    "real_neg_masks = ~real_pos_masks\n",
    "\n",
    "\n",
    "fig = plt.figure(figsize=(6,6))\n",
    "ax1 = fig.add_subplot(111)\n",
    "\n",
    "ax1.scatter(real_data[real_pos_masks][:,0], real_data[real_pos_masks][:,1], marker='.', alpha=1.0, color='b')\n",
    "ax1.scatter(real_data[real_neg_masks][:,0], real_data[real_neg_masks][:,1], marker='.', alpha=1.0, color='r')\n",
    "ax1.set_title('Real+ vs Real-')\n",
    "ax1.set_xlabel('Grasp center')\n",
    "ax1.set_ylabel('Grasp angle')\n",
    "\n",
    "plt.show()\n",
    "\n",
    "real_data = torch.tensor(real_data[:,:2])\n",
    "real_data[:,0] /= 224\n",
    "real_data[:,1] /= (2*3.14)\n",
    "\n",
    "all_data = {}"
   ]
  },
  {
   "cell_type": "code",
   "execution_count": null,
   "metadata": {},
   "outputs": [],
   "source": [
    "# load pos vs neg classifier\n",
    "f1 = ClassifierNN([2, 64, 64, 1])\n",
    "f1, info1 = load_model_info('pos_vs_neg', f1)\n",
    "f1 = f1.to(device)\n",
    "all_data['f1'] = f1\n",
    "all_data['info1'] = info1"
   ]
  },
  {
   "cell_type": "code",
   "execution_count": null,
   "metadata": {},
   "outputs": [],
   "source": [
    "# load sim+ vs sim- classifier\n",
    "f2 = ClassifierNN([2, 32, 32, 1])\n",
    "f2, info2 = load_model_info('sim_vs_real_1k', f2)\n",
    "# f2, info2 = load_model_info('sim_vs_real_2.5k', f2)\n",
    "# f2, info2 = load_model_info('sim_vs_real_1k', f2)\n",
    "f2 = f2.to(device)\n",
    "all_data['f2'] = f2\n",
    "all_data['info2'] = info2"
   ]
  },
  {
   "cell_type": "code",
   "execution_count": null,
   "metadata": {},
   "outputs": [],
   "source": [
    "f4 = model\n",
    "info4={}\n",
    "info4['pos_samples_size'] = Nq\n",
    "info4['neg_samples_size'] = Np\n",
    "all_data['f4'] = f4\n",
    "all_data['info4'] = info4"
   ]
  },
  {
   "cell_type": "code",
   "execution_count": null,
   "metadata": {},
   "outputs": [],
   "source": [
    "# set refinement parameters\n",
    "f_div = 'KL'\n",
    "steps_refinement = 100"
   ]
  },
  {
   "cell_type": "markdown",
   "metadata": {},
   "source": [
    "## Classifier Refinement"
   ]
  },
  {
   "cell_type": "code",
   "execution_count": null,
   "metadata": {},
   "outputs": [],
   "source": [
    "all_x1, all_v1 = refine_sample(real_data.to(device), f1, steps=steps_refinement, f=f_div,\n",
    "                               eta=0.00001, noise_factor=0.001,\n",
    "                              Nq = info1['pos_samples_size'], Np = info1['neg_samples_size'])\n",
    "\n",
    "refined_points = all_x1[-1].clone()\n",
    "refined_points[:,0] *= 224\n",
    "refined_points[:,1] *= (2*3.14)*(180/np.pi)\n",
    "\n",
    "n_orig_pos = np.sum(real_pos_masks)\n",
    "n_refined_pos, pos_mask = count_real_positives(refined_points)\n",
    "\n",
    "all_data['all_x1'] = all_x1\n",
    "all_data['all_v1'] = all_v1\n",
    "all_data['n_orig_pos'] = n_orig_pos\n",
    "all_data['n_pos_1'] = n_refined_pos\n",
    "all_data['pos_mask_1'] = pos_mask\n",
    "\n",
    "\n",
    "print(n_orig_pos)\n",
    "print(n_refined_pos)"
   ]
  },
  {
   "cell_type": "markdown",
   "metadata": {},
   "source": [
    "## NN Corrector Refinement "
   ]
  },
  {
   "cell_type": "code",
   "execution_count": null,
   "metadata": {},
   "outputs": [],
   "source": [
    "all_x2, all_v2 = refine_sample(real_data.to(device), f2, steps=steps_refinement, f=f_div,\n",
    "                               eta=0.0001, noise_factor=0.0000,\n",
    "                              Nq = info2['pos_samples_size'], Np = info2['neg_samples_size'])\n",
    "refined_points = all_x2[-1].clone()\n",
    "refined_points[:,0] *= 224\n",
    "refined_points[:,1] *= (2*3.14)*(180/np.pi)\n",
    "\n",
    "n_refined_pos, pos_mask = count_real_positives(refined_points)\n",
    "all_data['pos_mask_2'] = pos_mask\n",
    "\n",
    "all_data['all_x2'] = all_x2\n",
    "all_data['all_v2'] = all_v2\n",
    "all_data['n_pos_2'] = n_refined_pos\n",
    "\n",
    "print(n_orig_pos)\n",
    "print(n_refined_pos)"
   ]
  },
  {
   "cell_type": "markdown",
   "metadata": {},
   "source": [
    "## Classifier + NN Corrector Refinement"
   ]
  },
  {
   "cell_type": "code",
   "execution_count": null,
   "metadata": {},
   "outputs": [],
   "source": [
    "all_x3, all_v3 = refine_sample2(real_data.to(device), f1, f2,\n",
    "                                steps=steps_refinement,\n",
    "#                                 steps=150,\n",
    "                                f=f_div,\n",
    "                                eta=0.00004,\n",
    "                                noise_factor=0.000,\n",
    "                                Np1=info['neg_samples_size'],\n",
    "                                Nq1=info['pos_samples_size'],\n",
    "                                Np2=info2['neg_samples_size'],\n",
    "                                Nq2=info2['pos_samples_size']\n",
    "                                )\n",
    "# all_x8 = torch.cat(all_x8).numpy()\n",
    "\n",
    "refined_points = all_x3[-1].clone()\n",
    "refined_points[:,0] *= 224\n",
    "refined_points[:,1] *= (2*3.14)*(180/np.pi)\n",
    "\n",
    "n_refined_pos, pos_mask = count_real_positives(refined_points)\n",
    "all_data['pos_mask_3'] = pos_mask\n",
    "all_data['all_x3'] = all_x3\n",
    "all_data['all_v3'] = all_v3\n",
    "all_data['n_pos_3'] = n_refined_pos\n",
    "\n",
    "print(n_orig_pos)\n",
    "print(n_refined_pos)"
   ]
  },
  {
   "cell_type": "markdown",
   "metadata": {},
   "source": [
    "## GP Corrector Refinement"
   ]
  },
  {
   "cell_type": "code",
   "execution_count": null,
   "metadata": {},
   "outputs": [],
   "source": [
    "all_x_GC, all_v_GC = refine_sample_GP(real_data.to(device), f4, likelihood,\n",
    "                                steps=steps_refinement,\n",
    "#                                 steps=150,\n",
    "                                f=f_div,\n",
    "                                eta=0.00004,\n",
    "                                noise_factor=0.000,\n",
    "                                Np=info3['neg_samples_size'],\n",
    "                                Nq=info3['pos_samples_size'],\n",
    "                                )\n",
    "# all_x8 = torch.cat(all_x8).numpy()\n",
    "\n",
    "refined_points = all_x_GC[-1].clone()\n",
    "refined_points[:,0] *= 224\n",
    "refined_points[:,1] *= (2*3.14)*(180/np.pi)\n",
    "\n",
    "n_refined_pos, pos_mask = count_real_positives(refined_points)\n",
    "all_data['pos_mask_4'] = pos_mask\n",
    "all_data['likelihood'] = likelihood\n",
    "all_data['all_x4'] = all_x_GP\n",
    "all_data['all_v4'] = all_v_GP\n",
    "all_data['n_pos_4'] = n_refined_pos\n",
    "\n",
    "print(n_orig_pos)\n",
    "print(n_refined_pos)"
   ]
  },
  {
   "cell_type": "markdown",
   "metadata": {},
   "source": [
    "## Classifier + GP Corrector Refinement"
   ]
  },
  {
   "cell_type": "code",
   "execution_count": null,
   "metadata": {},
   "outputs": [],
   "source": [
    "f4 = model\n",
    "info4={}\n",
    "info4['pos_samples_size'] = Nq\n",
    "info4['neg_samples_size'] = Np\n",
    "all_x_GP, all_v_GP = refine_sample2_GP(real_data.to(device), f1, f4, likelihood,\n",
    "                                steps=steps_refinement,\n",
    "#                                 steps=150,\n",
    "                                f=f_div,\n",
    "                                eta=0.00004,\n",
    "                                noise_factor=0.000,\n",
    "                                Np1=info['neg_samples_size'],\n",
    "                                Nq1=info['pos_samples_size'],\n",
    "                                Np2=info3['neg_samples_size'],\n",
    "                                Nq2=info3['pos_samples_size']\n",
    "                                )\n",
    "# all_x8 = torch.cat(all_x8).numpy()\n",
    "\n",
    "refined_points = all_x_GP[-1].clone()\n",
    "refined_points[:,0] *= 224\n",
    "refined_points[:,1] *= (2*3.14)*(180/np.pi)\n",
    "\n",
    "n_refined_pos, pos_mask = count_real_positives(refined_points)\n",
    "all_data['pos_mask_5'] = pos_mask\n",
    "\n",
    "all_data['all_x5'] = all_x_GP\n",
    "all_data['all_v5'] = all_v_GP\n",
    "all_data['n_pos_5'] = n_refined_pos\n",
    "\n",
    "\n",
    "print(n_orig_pos)\n",
    "print(n_refined_pos)"
   ]
  },
  {
   "cell_type": "code",
   "execution_count": null,
   "metadata": {},
   "outputs": [],
   "source": [
    "all_data.keys()"
   ]
  },
  {
   "cell_type": "code",
   "execution_count": null,
   "metadata": {
    "scrolled": false
   },
   "outputs": [],
   "source": [
    "colors = ['b','g','r','c','m','y','k','w']\n",
    "titles = ['',\n",
    "          'NN',\n",
    "          'NN Corrector',\n",
    "          'NN + NN Corrector',\n",
    "          'GP Corrector',\n",
    "          'NN + GP Corrector'\n",
    "         ]\n",
    "\n",
    "fig = plt.figure(figsize=(10,50))\n",
    "\n",
    "for a in range(1,6):\n",
    "    ax = fig.add_subplot(int(f'51{a}'))\n",
    "\n",
    "    fig.colorbar(CS, ax=ax)\n",
    "    ax.set_xlim([0, 224])\n",
    "    ax.set_ylim([0, 2*np.pi])\n",
    "                         \n",
    "    pos_mask = all_data[f'pos_mask_{a}']\n",
    "#     neg_mask = ~pos_mask\n",
    "                         \n",
    "    for i in range(50):\n",
    "#     for i in range(real_data.size(0)):\n",
    "\n",
    "#     if a!=5:\n",
    "#         if pos_mask[i]==True:\n",
    "#             ax.scatter(all_data[f'all_x{a}'][-1][i, 0]*224, all_data[f'all_x{a}'][-1][i,1]*(2*3.14), marker='o', color='b', s=10)\n",
    "#         else:\n",
    "#             ax.scatter(all_data[f'all_x{a}'][-1][i, 0]*224, all_data[f'all_x{a}'][-1][i,1]*(2*3.14), marker='o', color='r', s=10)\n",
    "#     else:\n",
    "        for j in range(1, steps_refinement, 5):\n",
    "            if pos_mask[i]==True:\n",
    "                ax.scatter(all_data[f'all_x{a}'][j][i, 0]*224, all_data[f'all_x{a}'][j][i,1]*(2*3.14), marker='o', color='b', s=10)\n",
    "            else:\n",
    "                ax.scatter(all_data[f'all_x{a}'][j][i, 0]*224, all_data[f'all_x{a}'][j][i,1]*(2*3.14), marker='o', color='r', s=10)\n",
    "\n",
    "#     info = None\n",
    "    \n",
    "    if a<3:\n",
    "        f = all_data[f'f{a}']\n",
    "        info = all_data[f'info{a}']\n",
    "    elif a == 3:\n",
    "        f = all_data['f2']\n",
    "        info = all_data['info2']\n",
    "    elif a>=4:\n",
    "        f = all_data['f4']\n",
    "        info = all_data['info4']             \n",
    "                         \n",
    "    if a < 4:\n",
    "        Z, CS = draw_density_ratio(ax=ax,\n",
    "                           model=f,\n",
    "        #                    p_type='log_density_ratio',\n",
    "                           p_type='p_y_given_x',\n",
    "                           device=device,\n",
    "                           x_lim=[0, 224],\n",
    "                           y_lim=[0, 2*np.pi],\n",
    "                           cmap='RdBu',\n",
    "                           step_size=0.05,\n",
    "                           Np=info['neg_samples_size'], Nq=info['pos_samples_size'])\n",
    "    else:\n",
    "\n",
    "        Z, CS = draw_density_ratio_GP(ax=ax,\n",
    "                           model=f,\n",
    "                           likelihood=all_data['likelihood'],\n",
    "                           p_type='p_y_given_x',\n",
    "        #                    p_type='log_density_ratio',\n",
    "                           device=device,\n",
    "                           x_lim=[0, 224],\n",
    "                           y_lim=[0, 2*np.pi],\n",
    "                           cmap='RdBu',\n",
    "                           step_size=0.1,\n",
    "                           Np=info['neg_samples_size'],\n",
    "                           Nq=info['pos_samples_size'])\n",
    "    # Z, CS = draw_density_ratio2(ax=ax,\n",
    "    #                    model1=f,\n",
    "    #                    model2=f2,\n",
    "    #                    device=device,\n",
    "    #                    x_lim=[0, 224],\n",
    "    #                    y_lim=[0, 2*np.pi],\n",
    "    #                    cmap='RdBu',\n",
    "    #                    step_size=0.05,\n",
    "    #                    Np1=info['neg_samples_size'],\n",
    "    #                    Nq1=info['pos_samples_size'],\n",
    "    #                    Np2=info2['neg_samples_size'],\n",
    "    #                    Nq2=info2['pos_samples_size'])\n",
    "    ax.set_title(f\"{titles[a]} {all_data[f'n_pos_{a}']}/{real_data.size(0)}\", fontsize=20)\n",
    "    \n",
    "\n",
    "\n",
    "plt.show()"
   ]
  },
  {
   "cell_type": "code",
   "execution_count": null,
   "metadata": {},
   "outputs": [],
   "source": [
    "info['pos_samples_size']"
   ]
  },
  {
   "cell_type": "code",
   "execution_count": null,
   "metadata": {},
   "outputs": [],
   "source": [
    "colors = ['b','g','r','c','m','y','k','w']\n",
    "\n",
    "fig, ax = plt.subplots(nrows=1, figsize=(8,8))\n",
    "# ax.scatter(corr_data[c_pos_masks][:,0], corr_data[c_pos_masks][:,1], marker='.', alpha=0.2, color='b')\n",
    "# ax.scatter(corr_data[c_neg_masks][:,0], corr_data[c_neg_masks][:,1], marker='.', alpha=0.2, color='r')\n",
    "\n",
    "\n",
    "# for i in range(real_data.size(0)):\n",
    "# for i in range(10):\n",
    "#     plt.scatter(real_data[i, 0]*224, real_data[i,1]*(2*3.14), marker='*', color=colors[i%8], s=200)\n",
    "#     for j in range(1, steps_refinement, 1):\n",
    "#         plt.scatter(all_x_GP[j][i, 0]*224, all_x_GP[j][i,1]*(2*3.14), marker='d', color=colors[i%8], s=4)\n",
    "\n",
    "\n",
    "\n",
    "for i in range(real_data.size(0)):\n",
    "# for i in range(10):\n",
    "#     plt.scatter(real_data[i, 0]*224, real_data[i,1]*(2*3.14), marker='*', color=colors[i%8], s=200)\n",
    "    plt.scatter(all_x_GP[-1][i, 0]*224, all_x_GP[-1][i,1]*(2*3.14), marker='d', color=colors[i%8], s=4)\n",
    "\n",
    "\n",
    "\n",
    "Z, CS = draw_density_ratio_GP(ax=ax,\n",
    "                   model=f3,\n",
    "                   likelihood=likelihood,\n",
    "                   p_type='p_y_given_x',\n",
    "#                    p_type='log_density_ratio',\n",
    "                   device=device,\n",
    "                   x_lim=[0, 224],\n",
    "                   y_lim=[0, 2*np.pi],\n",
    "                   cmap='RdBu',\n",
    "                   step_size=0.1,\n",
    "                   Np=info3['neg_samples_size'],\n",
    "                   Nq=info3['pos_samples_size'])\n",
    "\n",
    "\n",
    "# ax.set_title(f'Log density ratio')\n",
    "ax.set_title(f'GP Corrector DGflow')\n",
    "fig.colorbar(CS, ax=ax)\n",
    "ax.set_xlim([0, 224])\n",
    "ax.set_ylim([0, 2*np.pi])\n",
    "\n",
    "plt.show()"
   ]
  },
  {
   "cell_type": "code",
   "execution_count": null,
   "metadata": {},
   "outputs": [],
   "source": [
    "colors = ['b','g','r','c','m','y','k','w']\n",
    "\n",
    "fig, ax = plt.subplots(nrows=1, figsize=(12,12))\n",
    "# ax.scatter(corr_data[c_pos_masks][:,0], corr_data[c_pos_masks][:,1], marker='.', alpha=0.2, color='b')\n",
    "# ax.scatter(corr_data[c_neg_masks][:,0], corr_data[c_neg_masks][:,1], marker='.', alpha=0.2, color='r')\n",
    "\n",
    "\n",
    "# for i in range(real_data.size(0)):\n",
    "for i in range(10):\n",
    "    plt.scatter(real_data[i, 0]*224, real_data[i,1]*(2*3.14), marker='*', color=colors[i%8], s=200)\n",
    "    for j in range(1, steps_refinement, 1):\n",
    "        plt.scatter(all_x8[j][i, 0]*224, all_x8[j][i,1]*(2*3.14), marker='d', color=colors[i%8], s=4)\n",
    "#         plt.scatter(all_xr[j][i, 0]*224, all_xr[j][i,1]*(2*3.14), marker='d', color=colors[i%8], s=4)\n",
    "\n",
    "\n",
    "\n",
    "\n",
    "\n",
    "\n",
    "Z, CS = draw_density_ratio_GP(ax=ax,\n",
    "#                    model=f,\n",
    "                   model=f3,\n",
    "                   likelihood=likelihood,\n",
    "#                    p_type='log_density_ratio',\n",
    "                   p_type='p_y_given_x',\n",
    "                   device=device,\n",
    "                   x_lim=[0, 224],\n",
    "                   y_lim=[0, 2*np.pi],\n",
    "                   cmap='RdBu',\n",
    "                   step_size=0.05,\n",
    "                   Np=info3['neg_samples_size'], Nq=info3['pos_samples_size'])\n",
    "\n",
    "# Z, CS = draw_density_ratio2(ax=ax,\n",
    "#                    model1=f,\n",
    "#                    model2=f2,\n",
    "#                    device=device,\n",
    "#                    x_lim=[0, 224],\n",
    "#                    y_lim=[0, 2*np.pi],\n",
    "#                    cmap='RdBu',\n",
    "#                    step_size=0.05,\n",
    "#                    Np1=info['neg_samples_size'],\n",
    "#                    Nq1=info['pos_samples_size'],\n",
    "#                    Np2=info2['neg_samples_size'],\n",
    "#                    Nq2=info2['pos_samples_size'])\n",
    "\n",
    "\n",
    "\n",
    "# ax.set_title(f'Log density ratio')\n",
    "ax.set_title(f'NN Corrector DGflow')\n",
    "fig.colorbar(CS, ax=ax)\n",
    "ax.set_xlim([0, 224])\n",
    "ax.set_ylim([0, 2*np.pi])\n",
    "\n",
    "plt.show()"
   ]
  },
  {
   "cell_type": "code",
   "execution_count": null,
   "metadata": {},
   "outputs": [],
   "source": []
  },
  {
   "cell_type": "code",
   "execution_count": null,
   "metadata": {},
   "outputs": [],
   "source": []
  },
  {
   "cell_type": "code",
   "execution_count": null,
   "metadata": {},
   "outputs": [],
   "source": []
  },
  {
   "cell_type": "code",
   "execution_count": null,
   "metadata": {},
   "outputs": [],
   "source": [
    "item = load_item('fork')"
   ]
  },
  {
   "cell_type": "code",
   "execution_count": null,
   "metadata": {},
   "outputs": [],
   "source": [
    "# from matplotlib.patches import ArrowStyle\n",
    "from matplotlib import animation\n",
    "# arrow_style = ArrowStyle(\"Simple\", head_length=.6, head_width=1.0, tail_width=.1)\n",
    "from matplotlib.patches import Arrow"
   ]
  },
  {
   "cell_type": "code",
   "execution_count": null,
   "metadata": {},
   "outputs": [],
   "source": []
  },
  {
   "cell_type": "code",
   "execution_count": null,
   "metadata": {},
   "outputs": [],
   "source": [
    "%matplotlib notebook"
   ]
  },
  {
   "cell_type": "code",
   "execution_count": null,
   "metadata": {},
   "outputs": [],
   "source": [
    "sample_stream = all_x8[1::2]"
   ]
  },
  {
   "cell_type": "code",
   "execution_count": null,
   "metadata": {},
   "outputs": [],
   "source": [
    "# def animate_grasp(sample_stream, fname):\n",
    "fname = 'bad_to_pos_handle'\n",
    "fig, ax = plt.subplots(nrows=1, figsize=(4, 4))\n",
    "x, angle = sample_stream[0]\n",
    "x *= 224\n",
    "angle *= 2*3.14\n",
    "x2_coef = np.sin(angle)\n",
    "x1_coef = np.cos(angle)\n",
    "x1 = x + x1_coef*50#+50#*50\n",
    "x2 = 224/2 + x2_coef*50# +50#*50\n",
    "\n",
    "im = ax.imshow(item, cmap='Greys')\n",
    "arr1 = Arrow(x1,x2,x+x1_coef*20-x1, 224/2+x2_coef*20-x2, width=15)\n",
    "arr1 = ax.add_patch(arr1)\n",
    "\n",
    "x1 = x - x1_coef*50\n",
    "x2 = 224/2 - x2_coef*50\n",
    "arrow = Arrow(x1,x2, x-x1_coef*20-x1, 224/2-x2_coef*20-x2, width=15)\n",
    "arr2 = ax.add_patch(arrow)\n",
    "\n",
    "origin = ax.scatter(x, 224/2, s=40, color='g')\n",
    "\n",
    "\n",
    "def init():\n",
    "    global im, arr1, arr2, origin\n",
    "\n",
    "    x, angle = sample_stream[0]\n",
    "    x *= 224\n",
    "    angle *= 2*3.14\n",
    "    x2_coef = np.sin(angle)\n",
    "    x1_coef = np.cos(angle)\n",
    "    x1 = x + x1_coef*50#+50#*50\n",
    "    x2 = 224/2 + x2_coef*50# +50#*50\n",
    "\n",
    "    arr1.remove()\n",
    "    arr1 = Arrow(x1,x2,x+x1_coef*20-x1, 224/2+x2_coef*20-x2, width=15)\n",
    "    ax.add_patch(arr1)\n",
    "\n",
    "    arr2.remove()\n",
    "    x1 = x - x1_coef*50\n",
    "    x2 = 224/2 - x2_coef*50\n",
    "    arrow = Arrow(x1,x2, x-x1_coef*20-x1, 224/2-x2_coef*20-x2, width=15)\n",
    "    arr2 = ax.add_patch(arrow)\n",
    "\n",
    "\n",
    "    origin.set_offsets((x, 224/2))\n",
    "    return im, arr1, arr2, origin\n",
    "\n",
    "# let us make animation\n",
    "def animate(i):\n",
    "    global im, arr1, arr2, origin\n",
    "    if i <=30:\n",
    "        init()\n",
    "        return\n",
    "    else:\n",
    "        i = i - 30\n",
    "    x, angle = sample_stream[i]\n",
    "    x *= 224\n",
    "    angle *= 2*3.14\n",
    "    x2_coef = np.sin(angle)\n",
    "    x1_coef = np.cos(angle)\n",
    "    x1 = x + x1_coef*50#+50#*50\n",
    "    x2 = 224/2 + x2_coef*50# +50#*50\n",
    "\n",
    "    arr1.remove()\n",
    "    arrow = Arrow(x1,x2,x+x1_coef*20-x1, 224/2+x2_coef*20-x2, width=15)\n",
    "    arr1 = ax.add_patch(arrow)\n",
    "\n",
    "    arr2.remove()\n",
    "    x1 = x - x1_coef*50\n",
    "    x2 = 224/2 - x2_coef*50\n",
    "    arrow = Arrow(x1,x2, x-x1_coef*20-x1, 224/2-x2_coef*20-x2, width=15)\n",
    "    arr2 = ax.add_patch(arrow)\n",
    "\n",
    "\n",
    "    origin.set_offsets((x, 224/2))\n",
    "    return im, arr1, arr2, origin\n",
    "\n",
    "Writer = animation.writers['ffmpeg']\n",
    "writer = Writer(fps=30, metadata=dict(artist='Me'), bitrate=20000)\n",
    "\n",
    "anim = animation.FuncAnimation(fig, animate, init_func=init, interval=1500, blit=True, frames=30+sample_stream.shape[0])\n",
    "anim.save(f'{fname}.mp4', writer=writer)\n",
    "plt.show()"
   ]
  },
  {
   "cell_type": "code",
   "execution_count": null,
   "metadata": {},
   "outputs": [],
   "source": [
    "sample_stream = all_x8[::2]"
   ]
  },
  {
   "cell_type": "code",
   "execution_count": null,
   "metadata": {},
   "outputs": [],
   "source": [
    "# def animate_grasp(sample_stream, fname):\n",
    "fname = 'neg_to_pos'\n",
    "fig, ax = plt.subplots(nrows=1, figsize=(4, 4))\n",
    "x, angle = sample_stream[0]\n",
    "x *= 224\n",
    "angle *= 2*3.14\n",
    "x2_coef = np.sin(angle)\n",
    "x1_coef = np.cos(angle)\n",
    "x1 = x + x1_coef*50#+50#*50\n",
    "x2 = 224/2 + x2_coef*50# +50#*50\n",
    "\n",
    "im = ax.imshow(item, cmap='Greys')\n",
    "arr1 = Arrow(x1,x2,x+x1_coef*20-x1, 224/2+x2_coef*20-x2, width=15)\n",
    "arr1 = ax.add_patch(arr1)\n",
    "\n",
    "x1 = x - x1_coef*50\n",
    "x2 = 224/2 - x2_coef*50\n",
    "arrow = Arrow(x1,x2, x-x1_coef*20-x1, 224/2-x2_coef*20-x2, width=15)\n",
    "arr2 = ax.add_patch(arrow)\n",
    "\n",
    "origin = ax.scatter(x, 224/2, s=40, color='g')\n",
    "\n",
    "\n",
    "def init():\n",
    "    global im, arr1, arr2, origin\n",
    "\n",
    "    x, angle = sample_stream[0]\n",
    "    x *= 224\n",
    "    angle *= 2*3.14\n",
    "    x2_coef = np.sin(angle)\n",
    "    x1_coef = np.cos(angle)\n",
    "    x1 = x + x1_coef*50#+50#*50\n",
    "    x2 = 224/2 + x2_coef*50# +50#*50\n",
    "\n",
    "    arr1.remove()\n",
    "    arr1 = Arrow(x1,x2,x+x1_coef*20-x1, 224/2+x2_coef*20-x2, width=15)\n",
    "    ax.add_patch(arr1)\n",
    "\n",
    "    arr2.remove()\n",
    "    x1 = x - x1_coef*50\n",
    "    x2 = 224/2 - x2_coef*50\n",
    "    arrow = Arrow(x1,x2, x-x1_coef*20-x1, 224/2-x2_coef*20-x2, width=15)\n",
    "    arr2 = ax.add_patch(arrow)\n",
    "\n",
    "\n",
    "    origin.set_offsets((x, 224/2))\n",
    "    return im, arr1, arr2, origin\n",
    "\n",
    "# let us make animation\n",
    "def animate(i):\n",
    "    global im, arr1, arr2, origin\n",
    "    if i <=30:\n",
    "        init()\n",
    "        return\n",
    "    else:\n",
    "        i = i - 30\n",
    "    x, angle = sample_stream[i]\n",
    "    x *= 224\n",
    "    angle *= 2*3.14\n",
    "    x2_coef = np.sin(angle)\n",
    "    x1_coef = np.cos(angle)\n",
    "    x1 = x + x1_coef*50#+50#*50\n",
    "    x2 = 224/2 + x2_coef*50# +50#*50\n",
    "\n",
    "    arr1.remove()\n",
    "    arrow = Arrow(x1,x2,x+x1_coef*20-x1, 224/2+x2_coef*20-x2, width=15)\n",
    "    arr1 = ax.add_patch(arrow)\n",
    "\n",
    "    arr2.remove()\n",
    "    x1 = x - x1_coef*50\n",
    "    x2 = 224/2 - x2_coef*50\n",
    "    arrow = Arrow(x1,x2, x-x1_coef*20-x1, 224/2-x2_coef*20-x2, width=15)\n",
    "    arr2 = ax.add_patch(arrow)\n",
    "\n",
    "\n",
    "    origin.set_offsets((x, 224/2))\n",
    "    return im, arr1, arr2, origin\n",
    "\n",
    "Writer = animation.writers['ffmpeg']\n",
    "writer = Writer(fps=30, metadata=dict(artist='Me'), bitrate=20000)\n",
    "\n",
    "anim = animation.FuncAnimation(fig, animate, init_func=init, interval=1500, blit=True, frames=30+sample_stream.shape[0])\n",
    "anim.save(f'{fname}.mp4', writer=writer)\n",
    "plt.show()"
   ]
  },
  {
   "cell_type": "code",
   "execution_count": null,
   "metadata": {},
   "outputs": [],
   "source": []
  }
 ],
 "metadata": {
  "kernelspec": {
   "display_name": "Python 3 (ipykernel)",
   "language": "python",
   "name": "python3"
  },
  "language_info": {
   "codemirror_mode": {
    "name": "ipython",
    "version": 3
   },
   "file_extension": ".py",
   "mimetype": "text/x-python",
   "name": "python",
   "nbconvert_exporter": "python",
   "pygments_lexer": "ipython3",
   "version": "3.8.12"
  }
 },
 "nbformat": 4,
 "nbformat_minor": 4
}
