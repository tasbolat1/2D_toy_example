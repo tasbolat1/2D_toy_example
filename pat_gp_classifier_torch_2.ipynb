{
 "cells": [
  {
   "cell_type": "code",
   "execution_count": 7,
   "id": "bb4221d6",
   "metadata": {},
   "outputs": [],
   "source": [
    "import math\n",
    "import torch\n",
    "import gpytorch\n",
    "from matplotlib import pyplot as plt\n",
    "\n",
    "%matplotlib inline"
   ]
  },
  {
   "cell_type": "code",
   "execution_count": 10,
   "id": "d34cd980",
   "metadata": {},
   "outputs": [],
   "source": [
    "train_x = torch.linspace(0, 1, 10)\n",
    "train_y = torch.sign(torch.cos(train_x * (4 * math.pi)))"
   ]
  },
  {
   "cell_type": "code",
   "execution_count": 11,
   "id": "e7d7279b",
   "metadata": {},
   "outputs": [],
   "source": [
    "from gpytorch.models import AbstractVariationalGP\n",
    "from gpytorch.variational import CholeskyVariationalDistribution\n",
    "from gpytorch.variational import VariationalStrategy\n",
    "\n",
    "\n",
    "class GPClassificationModel(AbstractVariationalGP):\n",
    "    def __init__(self, train_x):\n",
    "        variational_distribution = CholeskyVariationalDistribution(train_x.size(0))\n",
    "        variational_strategy = VariationalStrategy(self, train_x, variational_distribution)\n",
    "        super(GPClassificationModel, self).__init__(variational_strategy)\n",
    "        self.mean_module = gpytorch.means.ConstantMean()\n",
    "        self.covar_module = gpytorch.kernels.ScaleKernel(gpytorch.kernels.RBFKernel())\n",
    "\n",
    "    def forward(self, x):\n",
    "        mean_x = self.mean_module(x)\n",
    "        covar_x = self.covar_module(x)\n",
    "        latent_pred = gpytorch.distributions.MultivariateNormal(mean_x, covar_x)\n",
    "        return latent_pred\n",
    "\n",
    "\n",
    "# Initialize model and likelihood\n",
    "model = GPClassificationModel(train_x)\n",
    "likelihood = gpytorch.likelihoods.BernoulliLikelihood()\n",
    "# likelihood = gpytorch.likelihoods.GaussianLikelihood()"
   ]
  },
  {
   "cell_type": "code",
   "execution_count": 12,
   "id": "223187e7",
   "metadata": {},
   "outputs": [
    {
     "name": "stdout",
     "output_type": "stream",
     "text": [
      "Iter 1/50 - Loss: 0.908\n",
      "Iter 2/50 - Loss: 0.840\n",
      "Iter 3/50 - Loss: 0.797\n",
      "Iter 4/50 - Loss: 0.790\n",
      "Iter 5/50 - Loss: 0.787\n",
      "Iter 6/50 - Loss: 0.780\n",
      "Iter 7/50 - Loss: 0.774\n",
      "Iter 8/50 - Loss: 0.768\n",
      "Iter 9/50 - Loss: 0.764\n",
      "Iter 10/50 - Loss: 0.759\n",
      "Iter 11/50 - Loss: 0.752\n",
      "Iter 12/50 - Loss: 0.746\n",
      "Iter 13/50 - Loss: 0.742\n",
      "Iter 14/50 - Loss: 0.739\n",
      "Iter 15/50 - Loss: 0.738\n",
      "Iter 16/50 - Loss: 0.735\n",
      "Iter 17/50 - Loss: 0.731\n",
      "Iter 18/50 - Loss: 0.727\n",
      "Iter 19/50 - Loss: 0.725\n",
      "Iter 20/50 - Loss: 0.723\n",
      "Iter 21/50 - Loss: 0.721\n",
      "Iter 22/50 - Loss: 0.719\n",
      "Iter 23/50 - Loss: 0.716\n",
      "Iter 24/50 - Loss: 0.714\n",
      "Iter 25/50 - Loss: 0.712\n",
      "Iter 26/50 - Loss: 0.710\n",
      "Iter 27/50 - Loss: 0.709\n",
      "Iter 28/50 - Loss: 0.707\n",
      "Iter 29/50 - Loss: 0.705\n",
      "Iter 30/50 - Loss: 0.703\n",
      "Iter 31/50 - Loss: 0.702\n",
      "Iter 32/50 - Loss: 0.701\n",
      "Iter 33/50 - Loss: 0.699\n",
      "Iter 34/50 - Loss: 0.698\n",
      "Iter 35/50 - Loss: 0.697\n",
      "Iter 36/50 - Loss: 0.696\n",
      "Iter 37/50 - Loss: 0.695\n",
      "Iter 38/50 - Loss: 0.694\n",
      "Iter 39/50 - Loss: 0.693\n",
      "Iter 40/50 - Loss: 0.692\n",
      "Iter 41/50 - Loss: 0.691\n",
      "Iter 42/50 - Loss: 0.691\n",
      "Iter 43/50 - Loss: 0.690\n",
      "Iter 44/50 - Loss: 0.689\n",
      "Iter 45/50 - Loss: 0.688\n",
      "Iter 46/50 - Loss: 0.688\n",
      "Iter 47/50 - Loss: 0.687\n",
      "Iter 48/50 - Loss: 0.687\n",
      "Iter 49/50 - Loss: 0.686\n",
      "Iter 50/50 - Loss: 0.686\n"
     ]
    }
   ],
   "source": [
    "from gpytorch.mlls.variational_elbo import VariationalELBO\n",
    "\n",
    "# Find optimal model hyperparameters\n",
    "model.train()\n",
    "likelihood.train()\n",
    "\n",
    "# Use the adam optimizer\n",
    "optimizer = torch.optim.Adam(model.parameters(), lr=0.1)\n",
    "\n",
    "# \"Loss\" for GPs - the marginal log likelihood\n",
    "# num_data refers to the amount of training data\n",
    "mll = VariationalELBO(likelihood, model, train_y.numel())\n",
    "\n",
    "training_iter = 50\n",
    "for i in range(training_iter):\n",
    "    # Zero backpropped gradients from previous iteration\n",
    "    optimizer.zero_grad()\n",
    "    # Get predictive output\n",
    "    output = model(train_x)\n",
    "    # Calc loss and backprop gradients\n",
    "    loss = -mll(output, train_y)\n",
    "    loss.backward()\n",
    "    print('Iter %d/%d - Loss: %.3f' % (i + 1, training_iter, loss.item()))\n",
    "    optimizer.step()"
   ]
  },
  {
   "cell_type": "code",
   "execution_count": 13,
   "id": "d18b7ea5",
   "metadata": {},
   "outputs": [
    {
     "data": {
      "image/png": "[encoded data removed]",
      "text/plain": [
       "<Figure size 720x720 with 1 Axes>"
      ]
     },
     "metadata": {
      "needs_background": "light"
     },
     "output_type": "display_data"
    }
   ],
   "source": [
    "# Go into eval mode\n",
    "model.eval()\n",
    "likelihood.eval()\n",
    "\n",
    "with torch.no_grad():\n",
    "    # Test x are regularly spaced by 0.01 0,1 inclusive\n",
    "    test_x = torch.linspace(0, 1, 101)\n",
    "    # Get classification predictions\n",
    "    observed_pred = likelihood(model(test_x))\n",
    "\n",
    "    # Initialize fig and axes for plot\n",
    "    f, ax = plt.subplots(1, 1, figsize=(10, 10))\n",
    "    ax.plot(train_x.numpy(), train_y.numpy(), 'k*')\n",
    "    # Get the predicted labels (probabilites of belonging to the positive class)\n",
    "    # Transform these probabilities to be 0/1 labels\n",
    "    pred_labels = observed_pred.mean.ge(0.5).float().mul(2).sub(1)\n",
    "    ax.plot(test_x.numpy(), pred_labels.numpy(), 'b')\n",
    "    ax.set_ylim([-3, 3])\n",
    "    ax.legend(['Observed Data', 'Mean', 'Confidence'])"
   ]
  },
  {
   "cell_type": "code",
   "execution_count": null,
   "id": "fd552d46",
   "metadata": {},
   "outputs": [],
   "source": []
  }
 ],
 "metadata": {
  "kernelspec": {
   "display_name": "Python 3 (ipykernel)",
   "language": "python",
   "name": "python3"
  },
  "language_info": {
   "codemirror_mode": {
    "name": "ipython",
    "version": 3
   },
   "file_extension": ".py",
   "mimetype": "text/x-python",
   "name": "python",
   "nbconvert_exporter": "python",
   "pygments_lexer": "ipython3",
   "version": "3.8.12"
  }
 },
 "nbformat": 4,
 "nbformat_minor": 5
}
