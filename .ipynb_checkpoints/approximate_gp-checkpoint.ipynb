{
 "cells": [
  {
   "cell_type": "code",
   "execution_count": 1,
   "metadata": {},
   "outputs": [],
   "source": [
    "import torch\n",
    "import matplotlib.pyplot as plt\n",
    "from torch import distributions\n",
    "import seaborn as sns\n",
    "import numpy as np\n",
    "import torch\n",
    "import torch.nn as nn\n",
    "from tqdm.auto import tqdm\n",
    "import matplotlib as mpl\n",
    "mpl.rcParams['font.size'] = 14\n",
    "\n",
    "torch.manual_seed(42)\n",
    "np.random.seed(42)\n",
    "device = torch.device('cuda:0' if torch.cuda.is_available() else 'cpu')\n",
    "\n",
    "from network import ClassifierNN,load_model_info\n",
    "from density_utils import draw_density_ratio, refine_sample, refine_sample2, draw_density_ratio2, draw_density_ratio_GP, refine_sample_GP, refine_sample2_GP\n",
    "\n",
    "from utils import load_item, show_grasp, count_real_positives\n",
    "from dataset import ToyGraspDataset\n",
    "\n",
    "%load_ext autoreload\n",
    "%autoreload 2"
   ]
  },
  {
   "cell_type": "code",
   "execution_count": null,
   "metadata": {},
   "outputs": [],
   "source": []
  },
  {
   "cell_type": "code",
   "execution_count": null,
   "metadata": {},
   "outputs": [],
   "source": []
  },
  {
   "cell_type": "markdown",
   "metadata": {},
   "source": [
    "# GP Classifier Sim+ vs Real+"
   ]
  },
  {
   "cell_type": "code",
   "execution_count": 2,
   "metadata": {},
   "outputs": [
    {
     "data": {
      "text/plain": [
       "<torch._C.Generator at 0x7f9314106530>"
      ]
     },
     "execution_count": 2,
     "metadata": {},
     "output_type": "execute_result"
    }
   ],
   "source": [
    "import torch\n",
    "import matplotlib.pyplot as plt\n",
    "from torch import distributions\n",
    "import seaborn as sns\n",
    "import numpy as np\n",
    "import torch\n",
    "import torch.nn as nn\n",
    "from tqdm.auto import tqdm\n",
    "import matplotlib as mpl\n",
    "mpl.rcParams['font.size'] = 14\n",
    "\n",
    "torch.manual_seed(42)\n",
    "np.random.seed(42)\n",
    "device = torch.device('cuda:0' if torch.cuda.is_available() else 'cpu')\n",
    "\n",
    "from network import ClassifierNN, train_network, save_model_info, load_model_info\n",
    "\n",
    "from density_utils import draw_density_ratio, refine_sample, refine_sample2, draw_density_ratio2, refine_sample_GP, draw_density_ratio_GP\n",
    "\n",
    "from utils import load_item, show_grasp\n",
    "from dataset import ToyGraspDataset\n",
    "\n",
    "from torch.utils.data import TensorDataset, DataLoader\n",
    "import torch.optim as optim\n",
    "\n",
    "torch.manual_seed(42)\n"
   ]
  },
  {
   "cell_type": "code",
   "execution_count": 3,
   "metadata": {},
   "outputs": [
    {
     "name": "stdout",
     "output_type": "stream",
     "text": [
      "sim2real!!!\n"
     ]
    },
    {
     "data": {
      "image/png": "[encoded data removed]",
      "text/plain": [
       "<Figure size 1152x1152 with 1 Axes>"
      ]
     },
     "metadata": {
      "needs_background": "light"
     },
     "output_type": "display_data"
    }
   ],
   "source": [
    "# USING 2D FORK DATA ===============================\n",
    "\n",
    "n = 10\n",
    "\n",
    "# train classifier\n",
    "train_dataset = ToyGraspDataset(root='data', name='sim2real_train', size=100, is_pos_label=True, device=device)\n",
    "# train_dataloader = DataLoader(train_dataset, batch_size=10, shuffle=True)\n",
    "\n",
    "test_dataset = ToyGraspDataset(root='data', name='sim2real_test', size=n, is_pos_label=True, device=device)\n",
    "# test_dataloader = DataLoader(test_dataset, batch_size=512, shuffle=False)\n",
    "\n",
    "\n",
    "\n",
    "# dataset = ToyGraspDataset(root='data', size=50)\n",
    "train_x = torch.Tensor(train_dataset.data[:,:2])\n",
    "train_y = torch.Tensor(train_dataset.data[:,2]).long().to(device)\n",
    "\n",
    "x_t = train_x.clone().to(device)\n",
    "# Normalize inputs\n",
    "x_t[:,0] /= 244\n",
    "x_t[:,1] /= (3.14*2)\n",
    "\n",
    "\n",
    "fig = plt.figure(figsize=(16,16))\n",
    "ax1 = fig.add_subplot(221)\n",
    "\n",
    "# show the data\n",
    "data = train_dataset.data\n",
    "pos_masks = data[:,2] == 1\n",
    "neg_masks = ~pos_masks\n",
    "\n",
    "ax1.scatter(data[pos_masks][:,0], data[pos_masks][:,1], marker='.', alpha=1.0, color='b')\n",
    "ax1.scatter(data[neg_masks][:,0], data[neg_masks][:,1], marker='.', alpha=1.0, color='r')\n",
    "ax1.set_title('Sim+ vs Real+ Train')\n",
    "ax1.set_xlabel('Grasp center')\n",
    "ax1.set_ylabel('Grasp angle')\n",
    "\n",
    "plt.show()"
   ]
  },
  {
   "cell_type": "code",
   "execution_count": 14,
   "metadata": {},
   "outputs": [
    {
     "name": "stdout",
     "output_type": "stream",
     "text": [
      "The autoreload extension is already loaded. To reload it, use:\n",
      "  %reload_ext autoreload\n",
      "Iter 1/100 - Loss: 1.177   lengthscale: 0.744   noise: 0.644\n",
      "Iter 11/100 - Loss: 0.846   lengthscale: 1.348   noise: 0.287\n",
      "Iter 21/100 - Loss: 0.595   lengthscale: 1.886   noise: 0.120\n",
      "Iter 31/100 - Loss: 0.565   lengthscale: 2.031   noise: 0.067\n",
      "Iter 41/100 - Loss: 0.560   lengthscale: 1.719   noise: 0.073\n",
      "Iter 51/100 - Loss: 0.549   lengthscale: 1.283   noise: 0.092\n",
      "Iter 61/100 - Loss: 0.547   lengthscale: 0.898   noise: 0.092\n",
      "Iter 71/100 - Loss: 0.541   lengthscale: 0.515   noise: 0.083\n",
      "Iter 81/100 - Loss: 0.529   lengthscale: 0.165   noise: 0.082\n",
      "Iter 91/100 - Loss: 0.502   lengthscale: 0.038   noise: 0.078\n"
     ]
    }
   ],
   "source": [
    "import math\n",
    "import torch\n",
    "import numpy as np\n",
    "import gpytorch\n",
    "from matplotlib import pyplot as plt\n",
    "\n",
    "%matplotlib inline\n",
    "%load_ext autoreload\n",
    "%autoreload 2\n",
    "\n",
    "from gpytorch.models import ExactGP\n",
    "from gpytorch.likelihoods import DirichletClassificationLikelihood\n",
    "from gpytorch.means import ConstantMean\n",
    "from gpytorch.kernels import ScaleKernel, RBFKernel\n",
    "\n",
    "from network import ExactGPModel\n",
    "\n",
    "\n",
    "\n",
    "\n",
    "\n",
    "likelihood = gpytorch.likelihoods.GaussianLikelihood().to(device)\n",
    "model = ExactGPModel(x_t, train_y, likelihood).to(device)\n",
    "\n",
    "\n",
    "\n",
    "\n",
    "# this is for running the notebook in our testing framework\n",
    "import os\n",
    "smoke_test = ('CI' in os.environ)\n",
    "training_iter = 2 if smoke_test else 100\n",
    "\n",
    "\n",
    "# Find optimal model hyperparameters\n",
    "model.train()\n",
    "likelihood.train()\n",
    "\n",
    "# Use the adam optimizer\n",
    "optimizer = torch.optim.Adam(model.parameters(), lr=0.1)  # Includes GaussianLikelihood parameters\n",
    "\n",
    "# \"Loss\" for GPs - the marginal log likelihood\n",
    "mll = gpytorch.mlls.ExactMarginalLogLikelihood(likelihood, model)\n",
    "\n",
    "for i in range(training_iter):\n",
    "    # Zero gradients from previous iteration\n",
    "    optimizer.zero_grad()\n",
    "\n",
    "    # Output from model\n",
    "    output = likelihood(model(x_t))\n",
    "\n",
    "    # Calc loss and backprop gradients\n",
    "    loss = -mll(output, train_y).sum()\n",
    "    loss.backward()\n",
    "    optimizer.step()\n",
    "        \n",
    "    if i % 10 == 0:\n",
    "\n",
    "        print('Iter %d/%d - Loss: %.3f   lengthscale: %.3f   noise: %.3f' % (\n",
    "            i + 1, training_iter, loss.item(),\n",
    "            model.covar_module.base_kernel.lengthscale.item(),\n",
    "            model.likelihood.noise.item()\n",
    "        ))        \n",
    "#         print('Iter %d/%d - Loss: %.3f - Acc: %.3f' % (i + 1, training_iter, loss.item(), train_accuracy))\n",
    "#         print('Iter %d/%d - Loss: %.3f' % (i + 1, training_iter, loss.item()))\n"
   ]
  },
  {
   "cell_type": "code",
   "execution_count": 5,
   "metadata": {},
   "outputs": [
    {
     "name": "stdout",
     "output_type": "stream",
     "text": [
      "22 78\n",
      "22 78\n"
     ]
    },
    {
     "data": {
      "application/vnd.jupyter.widget-view+json": {
       "model_id": "",
       "version_major": 2,
       "version_minor": 0
      },
      "text/plain": [
       "  0%|          | 0/100 [00:00<?, ?it/s]"
      ]
     },
     "metadata": {},
     "output_type": "display_data"
    }
   ],
   "source": [
    "steps_refinement = 100\n",
    "\n",
    "\n",
    "# from the GP classifier\n",
    "# f2\n",
    "# Nq = info2['pos_samples_size'], Np = info2['neg_samples_size']\n",
    "\n",
    "Nq = int(train_y.sum())\n",
    "Np = int(train_y.size()[0] - train_y.sum())\n",
    "\n",
    "# print(my_sample)\n",
    "# my_sample = torch.FloatTensor([[25, 0.3],\n",
    "my_sample = torch.FloatTensor([[60, 1.5],\n",
    "                               [210, 3]])#[160, 3]\n",
    "# my_sample = torch.FloatTensor([[210, 3]])\n",
    "\n",
    "my_sample[:,0] /= 224\n",
    "my_sample[:,1] /= (2*3.14)\n",
    "\n",
    "# my_sample = my_sample.repeat(1,200)\n",
    "\n",
    "model.to(device)\n",
    "model.eval()\n",
    "likelihood.to(device)\n",
    "likelihood.eval()\n",
    "\n",
    "all_x1, all_v1 = refine_sample_GP(my_sample.to(device), model, likelihood, steps=steps_refinement,\n",
    "# all_x1, all_v1 = refine_sample_GP(my_sample.to(device), model, steps=steps_refinement,\n",
    "#                                eta=0.0001, noise_factor=0.0000,\n",
    "                               eta=0.1, noise_factor=0.000,\n",
    "#                                eta=0.5, noise_factor=0.000,\n",
    "                              Nq = Nq, Np = Np)"
   ]
  },
  {
   "cell_type": "code",
   "execution_count": 18,
   "metadata": {
    "scrolled": false
   },
   "outputs": [
    {
     "name": "stdout",
     "output_type": "stream",
     "text": [
      "0.9480287432670593 -0.016966059803962708\n"
     ]
    }
   ],
   "source": [
    "# # train_x\n",
    "# # all_x1\n",
    "# # my_sample.size()\n",
    "# # my_sample\n",
    "# model.eval()\n",
    "# # print(x_t)\n",
    "# out = model(x_t.to(device)).loc\n",
    "# print(max(out).item(), min(out).item())"
   ]
  },
  {
   "cell_type": "code",
   "execution_count": 72,
   "metadata": {
    "scrolled": false
   },
   "outputs": [
    {
     "data": {
      "application/vnd.jupyter.widget-view+json": {
       "model_id": "e92051a40b8e44099ee12dc64a1fb836",
       "version_major": 2,
       "version_minor": 0
      },
      "text/plain": [
       "  0%|          | 0/10 [00:00<?, ?it/s]"
      ]
     },
     "metadata": {},
     "output_type": "display_data"
    },
    {
     "name": "stdout",
     "output_type": "stream",
     "text": [
      "logit: tensor([0.1820, 0.1820, 0.1821,  ..., 0.1823, 0.1823, 0.1823], device='cuda:0')\n",
      "logit: tensor([-0.0190, -0.0190, -0.0190,  ...,  0.4251,  0.4275,  0.4298],\n",
      "       device='cuda:0')\n",
      "logit: tensor([-0.0336, -0.0336, -0.0336,  ...,  0.8124,  0.8125,  0.8125],\n",
      "       device='cuda:0')\n",
      "logit: tensor([-0.0173, -0.0173, -0.0173,  ...,  0.1823,  0.1823,  0.1823],\n",
      "       device='cuda:0')\n",
      "logit: tensor([0.1811, 0.1811, 0.1811,  ..., 0.1823, 0.1823, 0.1823], device='cuda:0')\n",
      "logit: tensor([0.1706, 0.1706, 0.1706,  ..., 0.1823, 0.1823, 0.1823], device='cuda:0')\n",
      "logit: tensor([-0.0530, -0.0530, -0.0530,  ...,  0.8904,  0.8904,  0.8904],\n",
      "       device='cuda:0')\n",
      "logit: tensor([-0.0267, -0.0266, -0.0266,  ...,  0.9466,  0.9466,  0.9466],\n",
      "       device='cuda:0')\n",
      "logit: tensor([0.0881, 0.0881, 0.0881,  ..., 0.1824, 0.1824, 0.1824], device='cuda:0')\n",
      "logit: tensor([0.1823, 0.1823, 0.1823, 0.1823, 0.1823, 0.1823, 0.1823, 0.1823, 0.1823,\n",
      "        0.1823, 0.1823, 0.1823, 0.1823, 0.1823, 0.1823, 0.1823, 0.1823, 0.1823,\n",
      "        0.1823, 0.1823, 0.1823, 0.1823, 0.1823, 0.1823, 0.1823, 0.1823, 0.1823,\n",
      "        0.1823, 0.1823, 0.1823, 0.1823, 0.1823, 0.1823, 0.1823, 0.1823, 0.1823,\n",
      "        0.1823, 0.1823, 0.1823, 0.1823, 0.1823, 0.1823, 0.1823, 0.1823, 0.1823,\n",
      "        0.1823, 0.1823, 0.1823, 0.1823, 0.1823, 0.1823, 0.1823, 0.1823, 0.1823,\n",
      "        0.1823, 0.1823, 0.1823, 0.1823, 0.1823, 0.1823, 0.1823, 0.1823, 0.1823,\n",
      "        0.1823, 0.1823, 0.1823, 0.1823, 0.1823, 0.1823, 0.1823, 0.1823, 0.1823,\n",
      "        0.1823, 0.1823, 0.1823, 0.1823, 0.1823, 0.1823, 0.1823, 0.1823, 0.1823,\n",
      "        0.1823, 0.1823, 0.1823, 0.1823, 0.1823, 0.1823, 0.1823, 0.1823, 0.1823,\n",
      "        0.1823, 0.1823, 0.1823, 0.1823, 0.1823, 0.1823, 0.1823, 0.1823, 0.1823,\n",
      "        0.1823, 0.1823, 0.1823, 0.1823, 0.1823, 0.1823], device='cuda:0')\n",
      "0.48674697 0.72043955\n"
     ]
    },
    {
     "data": {
      "image/png": "[encoded data removed]",
      "text/plain": [
       "<Figure size 864x864 with 2 Axes>"
      ]
     },
     "metadata": {
      "needs_background": "light"
     },
     "output_type": "display_data"
    }
   ],
   "source": [
    "import torch\n",
    "torch.cuda.empty_cache()\n",
    "fig, ax = plt.subplots(nrows=1, figsize=(12,12))\n",
    "ax.scatter(train_x[pos_masks][:,0], train_x[pos_masks][:,1], marker='.', alpha=0.2, color='b')\n",
    "ax.scatter(train_x[neg_masks][:,0], train_x[neg_masks][:,1], marker='.', alpha=0.2, color='r')\n",
    "\n",
    "plt.scatter(my_sample[:, 0]*224, my_sample[:,1]*(2*3.14), marker='*', color='g', s=200)\n",
    "# plt.scatter(my_sample[:, 0], my_sample[:,1], marker='*', color='g', s=200)\n",
    "\n",
    "for i in range(1, steps_refinement, 1):\n",
    "    plt.scatter(all_x1[i][:, 0]*224, all_x1[i][:,1]*(2*3.14), marker='d', color='g', s=4)\n",
    "#     plt.scatter(all_x1[i][:, 0], all_x1[i][:,1], marker='d', color='g', s=4)\n",
    "\n",
    "\n",
    "Z, CS = draw_density_ratio_GP(ax=ax,\n",
    "                   model=model,\n",
    "                   likelihood=likelihood,\n",
    "                   p_type='p_y_given_x',\n",
    "#                    p_type='log_density_ratio',\n",
    "                   device=device,\n",
    "                   x_lim=[0, 224],\n",
    "                   y_lim=[0, 2*np.pi],\n",
    "                   cmap='RdBu',\n",
    "                   step_size=0.1,\n",
    "                   Np=Np, Nq=Nq)\n",
    "fig.colorbar(CS, ax=ax)\n",
    "\n",
    "\n",
    "\n",
    "ax.set_title(f'GP Classifier Log Density Ratio')\n",
    "ax.set_xlim([0, 300])\n",
    "ax.set_ylim([0, 2*np.pi])\n",
    "\n",
    "plt.show()"
   ]
  },
  {
   "cell_type": "code",
   "execution_count": 83,
   "metadata": {},
   "outputs": [
    {
     "data": {
      "text/plain": [
       "tensor([0.0598, 0.7115], device='cuda:0', grad_fn=<ViewBackward0>)"
      ]
     },
     "execution_count": 83,
     "metadata": {},
     "output_type": "execute_result"
    }
   ],
   "source": [
    "my_sample = torch.FloatTensor([[60, 1.5],\n",
    "                               [85, 1.5]]).to(device)\n",
    "\n",
    "my_sample[:,0] /= 224\n",
    "my_sample[:,1] /= (2*3.14)\n",
    "\n",
    "\n",
    "model.to(device)\n",
    "model.eval()\n",
    "model(my_sample).loc"
   ]
  },
  {
   "cell_type": "code",
   "execution_count": null,
   "metadata": {},
   "outputs": [],
   "source": []
  },
  {
   "cell_type": "code",
   "execution_count": null,
   "metadata": {},
   "outputs": [],
   "source": []
  },
  {
   "cell_type": "code",
   "execution_count": null,
   "metadata": {},
   "outputs": [],
   "source": []
  },
  {
   "cell_type": "code",
   "execution_count": 8,
   "metadata": {},
   "outputs": [],
   "source": [
    "import tqdm\n",
    "import math\n",
    "import torch\n",
    "import gpytorch\n",
    "from matplotlib import pyplot as plt\n",
    "\n",
    "# Make plots inline\n",
    "%matplotlib inline\n",
    "\n",
    "import torch\n",
    "import numpy as np\n",
    "from density_utils import draw_density_ratio, refine_sample, refine_sample2, draw_density_ratio2, draw_density_ratio_GP, refine_sample_GP, refine_sample2_GP\n",
    "torch.cuda.empty_cache()\n",
    "\n",
    "import os"
   ]
  },
  {
   "cell_type": "code",
   "execution_count": 9,
   "metadata": {},
   "outputs": [],
   "source": [
    "# import urllib.request\n",
    "# import os\n",
    "# from scipy.io import loadmat\n",
    "# from math import floor\n",
    "\n",
    "\n",
    "# # this is for running the notebook in our testing framework\n",
    "# smoke_test = ('CI' in os.environ)\n",
    "\n",
    "\n",
    "# if not smoke_test and not os.path.isfile('../elevators.mat'):\n",
    "#     print('Downloading \\'elevators\\' UCI dataset...')\n",
    "#     urllib.request.urlretrieve('https://drive.google.com/uc?export=download&id=1jhWL3YUHvXIaftia4qeAyDwVxo6j1alk', '../elevators.mat')\n",
    "\n",
    "# X, y = torch.randn(1000, 3), torch.randn(1000)\n",
    "\n",
    "# # if smoke_test:  # this is for running the notebook in our testing framework\n",
    "# #     X, y = torch.randn(1000, 3), torch.randn(1000)\n",
    "# # else:\n",
    "# #     data = torch.Tensor(loadmat('../elevators.mat')['data'])\n",
    "# #     X = data[:, :-1]\n",
    "# #     X = X - X.min(0)[0]\n",
    "# #     X = 2 * (X / X.max(0)[0]) - 1\n",
    "# #     y = data[:, -1]\n",
    "\n",
    "\n",
    "# train_n = int(floor(0.8 * len(X)))\n",
    "# train_x = X[:train_n, :].contiguous()\n",
    "# train_y = y[:train_n].contiguous()\n",
    "\n",
    "# test_x = X[train_n:, :].contiguous()\n",
    "# test_y = y[train_n:].contiguous()\n",
    "\n",
    "# if torch.cuda.is_available():\n",
    "#     train_x, train_y, test_x, test_y = train_x.cuda(), train_y.cuda(), test_x.cuda(), test_y.cuda()"
   ]
  },
  {
   "cell_type": "code",
   "execution_count": 10,
   "metadata": {},
   "outputs": [],
   "source": [
    "\n",
    "# from torch.utils.data import TensorDataset, DataLoader\n",
    "# train_dataset = TensorDataset(train_x, train_y)\n",
    "# train_loader = DataLoader(train_dataset, batch_size=1024, shuffle=True)\n",
    "\n",
    "# test_dataset = TensorDataset(test_x, test_y)\n",
    "# test_loader = DataLoader(test_dataset, batch_size=1024, shuffle=False)"
   ]
  },
  {
   "cell_type": "code",
   "execution_count": 53,
   "metadata": {},
   "outputs": [
    {
     "name": "stdout",
     "output_type": "stream",
     "text": [
      "sim2real!!!\n"
     ]
    }
   ],
   "source": [
    "device = torch.device('cuda:0' if torch.cuda.is_available() else 'cpu')\n",
    "n = 10\n",
    "from dataset import ToyGraspDataset\n",
    "from torch.utils.data import TensorDataset, DataLoader\n",
    "\n",
    "# train classifier\n",
    "train_dataset = ToyGraspDataset(root='data', name='sim2real_train', size=1000, is_pos_label=True, device=device)\n",
    "test_dataset = ToyGraspDataset(root='data', name='sim2real_test', size=n, is_pos_label=True, device=device)\n",
    "\n",
    "train_data = torch.Tensor(train_dataset.data).to(device)\n",
    "test_data = torch.Tensor(test_dataset.data).to(device)\n",
    "\n",
    "\n",
    "train_x = train_data[:,:2]\n",
    "train_y = train_data[:,2]\n",
    "test_x = test_data[:,:2]\n",
    "test_y = test_data[:,2]\n",
    "pos_mask = train_y == 1\n",
    "neg_mask = ~pos_mask\n",
    "\n",
    "\n",
    "train_dataset = TensorDataset(train_x, train_y)\n",
    "train_loader = DataLoader(train_dataset, batch_size=1024, shuffle=True)\n",
    "\n",
    "test_dataset = TensorDataset(test_x, test_y)\n",
    "test_loader = DataLoader(test_dataset, batch_size=1024, shuffle=False)\n"
   ]
  },
  {
   "cell_type": "code",
   "execution_count": 54,
   "metadata": {},
   "outputs": [
    {
     "name": "stdout",
     "output_type": "stream",
     "text": [
      "tensor([78.2787,  1.6261], device='cuda:0')\n",
      "tensor(0., device='cuda:0')\n",
      "tensor([65.0000,  1.2217], device='cuda:0')\n",
      "tensor(0., device='cuda:0')\n"
     ]
    }
   ],
   "source": [
    "print(train_x[0])\n",
    "print(train_y[0])\n",
    "print(test_x[0])\n",
    "print(test_y[0])"
   ]
  },
  {
   "cell_type": "code",
   "execution_count": 55,
   "metadata": {},
   "outputs": [],
   "source": [
    "from gpytorch.models import ApproximateGP\n",
    "from gpytorch.variational import CholeskyVariationalDistribution\n",
    "from gpytorch.variational import VariationalStrategy\n",
    "\n",
    "class GPModel(ApproximateGP):\n",
    "    def __init__(self, inducing_points):\n",
    "        variational_distribution = CholeskyVariationalDistribution(inducing_points.size(0))\n",
    "        variational_strategy = VariationalStrategy(self, inducing_points, variational_distribution, learn_inducing_locations=True)\n",
    "        super(GPModel, self).__init__(variational_strategy)\n",
    "        self.mean_module = gpytorch.means.ConstantMean()\n",
    "        self.covar_module = gpytorch.kernels.ScaleKernel(gpytorch.kernels.RBFKernel())\n",
    "\n",
    "    def forward(self, x):\n",
    "        mean_x = self.mean_module(x)\n",
    "        covar_x = self.covar_module(x)\n",
    "        return gpytorch.distributions.MultivariateNormal(mean_x, covar_x)\n",
    "\n",
    "inducing_points = train_x[:1000, :]\n",
    "model = GPModel(inducing_points=inducing_points)\n",
    "likelihood = gpytorch.likelihoods.GaussianLikelihood()\n",
    "\n",
    "if torch.cuda.is_available():\n",
    "    model = model.cuda()\n",
    "    likelihood = likelihood.cuda()"
   ]
  },
  {
   "cell_type": "code",
   "execution_count": 56,
   "metadata": {},
   "outputs": [
    {
     "data": {
      "application/vnd.jupyter.widget-view+json": {
       "model_id": "21545647b259475b90e22fe43d00a5ff",
       "version_major": 2,
       "version_minor": 0
      },
      "text/plain": [
       "Epoch:   0%|          | 0/10 [00:00<?, ?it/s]"
      ]
     },
     "metadata": {},
     "output_type": "display_data"
    },
    {
     "data": {
      "application/vnd.jupyter.widget-view+json": {
       "model_id": "",
       "version_major": 2,
       "version_minor": 0
      },
      "text/plain": [
       "Minibatch:   0%|          | 0/1 [00:00<?, ?it/s]"
      ]
     },
     "metadata": {},
     "output_type": "display_data"
    },
    {
     "data": {
      "application/vnd.jupyter.widget-view+json": {
       "model_id": "",
       "version_major": 2,
       "version_minor": 0
      },
      "text/plain": [
       "Minibatch:   0%|          | 0/1 [00:00<?, ?it/s]"
      ]
     },
     "metadata": {},
     "output_type": "display_data"
    },
    {
     "data": {
      "application/vnd.jupyter.widget-view+json": {
       "model_id": "",
       "version_major": 2,
       "version_minor": 0
      },
      "text/plain": [
       "Minibatch:   0%|          | 0/1 [00:00<?, ?it/s]"
      ]
     },
     "metadata": {},
     "output_type": "display_data"
    },
    {
     "data": {
      "application/vnd.jupyter.widget-view+json": {
       "model_id": "",
       "version_major": 2,
       "version_minor": 0
      },
      "text/plain": [
       "Minibatch:   0%|          | 0/1 [00:00<?, ?it/s]"
      ]
     },
     "metadata": {},
     "output_type": "display_data"
    },
    {
     "data": {
      "application/vnd.jupyter.widget-view+json": {
       "model_id": "",
       "version_major": 2,
       "version_minor": 0
      },
      "text/plain": [
       "Minibatch:   0%|          | 0/1 [00:00<?, ?it/s]"
      ]
     },
     "metadata": {},
     "output_type": "display_data"
    },
    {
     "data": {
      "application/vnd.jupyter.widget-view+json": {
       "model_id": "",
       "version_major": 2,
       "version_minor": 0
      },
      "text/plain": [
       "Minibatch:   0%|          | 0/1 [00:00<?, ?it/s]"
      ]
     },
     "metadata": {},
     "output_type": "display_data"
    },
    {
     "data": {
      "application/vnd.jupyter.widget-view+json": {
       "model_id": "",
       "version_major": 2,
       "version_minor": 0
      },
      "text/plain": [
       "Minibatch:   0%|          | 0/1 [00:00<?, ?it/s]"
      ]
     },
     "metadata": {},
     "output_type": "display_data"
    },
    {
     "data": {
      "application/vnd.jupyter.widget-view+json": {
       "model_id": "",
       "version_major": 2,
       "version_minor": 0
      },
      "text/plain": [
       "Minibatch:   0%|          | 0/1 [00:00<?, ?it/s]"
      ]
     },
     "metadata": {},
     "output_type": "display_data"
    },
    {
     "data": {
      "application/vnd.jupyter.widget-view+json": {
       "model_id": "",
       "version_major": 2,
       "version_minor": 0
      },
      "text/plain": [
       "Minibatch:   0%|          | 0/1 [00:00<?, ?it/s]"
      ]
     },
     "metadata": {},
     "output_type": "display_data"
    },
    {
     "data": {
      "application/vnd.jupyter.widget-view+json": {
       "model_id": "",
       "version_major": 2,
       "version_minor": 0
      },
      "text/plain": [
       "Minibatch:   0%|          | 0/1 [00:00<?, ?it/s]"
      ]
     },
     "metadata": {},
     "output_type": "display_data"
    }
   ],
   "source": [
    "import os\n",
    "smoke_test = ('CI' in os.environ)\n",
    "num_epochs = 1 if smoke_test else 10\n",
    "\n",
    "\n",
    "model.train()\n",
    "likelihood.train()\n",
    "\n",
    "optimizer = torch.optim.Adam([\n",
    "    {'params': model.parameters()},\n",
    "    {'params': likelihood.parameters()},\n",
    "], lr=0.01)\n",
    "\n",
    "# Our loss object. We're using the VariationalELBO\n",
    "# mll = gpytorch.mlls.VariationalELBO(likelihood, model, num_data=train_y.size(0))\n",
    "mll = gpytorch.mlls.ExactMarginalLogLikelihood(likelihood, model)\n",
    "\n",
    "\n",
    "epochs_iter = tqdm.notebook.tqdm(range(num_epochs), desc=\"Epoch\")\n",
    "with gpytorch.settings.cholesky_jitter(1e-1):\n",
    "    for i in epochs_iter:\n",
    "        # Within each iteration, we will go over each minibatch of data\n",
    "        minibatch_iter = tqdm.notebook.tqdm(train_loader, desc=\"Minibatch\", leave=False)\n",
    "        for x_batch, y_batch in minibatch_iter:\n",
    "            x_batch[:,0] /= 244\n",
    "            x_batch[:,1] /= (3.14*2)\n",
    "            optimizer.zero_grad()\n",
    "            output = model(x_batch)\n",
    "            loss = -mll(output, y_batch)\n",
    "            minibatch_iter.set_postfix(loss=loss.item())\n",
    "            loss.backward()\n",
    "            optimizer.step()\n"
   ]
  },
  {
   "cell_type": "code",
   "execution_count": 57,
   "metadata": {},
   "outputs": [
    {
     "name": "stdout",
     "output_type": "stream",
     "text": [
      "Test MAE: 0.29661232233047485\n"
     ]
    }
   ],
   "source": [
    "model.eval()\n",
    "likelihood.eval()\n",
    "means = torch.tensor([0.])\n",
    "with torch.no_grad():\n",
    "    for x_batch, y_batch in test_loader:\n",
    "        x_batch[:,0] /= 244\n",
    "        x_batch[:,1] /= (3.14*2)        \n",
    "        preds = model(x_batch)\n",
    "        means = torch.cat([means, preds.mean.cpu()])\n",
    "means = means[1:]\n",
    "print('Test MAE: {}'.format(torch.mean(torch.abs(means - test_y.cpu()))))\n"
   ]
  },
  {
   "cell_type": "code",
   "execution_count": 58,
   "metadata": {},
   "outputs": [
    {
     "name": "stdout",
     "output_type": "stream",
     "text": [
      "230 770\n",
      "230 770\n"
     ]
    },
    {
     "data": {
      "application/vnd.jupyter.widget-view+json": {
       "model_id": "",
       "version_major": 2,
       "version_minor": 0
      },
      "text/plain": [
       "  0%|          | 0/100 [00:00<?, ?it/s]"
      ]
     },
     "metadata": {},
     "output_type": "display_data"
    }
   ],
   "source": [
    "steps_refinement = 100\n",
    "\n",
    "\n",
    "# from the GP classifier\n",
    "# f2\n",
    "# Nq = info2['pos_samples_size'], Np = info2['neg_samples_size']\n",
    "\n",
    "Nq = int(train_y.sum())\n",
    "Np = int(train_y.size()[0] - train_y.sum())\n",
    "\n",
    "# print(my_sample)\n",
    "# my_sample = torch.FloatTensor([[25, 0.3],\n",
    "my_sample = torch.FloatTensor([[60, 1.5],\n",
    "                               [210, 3]])#[160, 3]\n",
    "# my_sample = torch.FloatTensor([[210, 3]])\n",
    "\n",
    "my_sample[:,0] /= 224\n",
    "my_sample[:,1] /= (2*3.14)\n",
    "\n",
    "# my_sample = my_sample.repeat(1,200)\n",
    "\n",
    "model.to(device)\n",
    "model.eval()\n",
    "likelihood.to(device)\n",
    "likelihood.eval()\n",
    "\n",
    "all_x1, all_v1 = refine_sample_GP(my_sample.to(device), model, likelihood, steps=steps_refinement,\n",
    "# all_x1, all_v1 = refine_sample_GP(my_sample.to(device), model, steps=steps_refinement,\n",
    "#                                eta=0.0001, noise_factor=0.0000,\n",
    "                               eta=0.1, noise_factor=0.000,\n",
    "#                                eta=0.5, noise_factor=0.000,\n",
    "                              Nq = Nq, Np = Np)"
   ]
  },
  {
   "cell_type": "code",
   "execution_count": 59,
   "metadata": {},
   "outputs": [
    {
     "name": "stdout",
     "output_type": "stream",
     "text": [
      "770 230\n"
     ]
    },
    {
     "data": {
      "application/vnd.jupyter.widget-view+json": {
       "model_id": "7e923e4b6e7e4930a76f9785146490ea",
       "version_major": 2,
       "version_minor": 0
      },
      "text/plain": [
       "  0%|          | 0/10 [00:00<?, ?it/s]"
      ]
     },
     "metadata": {},
     "output_type": "display_data"
    },
    {
     "name": "stdout",
     "output_type": "stream",
     "text": [
      "0.4758657 0.4758657\n"
     ]
    },
    {
     "data": {
      "image/png": "[encoded data removed]",
      "text/plain": [
       "<Figure size 864x864 with 2 Axes>"
      ]
     },
     "metadata": {
      "needs_background": "light"
     },
     "output_type": "display_data"
    }
   ],
   "source": [
    "\n",
    "\n",
    "\n",
    "Nq = int(train_y.sum())\n",
    "Np = int(train_y.size()[0] - train_y.sum())\n",
    "print(Np,Nq)\n",
    "train_x= train_x.cpu()\n",
    "fig, ax = plt.subplots(nrows=1, figsize=(12,12))\n",
    "ax.scatter(train_x[pos_mask][:,0], train_x[pos_mask][:,1], marker='.', alpha=0.2, color='b')\n",
    "ax.scatter(train_x[neg_mask][:,0], train_x[neg_mask][:,1], marker='.', alpha=0.2, color='r')\n",
    "\n",
    "plt.scatter(my_sample[:, 0]*224, my_sample[:,1]*(2*3.14), marker='*', color='g', s=200)\n",
    "# plt.scatter(my_sample[:, 0], my_sample[:,1], marker='*', color='g', s=200)\n",
    "\n",
    "for i in range(1, steps_refinement, 1):\n",
    "    plt.scatter(all_x1[i][:, 0]*224, all_x1[i][:,1]*(2*3.14), marker='d', color='g', s=4)\n",
    "#     plt.scatter(all_x1[i][:, 0], all_x1[i][:,1], marker='d', color='g', s=4)\n",
    "\n",
    "\n",
    "\n",
    "Z, CS = draw_density_ratio_GP(ax=ax,\n",
    "                   model=model,\n",
    "                   likelihood=likelihood,\n",
    "                   p_type='p_y_given_x',\n",
    "#                    p_type='log_density_ratio',\n",
    "                   device=device,\n",
    "                   x_lim=[0, 224],\n",
    "                   y_lim=[0, 2*np.pi],\n",
    "                   cmap='RdBu',\n",
    "                   step_size=0.1,\n",
    "                   Np=Np, Nq=Nq)\n",
    "fig.colorbar(CS, ax=ax)\n",
    "\n",
    "\n",
    "\n",
    "ax.set_title(f'GP Classifier Log Density Ratio')\n",
    "ax.set_xlim([0, 300])\n",
    "ax.set_ylim([0, 2*np.pi])\n",
    "\n",
    "plt.show()"
   ]
  },
  {
   "cell_type": "code",
   "execution_count": null,
   "metadata": {},
   "outputs": [],
   "source": []
  },
  {
   "cell_type": "code",
   "execution_count": null,
   "metadata": {},
   "outputs": [],
   "source": []
  },
  {
   "cell_type": "code",
   "execution_count": null,
   "metadata": {},
   "outputs": [],
   "source": []
  }
 ],
 "metadata": {
  "kernelspec": {
   "display_name": "my-virtualenv-name",
   "language": "python",
   "name": "my-virtualenv-name"
  },
  "language_info": {
   "codemirror_mode": {
    "name": "ipython",
    "version": 3
   },
   "file_extension": ".py",
   "mimetype": "text/x-python",
   "name": "python",
   "nbconvert_exporter": "python",
   "pygments_lexer": "ipython3",
   "version": "3.9.9"
  }
 },
 "nbformat": 4,
 "nbformat_minor": 4
}
