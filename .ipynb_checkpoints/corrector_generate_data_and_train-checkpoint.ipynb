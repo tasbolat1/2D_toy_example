{
 "cells": [
  {
   "cell_type": "code",
   "execution_count": 1,
   "metadata": {},
   "outputs": [
    {
     "data": {
      "text/plain": [
       "<torch._C.Generator at 0x7f70dd226990>"
      ]
     },
     "execution_count": 1,
     "metadata": {},
     "output_type": "execute_result"
    }
   ],
   "source": [
    "import numpy as np\n",
    "import matplotlib.pyplot as plt\n",
    "from utils import load_item, show_grasp\n",
    "from dataset import ToyGraspDataset\n",
    "import torch\n",
    "\n",
    "%load_ext autoreload\n",
    "%autoreload 2\n",
    "\n",
    "\n",
    "np.random.seed(10)\n",
    "torch.manual_seed(10)"
   ]
  },
  {
   "cell_type": "markdown",
   "metadata": {},
   "source": [
    "Outline\n",
    "1. Make datasets\n",
    "2. Train Network\n",
    "3. Save results"
   ]
  },
  {
   "cell_type": "code",
   "execution_count": 3,
   "metadata": {},
   "outputs": [],
   "source": [
    "item = load_item('fork')"
   ]
  },
  {
   "cell_type": "code",
   "execution_count": 50,
   "metadata": {},
   "outputs": [],
   "source": [
    "dataset = ToyGraspDataset(root='data', size=1200, dataset='sim2real')"
   ]
  },
  {
   "cell_type": "code",
   "execution_count": 51,
   "metadata": {},
   "outputs": [],
   "source": [
    "pos_ind = np.argwhere(dataset.data[:,2] == 1)\n",
    "neg_ind = np.argwhere(dataset.data[:,2] == 0)\n",
    "\n",
    "pos_ind = np.random.choice(pos_ind.squeeze(), 5)\n",
    "neg_ind = np.random.choice(neg_ind.squeeze(), 5)"
   ]
  },
  {
   "cell_type": "code",
   "execution_count": 52,
   "metadata": {},
   "outputs": [
    {
     "data": {
      "image/png": "[encoded data removed]",
      "text/plain": [
       "<Figure size 1080x360 with 10 Axes>"
      ]
     },
     "metadata": {},
     "output_type": "display_data"
    }
   ],
   "source": [
    "fig, ax = plt.subplots(ncols=5, nrows=2, figsize=(15,5))\n",
    "\n",
    "for i in range(5):\n",
    "    ax[0][i].imshow(item, cmap='Greys')\n",
    "    ax[0][i].set_xticks([])\n",
    "    ax[0][i].set_yticks([])\n",
    "    sample = dataset.data[pos_ind[i]]\n",
    "    show_grasp(ax[0][i], sample[0], sample[1], sample[2] )\n",
    "    ax[1][i].imshow(item, cmap='Greys')\n",
    "    ax[1][i].set_xticks([])\n",
    "    ax[1][i].set_yticks([])\n",
    "    sample = dataset.data[neg_ind[i]]\n",
    "    show_grasp(ax[1][i], sample[0], sample[1], sample[2] )"
   ]
  },
  {
   "cell_type": "code",
   "execution_count": 53,
   "metadata": {},
   "outputs": [],
   "source": [
    "# show the data\n",
    "data = dataset.data\n",
    "pos_masks = data[:,2] == 1\n",
    "neg_masks = ~pos_masks\n",
    "# handle_masks = data[:,3] == 1\n",
    "# pos_combined_masks = handle_masks & pos_masks\n",
    "# neg_combined_masks = handle_masks & neg_masks\n",
    "\n",
    "pos_sim_masks = data[:,3] == 1\n",
    "neg_sim_masks = ~pos_sim_masks"
   ]
  },
  {
   "cell_type": "code",
   "execution_count": 54,
   "metadata": {},
   "outputs": [
    {
     "data": {
      "text/plain": [
       "array([1.3966192, 1.3977662, 1.3984516, ..., 4.8807173, 4.8851485,\n",
       "       4.8864174], dtype=float32)"
      ]
     },
     "execution_count": 54,
     "metadata": {},
     "output_type": "execute_result"
    }
   ],
   "source": [
    "np.unique(data[:,1])"
   ]
  },
  {
   "cell_type": "code",
   "execution_count": 56,
   "metadata": {},
   "outputs": [
    {
     "ename": "TypeError",
     "evalue": "'AxesSubplot' object is not subscriptable",
     "output_type": "error",
     "traceback": [
      "\u001b[0;31m---------------------------------------------------------------------------\u001b[0m",
      "\u001b[0;31mTypeError\u001b[0m                                 Traceback (most recent call last)",
      "\u001b[0;32m/tmp/ipykernel_25465/4278946818.py\u001b[0m in \u001b[0;36m<module>\u001b[0;34m\u001b[0m\n\u001b[1;32m      1\u001b[0m \u001b[0mfig\u001b[0m\u001b[0;34m,\u001b[0m \u001b[0max\u001b[0m \u001b[0;34m=\u001b[0m \u001b[0mplt\u001b[0m\u001b[0;34m.\u001b[0m\u001b[0msubplots\u001b[0m\u001b[0;34m(\u001b[0m\u001b[0mnrows\u001b[0m\u001b[0;34m=\u001b[0m\u001b[0;36m1\u001b[0m\u001b[0;34m,\u001b[0m \u001b[0mncols\u001b[0m\u001b[0;34m=\u001b[0m\u001b[0;36m1\u001b[0m\u001b[0;34m,\u001b[0m \u001b[0mfigsize\u001b[0m\u001b[0;34m=\u001b[0m\u001b[0;34m(\u001b[0m\u001b[0;36m12\u001b[0m\u001b[0;34m,\u001b[0m\u001b[0;36m6\u001b[0m\u001b[0;34m)\u001b[0m\u001b[0;34m)\u001b[0m\u001b[0;34m\u001b[0m\u001b[0;34m\u001b[0m\u001b[0m\n\u001b[0;32m----> 2\u001b[0;31m \u001b[0max\u001b[0m\u001b[0;34m[\u001b[0m\u001b[0;36m0\u001b[0m\u001b[0;34m]\u001b[0m\u001b[0;34m.\u001b[0m\u001b[0mscatter\u001b[0m\u001b[0;34m(\u001b[0m\u001b[0mdata\u001b[0m\u001b[0;34m[\u001b[0m\u001b[0mpos_masks\u001b[0m\u001b[0;34m]\u001b[0m\u001b[0;34m[\u001b[0m\u001b[0;34m:\u001b[0m\u001b[0;34m,\u001b[0m\u001b[0;36m0\u001b[0m\u001b[0;34m]\u001b[0m\u001b[0;34m,\u001b[0m \u001b[0mdata\u001b[0m\u001b[0;34m[\u001b[0m\u001b[0mpos_masks\u001b[0m\u001b[0;34m]\u001b[0m\u001b[0;34m[\u001b[0m\u001b[0;34m:\u001b[0m\u001b[0;34m,\u001b[0m\u001b[0;36m1\u001b[0m\u001b[0;34m]\u001b[0m\u001b[0;34m,\u001b[0m \u001b[0mmarker\u001b[0m\u001b[0;34m=\u001b[0m\u001b[0;34m'.'\u001b[0m\u001b[0;34m,\u001b[0m \u001b[0malpha\u001b[0m\u001b[0;34m=\u001b[0m\u001b[0;36m1.0\u001b[0m\u001b[0;34m,\u001b[0m \u001b[0mcolor\u001b[0m\u001b[0;34m=\u001b[0m\u001b[0;34m'b'\u001b[0m\u001b[0;34m)\u001b[0m\u001b[0;34m\u001b[0m\u001b[0;34m\u001b[0m\u001b[0m\n\u001b[0m\u001b[1;32m      3\u001b[0m \u001b[0max\u001b[0m\u001b[0;34m[\u001b[0m\u001b[0;36m0\u001b[0m\u001b[0;34m]\u001b[0m\u001b[0;34m.\u001b[0m\u001b[0mscatter\u001b[0m\u001b[0;34m(\u001b[0m\u001b[0mdata\u001b[0m\u001b[0;34m[\u001b[0m\u001b[0mneg_masks\u001b[0m\u001b[0;34m]\u001b[0m\u001b[0;34m[\u001b[0m\u001b[0;34m:\u001b[0m\u001b[0;34m,\u001b[0m\u001b[0;36m0\u001b[0m\u001b[0;34m]\u001b[0m\u001b[0;34m,\u001b[0m \u001b[0mdata\u001b[0m\u001b[0;34m[\u001b[0m\u001b[0mneg_masks\u001b[0m\u001b[0;34m]\u001b[0m\u001b[0;34m[\u001b[0m\u001b[0;34m:\u001b[0m\u001b[0;34m,\u001b[0m\u001b[0;36m1\u001b[0m\u001b[0;34m]\u001b[0m\u001b[0;34m,\u001b[0m \u001b[0mmarker\u001b[0m\u001b[0;34m=\u001b[0m\u001b[0;34m'.'\u001b[0m\u001b[0;34m,\u001b[0m \u001b[0malpha\u001b[0m\u001b[0;34m=\u001b[0m\u001b[0;36m1.0\u001b[0m\u001b[0;34m,\u001b[0m \u001b[0mcolor\u001b[0m\u001b[0;34m=\u001b[0m\u001b[0;34m'r'\u001b[0m\u001b[0;34m)\u001b[0m\u001b[0;34m\u001b[0m\u001b[0;34m\u001b[0m\u001b[0m\n\u001b[1;32m      4\u001b[0m \u001b[0max\u001b[0m\u001b[0;34m[\u001b[0m\u001b[0;36m0\u001b[0m\u001b[0;34m]\u001b[0m\u001b[0;34m.\u001b[0m\u001b[0mset_title\u001b[0m\u001b[0;34m(\u001b[0m\u001b[0;34m'Sim+ vs Real+'\u001b[0m\u001b[0;34m)\u001b[0m\u001b[0;34m\u001b[0m\u001b[0;34m\u001b[0m\u001b[0m\n\u001b[1;32m      5\u001b[0m \u001b[0max\u001b[0m\u001b[0;34m[\u001b[0m\u001b[0;36m0\u001b[0m\u001b[0;34m]\u001b[0m\u001b[0;34m.\u001b[0m\u001b[0mset_xlabel\u001b[0m\u001b[0;34m(\u001b[0m\u001b[0;34m'Grasp center'\u001b[0m\u001b[0;34m)\u001b[0m\u001b[0;34m\u001b[0m\u001b[0;34m\u001b[0m\u001b[0m\n",
      "\u001b[0;31mTypeError\u001b[0m: 'AxesSubplot' object is not subscriptable"
     ]
    },
    {
     "data": {
      "image/png": "[encoded data removed]",
      "text/plain": [
       "<Figure size 864x432 with 1 Axes>"
      ]
     },
     "metadata": {
      "needs_background": "light"
     },
     "output_type": "display_data"
    }
   ],
   "source": [
    "fig, ax = plt.subplots(nrows=1, ncols=2, figsize=(12,6))\n",
    "ax[0].scatter(data[pos_masks][:,0], data[pos_masks][:,1], marker='.', alpha=1.0, color='b')\n",
    "ax[0].scatter(data[neg_masks][:,0], data[neg_masks][:,1], marker='.', alpha=1.0, color='r')\n",
    "ax[0].set_title('Sim+ vs Real+')\n",
    "ax[0].set_xlabel('Grasp center')\n",
    "ax[0].set_ylabel('Grasp angle')\n",
    "\n",
    "ax[1].scatter(data[pos_sim_masks][:,0], data[pos_sim_masks][:,1], marker='.', alpha=1.0, color='b')\n",
    "ax[1].scatter(data[neg_sim_masks][:,0], data[neg_sim_masks][:,1], marker='.', alpha=1.0, color='r')\n",
    "ax[1].set_title('Sim+ vs Sim-')\n",
    "ax[1].set_xlabel('Grasp center')\n",
    "ax[1].set_ylabel('Grasp angle')\n",
    "\n",
    "plt.show()"
   ]
  },
  {
   "cell_type": "markdown",
   "metadata": {},
   "source": [
    "### Pos_vs_Neg"
   ]
  },
  {
   "cell_type": "code",
   "execution_count": 23,
   "metadata": {},
   "outputs": [],
   "source": [
    "from torch.utils.data import TensorDataset, DataLoader\n",
    "from network import ClassifierNN, train_network, save_model_info, load_model_info\n",
    "import torch.optim as optim\n",
    "\n",
    "torch.manual_seed(42)\n",
    "\n",
    "device = torch.device('cuda:0' if torch.cuda.is_available() else 'cpu')\n"
   ]
  },
  {
   "cell_type": "code",
   "execution_count": 24,
   "metadata": {},
   "outputs": [],
   "source": [
    "# train classifier\n",
    "train_dataset = ToyGraspDataset(root='data', name='train_data', size=10000, is_pos_label=True, device=device)\n",
    "train_dataloader = DataLoader(train_dataset, batch_size=512, shuffle=True)\n",
    "\n",
    "test_dataset = ToyGraspDataset(root='data', name='test_data', size=1000, is_pos_label=True, device=device)\n",
    "test_dataloader = DataLoader(test_dataset, batch_size=512, shuffle=False)"
   ]
  },
  {
   "cell_type": "code",
   "execution_count": 27,
   "metadata": {},
   "outputs": [
    {
     "data": {
      "text/plain": [
       "0.1045"
      ]
     },
     "execution_count": 27,
     "metadata": {},
     "output_type": "execute_result"
    }
   ],
   "source": [
    "np.sum(train_dataset.data[:,2])/train_dataset.data.shape[0]"
   ]
  },
  {
   "cell_type": "code",
   "execution_count": 28,
   "metadata": {},
   "outputs": [],
   "source": [
    "# first classifier balanced\n",
    "f = ClassifierNN([2,64,64,1])\n",
    "f = f.to(device)\n",
    "optimizer = optim.Adam(f.parameters(), lr=0.001)"
   ]
  },
  {
   "cell_type": "code",
   "execution_count": 29,
   "metadata": {},
   "outputs": [
    {
     "name": "stdout",
     "output_type": "stream",
     "text": [
      "Epoch: 40\n",
      "Train loss: 0.0010489115357398987 | Test losses: 0.0010107297599315644\n",
      "Train acc: 0.8017 | Test acc: 0.813\n",
      "Epoch: 80\n",
      "Train loss: 0.000557887764275074 | Test losses: 0.0005398285239934922\n",
      "Train acc: 0.913 | Test acc: 0.917\n",
      "Epoch: 120\n",
      "Train loss: 0.0004506839618086815 | Test losses: 0.0004312410652637482\n",
      "Train acc: 0.9304 | Test acc: 0.939\n",
      "Epoch: 160\n",
      "Train loss: 0.00039848538488149643 | Test losses: 0.0003938611596822739\n",
      "Train acc: 0.9382 | Test acc: 0.933\n",
      "Epoch: 200\n",
      "Train loss: 0.0003663111314177513 | Test losses: 0.00034471824765205385\n",
      "Train acc: 0.9446 | Test acc: 0.947\n",
      "Epoch: 240\n",
      "Train loss: 0.00034667154848575595 | Test losses: 0.00032824847102165224\n",
      "Train acc: 0.9466 | Test acc: 0.963\n",
      "Epoch: 280\n",
      "Train loss: 0.000352350939810276 | Test losses: 0.00035057577490806577\n",
      "Train acc: 0.9482 | Test acc: 0.94\n",
      "Epoch: 320\n",
      "Train loss: 0.00031135160550475123 | Test losses: 0.00028454126417636874\n",
      "Train acc: 0.9525 | Test acc: 0.958\n",
      "Epoch: 360\n",
      "Train loss: 0.00030052821859717367 | Test losses: 0.00026995378732681276\n",
      "Train acc: 0.9563 | Test acc: 0.96\n",
      "Epoch: 400\n",
      "Train loss: 0.0002850674159824848 | Test losses: 0.0002573869973421097\n",
      "Train acc: 0.9569 | Test acc: 0.965\n",
      "Epoch: 440\n",
      "Train loss: 0.0002764323815703392 | Test losses: 0.00026926561444997785\n",
      "Train acc: 0.9574 | Test acc: 0.966\n",
      "Epoch: 480\n",
      "Train loss: 0.0002696393206715584 | Test losses: 0.00025318346172571184\n",
      "Train acc: 0.9599 | Test acc: 0.97\n",
      "Epoch: 520\n",
      "Train loss: 0.0002674498349428177 | Test losses: 0.000235483817756176\n",
      "Train acc: 0.961 | Test acc: 0.967\n",
      "Epoch: 560\n",
      "Train loss: 0.00025033250600099564 | Test losses: 0.00022390152513980866\n",
      "Train acc: 0.9618 | Test acc: 0.97\n",
      "Epoch: 600\n",
      "Train loss: 0.0002540107287466526 | Test losses: 0.0002396109700202942\n",
      "Train acc: 0.9608 | Test acc: 0.961\n",
      "Epoch: 640\n",
      "Train loss: 0.0002430438220500946 | Test losses: 0.0002161131501197815\n",
      "Train acc: 0.9641 | Test acc: 0.969\n",
      "Epoch: 680\n",
      "Train loss: 0.00024741865321993827 | Test losses: 0.00020113436132669448\n",
      "Train acc: 0.9637 | Test acc: 0.973\n",
      "Epoch: 720\n",
      "Train loss: 0.000234009125828743 | Test losses: 0.00019923776388168336\n",
      "Train acc: 0.9642 | Test acc: 0.969\n",
      "Epoch: 760\n",
      "Train loss: 0.00022913669869303703 | Test losses: 0.0002012494057416916\n",
      "Train acc: 0.9657 | Test acc: 0.966\n",
      "Epoch: 800\n",
      "Train loss: 0.00020989417135715486 | Test losses: 0.00019218460097908974\n",
      "Train acc: 0.9671 | Test acc: 0.966\n",
      "Epoch: 840\n",
      "Train loss: 0.00021278857812285425 | Test losses: 0.00018348411098122598\n",
      "Train acc: 0.9679 | Test acc: 0.973\n",
      "Epoch: 880\n",
      "Train loss: 0.0002197811096906662 | Test losses: 0.00017148871347308158\n",
      "Train acc: 0.9655 | Test acc: 0.976\n",
      "Epoch: 920\n",
      "Train loss: 0.00020558173805475236 | Test losses: 0.00018725425004959107\n",
      "Train acc: 0.9686 | Test acc: 0.965\n",
      "Epoch: 960\n",
      "Train loss: 0.00019640112593770028 | Test losses: 0.00017612101510167122\n",
      "Train acc: 0.9696 | Test acc: 0.972\n",
      "Epoch: 1000\n",
      "Train loss: 0.00020337125882506372 | Test losses: 0.0001694522276520729\n",
      "Train acc: 0.9682 | Test acc: 0.972\n"
     ]
    }
   ],
   "source": [
    "f, info = train_network(f, train_dataloader, train_dataset,\n",
    "                                      test_dataloader, test_dataset,\n",
    "                                      n_epochs=1000, print_freq=40, optimizer=optimizer)\n",
    "info['pos_samples_size'] = np.sum(train_dataset.data[:,2])\n",
    "info['neg_samples_size'] = train_dataset.data.shape[0] - np.sum(train_dataset.data[:,2])\n",
    "save_model_info(f, info, name='pos_vs_neg')"
   ]
  },
  {
   "cell_type": "code",
   "execution_count": 30,
   "metadata": {},
   "outputs": [
    {
     "data": {
      "image/png": "[encoded data removed]",
      "text/plain": [
       "<Figure size 432x288 with 2 Axes>"
      ]
     },
     "metadata": {
      "needs_background": "light"
     },
     "output_type": "display_data"
    }
   ],
   "source": [
    "fig, ax = plt.subplots(2)\n",
    "ax[0].plot(info['train_loss'], label='train loss')\n",
    "ax[0].plot(info['test_loss'], label='test loss')\n",
    "\n",
    "ax[0].legend()\n",
    "ax[1].plot(info['train_acc'], label='Train')\n",
    "ax[1].plot(info['test_acc'], label='Test')\n",
    "plt.show()"
   ]
  },
  {
   "cell_type": "markdown",
   "metadata": {},
   "source": [
    "Handle_vs_nonhandle"
   ]
  },
  {
   "cell_type": "code",
   "execution_count": 31,
   "metadata": {},
   "outputs": [],
   "source": [
    "# train classifier\n",
    "train_dataset = ToyGraspDataset(root='data', name='train_data', size=10000, is_pos_label=False, device=device)\n",
    "train_dataloader = DataLoader(train_dataset, batch_size=256, shuffle=True)\n",
    "\n",
    "test_dataset = ToyGraspDataset(root='data', name='test_data', size=1000, is_pos_label=False, device=device)\n",
    "test_dataloader = DataLoader(test_dataset, batch_size=256, shuffle=False)"
   ]
  },
  {
   "cell_type": "code",
   "execution_count": 32,
   "metadata": {},
   "outputs": [],
   "source": [
    "# first classifier balanced\n",
    "f = ClassifierNN([2, 32, 1])\n",
    "f = f.to(device)\n",
    "optimizer = optim.Adam(f.parameters(), lr=0.001)"
   ]
  },
  {
   "cell_type": "code",
   "execution_count": 33,
   "metadata": {},
   "outputs": [
    {
     "name": "stdout",
     "output_type": "stream",
     "text": [
      "Epoch: 40\n",
      "Train loss: 0.0013816791772842407 | Test losses: 0.001307061016559601\n",
      "Train acc: 0.9049 | Test acc: 0.919\n",
      "Epoch: 80\n",
      "Train loss: 0.0007008225739002227 | Test losses: 0.0006336975544691086\n",
      "Train acc: 0.9547 | Test acc: 0.966\n",
      "Epoch: 120\n",
      "Train loss: 0.0004842797964811325 | Test losses: 0.00041752208769321443\n",
      "Train acc: 0.968 | Test acc: 0.976\n",
      "Epoch: 160\n",
      "Train loss: 0.00036659826338291166 | Test losses: 0.00031456633657217026\n",
      "Train acc: 0.9748 | Test acc: 0.98\n",
      "Epoch: 200\n",
      "Train loss: 0.0003029126901179552 | Test losses: 0.00024932119250297547\n",
      "Train acc: 0.9793 | Test acc: 0.984\n",
      "Epoch: 240\n",
      "Train loss: 0.00025044741351157426 | Test losses: 0.00021278608217835426\n",
      "Train acc: 0.9811 | Test acc: 0.984\n",
      "Epoch: 280\n",
      "Train loss: 0.00022233652602881193 | Test losses: 0.0001852230429649353\n",
      "Train acc: 0.9842 | Test acc: 0.985\n",
      "Epoch: 320\n",
      "Train loss: 0.00019629820096306503 | Test losses: 0.00016769512742757797\n",
      "Train acc: 0.9861 | Test acc: 0.986\n",
      "Epoch: 360\n",
      "Train loss: 0.00018642935138195752 | Test losses: 0.00015335652604699134\n",
      "Train acc: 0.9866 | Test acc: 0.985\n",
      "Epoch: 400\n",
      "Train loss: 0.00017096694726496936 | Test losses: 0.00014323035813868046\n",
      "Train acc: 0.9883 | Test acc: 0.986\n",
      "Epoch: 440\n",
      "Train loss: 0.00015671477504074574 | Test losses: 0.00013604292832314967\n",
      "Train acc: 0.9898 | Test acc: 0.986\n",
      "Epoch: 480\n",
      "Train loss: 0.0001448438965715468 | Test losses: 0.00012586058862507342\n",
      "Train acc: 0.9898 | Test acc: 0.989\n"
     ]
    }
   ],
   "source": [
    "f, info = train_network(f, train_dataloader, train_dataset,\n",
    "                                      test_dataloader, test_dataset,\n",
    "                                      n_epochs=500, print_freq=40, optimizer=optimizer)\n",
    "info['pos_samples_size'] = np.sum(train_dataset.data[:,2])\n",
    "info['neg_samples_size'] = train_dataset.data.shape[0] - np.sum(train_dataset.data[:,2])\n",
    "save_model_info(f, info, name='handle')"
   ]
  },
  {
   "cell_type": "code",
   "execution_count": 34,
   "metadata": {},
   "outputs": [
    {
     "data": {
      "image/png": "[encoded data removed]",
      "text/plain": [
       "<Figure size 432x288 with 2 Axes>"
      ]
     },
     "metadata": {
      "needs_background": "light"
     },
     "output_type": "display_data"
    }
   ],
   "source": [
    "fig, ax = plt.subplots(2)\n",
    "ax[0].plot(info['train_loss'], label='train loss')\n",
    "ax[0].plot(info['test_loss'], label='test loss')\n",
    "\n",
    "ax[0].legend()\n",
    "ax[1].plot(info['train_acc'], label='Train')\n",
    "ax[1].plot(info['test_acc'], label='Test')\n",
    "plt.show()"
   ]
  },
  {
   "cell_type": "code",
   "execution_count": null,
   "metadata": {},
   "outputs": [],
   "source": []
  }
 ],
 "metadata": {
  "kernelspec": {
   "display_name": "Python 3 (ipykernel)",
   "language": "python",
   "name": "python3"
  },
  "language_info": {
   "codemirror_mode": {
    "name": "ipython",
    "version": 3
   },
   "file_extension": ".py",
   "mimetype": "text/x-python",
   "name": "python",
   "nbconvert_exporter": "python",
   "pygments_lexer": "ipython3",
   "version": "3.8.12"
  }
 },
 "nbformat": 4,
 "nbformat_minor": 4
}
