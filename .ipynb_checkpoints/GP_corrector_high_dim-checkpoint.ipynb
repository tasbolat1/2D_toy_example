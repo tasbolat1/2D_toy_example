{
 "cells": [
  {
   "cell_type": "code",
   "execution_count": 15,
   "metadata": {},
   "outputs": [
    {
     "name": "stdout",
     "output_type": "stream",
     "text": [
      "The autoreload extension is already loaded. To reload it, use:\n",
      "  %reload_ext autoreload\n"
     ]
    }
   ],
   "source": [
    "import torch\n",
    "import matplotlib.pyplot as plt\n",
    "from torch import distributions\n",
    "import seaborn as sns\n",
    "import numpy as np\n",
    "import torch\n",
    "import torch.nn as nn\n",
    "from tqdm.auto import tqdm\n",
    "import matplotlib as mpl\n",
    "mpl.rcParams['font.size'] = 14\n",
    "\n",
    "torch.manual_seed(42)\n",
    "np.random.seed(42)\n",
    "device = torch.device('cuda:0' if torch.cuda.is_available() else 'cpu')\n",
    "\n",
    "from network import ClassifierNN,load_model_info\n",
    "from density_utils import draw_density_ratio, refine_sample, refine_sample2, draw_density_ratio2, draw_density_ratio_GP, refine_sample_GP, refine_sample2_GP\n",
    "\n",
    "from utils import load_item, show_grasp, count_real_positives\n",
    "from dataset import ToyGraspDataset\n",
    "\n",
    "%load_ext autoreload\n",
    "%autoreload 2"
   ]
  },
  {
   "cell_type": "code",
   "execution_count": null,
   "metadata": {},
   "outputs": [],
   "source": []
  },
  {
   "cell_type": "code",
   "execution_count": null,
   "metadata": {},
   "outputs": [],
   "source": []
  },
  {
   "cell_type": "markdown",
   "metadata": {},
   "source": [
    "# GP Classifier Sim+ vs Real+"
   ]
  },
  {
   "cell_type": "code",
   "execution_count": 16,
   "metadata": {},
   "outputs": [
    {
     "data": {
      "text/plain": [
       "<torch._C.Generator at 0x7f92e4049550>"
      ]
     },
     "execution_count": 16,
     "metadata": {},
     "output_type": "execute_result"
    }
   ],
   "source": [
    "import torch\n",
    "import matplotlib.pyplot as plt\n",
    "from torch import distributions\n",
    "import seaborn as sns\n",
    "import numpy as np\n",
    "import torch\n",
    "import torch.nn as nn\n",
    "from tqdm.auto import tqdm\n",
    "import matplotlib as mpl\n",
    "mpl.rcParams['font.size'] = 14\n",
    "\n",
    "torch.manual_seed(42)\n",
    "np.random.seed(42)\n",
    "device = torch.device('cuda:0' if torch.cuda.is_available() else 'cpu')\n",
    "\n",
    "from network import ClassifierNN, train_network, save_model_info, load_model_info\n",
    "\n",
    "from density_utils import draw_density_ratio, refine_sample, refine_sample2, draw_density_ratio2, refine_sample_GP, draw_density_ratio_GP\n",
    "\n",
    "from utils import load_item, show_grasp\n",
    "from dataset import ToyGraspDataset\n",
    "\n",
    "from torch.utils.data import TensorDataset, DataLoader\n",
    "import torch.optim as optim\n",
    "\n",
    "torch.manual_seed(42)\n"
   ]
  },
  {
   "cell_type": "code",
   "execution_count": 47,
   "metadata": {},
   "outputs": [
    {
     "name": "stdout",
     "output_type": "stream",
     "text": [
      "sim2real!!!\n"
     ]
    },
    {
     "data": {
      "image/png": "[encoded data removed]",
      "text/plain": [
       "<Figure size 1152x1152 with 1 Axes>"
      ]
     },
     "metadata": {
      "needs_background": "light"
     },
     "output_type": "display_data"
    }
   ],
   "source": [
    "# USING 2D FORK DATA ===============================\n",
    "\n",
    "n = 10\n",
    "\n",
    "# train classifier\n",
    "train_dataset = ToyGraspDataset(root='data', name='sim2real_train', size=100, is_pos_label=True, device=device)\n",
    "train_dataloader = DataLoader(train_dataset, batch_size=10, shuffle=True)\n",
    "\n",
    "test_dataset = ToyGraspDataset(root='data', name='sim2real_test', size=n, is_pos_label=True, device=device)\n",
    "test_dataloader = DataLoader(test_dataset, batch_size=512, shuffle=False)\n",
    "\n",
    "\n",
    "\n",
    "# dataset = ToyGraspDataset(root='data', size=50)\n",
    "train_x = torch.Tensor(train_dataset.data[:,:2]).to(device)\n",
    "train_y = torch.Tensor(train_dataset.data[:,2]).long().to(device)\n",
    "x_t = train_x.clone().to(device)\n",
    "# Normalize inputs\n",
    "x_t[:,0] /= 244\n",
    "x_t[:,1] /= (3.14*2)\n",
    "\n",
    "# x_t = x_t.repeat(1,200)\n",
    "\n",
    "\n",
    "\n",
    "\n",
    "\n",
    "fig = plt.figure(figsize=(16,16))\n",
    "ax1 = fig.add_subplot(221)\n",
    "\n",
    "# show the data\n",
    "data = train_dataset.data\n",
    "pos_masks = data[:,2] == 1\n",
    "neg_masks = ~pos_masks\n",
    "\n",
    "ax1.scatter(data[pos_masks][:,0], data[pos_masks][:,1], marker='.', alpha=1.0, color='b')\n",
    "ax1.scatter(data[neg_masks][:,0], data[neg_masks][:,1], marker='.', alpha=1.0, color='r')\n",
    "ax1.set_title('Sim+ vs Real+ Train')\n",
    "ax1.set_xlabel('Grasp center')\n",
    "ax1.set_ylabel('Grasp angle')\n",
    "\n",
    "plt.show()"
   ]
  },
  {
   "cell_type": "code",
   "execution_count": 50,
   "metadata": {},
   "outputs": [
    {
     "ename": "IndentationError",
     "evalue": "expected an indented block (2634922591.py, line 3)",
     "output_type": "error",
     "traceback": [
      "\u001b[0;36m  Input \u001b[0;32mIn [50]\u001b[0;36m\u001b[0m\n\u001b[0;31m    for i, data in enumerate(train_dataloader):\u001b[0m\n\u001b[0m                                               ^\u001b[0m\n\u001b[0;31mIndentationError\u001b[0m\u001b[0;31m:\u001b[0m expected an indented block\n"
     ]
    }
   ],
   "source": [
    "# x_t.size()\n",
    "# train_x.size()\n",
    "for i, data in enumerate(train_dataloader):\n"
   ]
  },
  {
   "cell_type": "code",
   "execution_count": 37,
   "metadata": {},
   "outputs": [],
   "source": [
    "# from gpytorch.models import ApproximateGP\n",
    "# from gpytorch.variational import CholeskyVariationalDistribution\n",
    "# from gpytorch.variational import VariationalStrategy\n",
    "\n",
    "# class GPModel(ApproximateGP):\n",
    "#     def __init__(self, inducing_points):\n",
    "#         variational_distribution = CholeskyVariationalDistribution(inducing_points.size(0))\n",
    "#         variational_strategy = VariationalStrategy(self, inducing_points, variational_distribution, learn_inducing_locations=True)\n",
    "#         super(GPModel, self).__init__(variational_strategy)\n",
    "#         self.mean_module = gpytorch.means.ConstantMean()\n",
    "#         self.covar_module = gpytorch.kernels.ScaleKernel(gpytorch.kernels.RBFKernel())\n",
    "\n",
    "#     def forward(self, x):\n",
    "#         mean_x = self.mean_module(x)\n",
    "#         covar_x = self.covar_module(x)\n",
    "#         return gpytorch.distributions.MultivariateNormal(mean_x, covar_x)\n",
    "\n",
    "# inducing_points = train_x[:500, :]\n",
    "# model = GPModel(inducing_points=inducing_points)\n",
    "# likelihood = gpytorch.likelihoods.GaussianLikelihood()\n",
    "\n",
    "# if torch.cuda.is_available():\n",
    "#     model = model.cuda()\n",
    "#     likelihood = likelihood.cuda()"
   ]
  },
  {
   "cell_type": "code",
   "execution_count": 38,
   "metadata": {},
   "outputs": [],
   "source": [
    "# likelihood = gpytorch.likelihoods.GaussianLikelihood().to(device)\n",
    "# model = ExactGPModel(x_t, train_y, likelihood).to(device)"
   ]
  },
  {
   "cell_type": "code",
   "execution_count": 51,
   "metadata": {},
   "outputs": [
    {
     "name": "stdout",
     "output_type": "stream",
     "text": [
      "The autoreload extension is already loaded. To reload it, use:\n",
      "  %reload_ext autoreload\n"
     ]
    },
    {
     "ename": "RuntimeError",
     "evalue": "You must train on the training inputs!",
     "output_type": "error",
     "traceback": [
      "\u001b[0;31m---------------------------------------------------------------------------\u001b[0m",
      "\u001b[0;31mRuntimeError\u001b[0m                              Traceback (most recent call last)",
      "Input \u001b[0;32mIn [51]\u001b[0m, in \u001b[0;36m<module>\u001b[0;34m\u001b[0m\n\u001b[1;32m     46\u001b[0m         optimizer\u001b[38;5;241m.\u001b[39mzero_grad()\n\u001b[1;32m     48\u001b[0m         \u001b[38;5;66;03m# Output from model\u001b[39;00m\n\u001b[1;32m     49\u001b[0m \u001b[38;5;66;03m#         output = likelihood(model(train_x[:10,:]))\u001b[39;00m\n\u001b[0;32m---> 50\u001b[0m         output \u001b[38;5;241m=\u001b[39m likelihood(\u001b[43mmodel\u001b[49m\u001b[43m(\u001b[49m\u001b[43minputs\u001b[49m\u001b[43m)\u001b[49m)\n\u001b[1;32m     52\u001b[0m         \u001b[38;5;66;03m# Calc loss and backprop gradients\u001b[39;00m\n\u001b[1;32m     53\u001b[0m         loss \u001b[38;5;241m=\u001b[39m \u001b[38;5;241m-\u001b[39mmll(output, labels)\u001b[38;5;241m.\u001b[39msum()\n",
      "File \u001b[0;32m~/grasp_pytorch/lib/python3.9/site-packages/gpytorch/models/exact_gp.py:256\u001b[0m, in \u001b[0;36mExactGP.__call__\u001b[0;34m(self, *args, **kwargs)\u001b[0m\n\u001b[1;32m    254\u001b[0m \u001b[38;5;28;01mif\u001b[39;00m settings\u001b[38;5;241m.\u001b[39mdebug\u001b[38;5;241m.\u001b[39mon():\n\u001b[1;32m    255\u001b[0m     \u001b[38;5;28;01mif\u001b[39;00m \u001b[38;5;129;01mnot\u001b[39;00m \u001b[38;5;28mall\u001b[39m(torch\u001b[38;5;241m.\u001b[39mequal(train_input, \u001b[38;5;28minput\u001b[39m) \u001b[38;5;28;01mfor\u001b[39;00m train_input, \u001b[38;5;28minput\u001b[39m \u001b[38;5;129;01min\u001b[39;00m \u001b[38;5;28mzip\u001b[39m(train_inputs, inputs)):\n\u001b[0;32m--> 256\u001b[0m         \u001b[38;5;28;01mraise\u001b[39;00m \u001b[38;5;167;01mRuntimeError\u001b[39;00m(\u001b[38;5;124m\"\u001b[39m\u001b[38;5;124mYou must train on the training inputs!\u001b[39m\u001b[38;5;124m\"\u001b[39m)\n\u001b[1;32m    257\u001b[0m res \u001b[38;5;241m=\u001b[39m \u001b[38;5;28msuper\u001b[39m()\u001b[38;5;241m.\u001b[39m\u001b[38;5;21m__call__\u001b[39m(\u001b[38;5;241m*\u001b[39minputs, \u001b[38;5;241m*\u001b[39m\u001b[38;5;241m*\u001b[39mkwargs)\n\u001b[1;32m    258\u001b[0m \u001b[38;5;28;01mreturn\u001b[39;00m res\n",
      "\u001b[0;31mRuntimeError\u001b[0m: You must train on the training inputs!"
     ]
    }
   ],
   "source": [
    "import math\n",
    "import torch\n",
    "import numpy as np\n",
    "import gpytorch\n",
    "from matplotlib import pyplot as plt\n",
    "\n",
    "%matplotlib inline\n",
    "%load_ext autoreload\n",
    "%autoreload 2\n",
    "\n",
    "from gpytorch.models import ExactGP\n",
    "from gpytorch.likelihoods import DirichletClassificationLikelihood\n",
    "from gpytorch.means import ConstantMean\n",
    "from gpytorch.kernels import ScaleKernel, RBFKernel\n",
    "\n",
    "from network import ExactGPModel\n",
    "\n",
    "\n",
    "\n",
    "likelihood = gpytorch.likelihoods.GaussianLikelihood().to(device)\n",
    "model = ExactGPModel(train_x, train_y, likelihood).to(device)\n",
    "\n",
    "# this is for running the notebook in our testing framework\n",
    "import os\n",
    "smoke_test = ('CI' in os.environ)\n",
    "training_iter = 2 if smoke_test else 100\n",
    "\n",
    "\n",
    "# Find optimal model hyperparameters\n",
    "model.train()\n",
    "likelihood.train()\n",
    "\n",
    "# Use the adam optimizer\n",
    "optimizer = torch.optim.Adam(model.parameters(), lr=0.1)  # Includes GaussianLikelihood parameters\n",
    "\n",
    "# \"Loss\" for GPs - the marginal log likelihood\n",
    "mll = gpytorch.mlls.ExactMarginalLogLikelihood(likelihood, model)\n",
    "\n",
    "for i in range(training_iter):\n",
    "    for k, data in enumerate(train_dataloader):\n",
    "        inputs, labels = data\n",
    "        inputs[:,0] /= 244\n",
    "        inputs[:,1] /= (3.14*2)\n",
    "        \n",
    "        # Zero gradients from previous iteration\n",
    "        optimizer.zero_grad()\n",
    "        \n",
    "        # Output from model\n",
    "#         output = likelihood(model(train_x[:10,:]))\n",
    "        output = likelihood(model(inputs))\n",
    "\n",
    "        # Calc loss and backprop gradients\n",
    "        loss = -mll(output, labels).sum()\n",
    "        loss.backward()\n",
    "        optimizer.step()\n",
    "        \n",
    "    if i % 10 == 0:\n",
    "\n",
    "        print('Iter %d/%d - Loss: %.3f   lengthscale: %.3f   noise: %.3f' % (\n",
    "            i + 1, training_iter, loss.item(),\n",
    "            model.covar_module.base_kernel.lengthscale.item(),\n",
    "            model.likelihood.noise.item()\n",
    "        ))        \n",
    "#         print('Iter %d/%d - Loss: %.3f - Acc: %.3f' % (i + 1, training_iter, loss.item(), train_accuracy))\n",
    "#         print('Iter %d/%d - Loss: %.3f' % (i + 1, training_iter, loss.item()))\n"
   ]
  },
  {
   "cell_type": "code",
   "execution_count": 42,
   "metadata": {},
   "outputs": [
    {
     "name": "stdout",
     "output_type": "stream",
     "text": [
      "20 80\n",
      "20 80\n"
     ]
    },
    {
     "data": {
      "application/vnd.jupyter.widget-view+json": {
       "model_id": "",
       "version_major": 2,
       "version_minor": 0
      },
      "text/plain": [
       "  0%|          | 0/100 [00:00<?, ?it/s]"
      ]
     },
     "metadata": {},
     "output_type": "display_data"
    }
   ],
   "source": [
    "steps_refinement = 100\n",
    "\n",
    "\n",
    "# from the GP classifier\n",
    "# f2\n",
    "# Nq = info2['pos_samples_size'], Np = info2['neg_samples_size']\n",
    "\n",
    "Nq = int(train_y.sum())\n",
    "Np = int(train_y.size()[0] - train_y.sum())\n",
    "\n",
    "# print(my_sample)\n",
    "# my_sample = torch.FloatTensor([[25, 0.3],\n",
    "my_sample = torch.FloatTensor([[60, 1.5],\n",
    "                               [210, 3]])#[160, 3]\n",
    "# my_sample = torch.FloatTensor([[210, 3]])\n",
    "\n",
    "my_sample[:,0] /= 224\n",
    "my_sample[:,1] /= (2*3.14)\n",
    "\n",
    "# my_sample = my_sample.repeat(1,200)\n",
    "\n",
    "model.to(device)\n",
    "model.eval()\n",
    "likelihood.to(device)\n",
    "likelihood.eval()\n",
    "\n",
    "all_x1, all_v1 = refine_sample_GP(my_sample.to(device), model, likelihood, steps=steps_refinement,\n",
    "# all_x1, all_v1 = refine_sample_GP(my_sample.to(device), model, steps=steps_refinement,\n",
    "#                                eta=0.0001, noise_factor=0.0000,\n",
    "                               eta=0.1, noise_factor=0.000,\n",
    "#                                eta=0.5, noise_factor=0.000,\n",
    "                              Nq = Nq, Np = Np)"
   ]
  },
  {
   "cell_type": "code",
   "execution_count": 7,
   "metadata": {
    "scrolled": false
   },
   "outputs": [
    {
     "data": {
      "text/plain": [
       "torch.Size([2, 2])"
      ]
     },
     "execution_count": 7,
     "metadata": {},
     "output_type": "execute_result"
    }
   ],
   "source": [
    "# train_x\n",
    "# all_x1\n",
    "my_sample.size()"
   ]
  },
  {
   "cell_type": "code",
   "execution_count": 8,
   "metadata": {},
   "outputs": [
    {
     "data": {
      "application/vnd.jupyter.widget-view+json": {
       "model_id": "d328dc8bba364d15b6d96100002d9f30",
       "version_major": 2,
       "version_minor": 0
      },
      "text/plain": [
       "  0%|          | 0/10 [00:00<?, ?it/s]"
      ]
     },
     "metadata": {},
     "output_type": "display_data"
    },
    {
     "name": "stdout",
     "output_type": "stream",
     "text": [
      "0.48697138 0.72278625\n"
     ]
    },
    {
     "data": {
      "image/png": "[encoded data removed]",
      "text/plain": [
       "<Figure size 864x864 with 2 Axes>"
      ]
     },
     "metadata": {
      "needs_background": "light"
     },
     "output_type": "display_data"
    }
   ],
   "source": [
    "import torch\n",
    "torch.cuda.empty_cache()\n",
    "fig, ax = plt.subplots(nrows=1, figsize=(12,12))\n",
    "ax.scatter(train_x[pos_masks][:,0], train_x[pos_masks][:,1], marker='.', alpha=0.2, color='b')\n",
    "ax.scatter(train_x[neg_masks][:,0], train_x[neg_masks][:,1], marker='.', alpha=0.2, color='r')\n",
    "\n",
    "plt.scatter(my_sample[:, 0]*224, my_sample[:,1]*(2*3.14), marker='*', color='g', s=200)\n",
    "# plt.scatter(my_sample[:, 0], my_sample[:,1], marker='*', color='g', s=200)\n",
    "\n",
    "for i in range(1, steps_refinement, 1):\n",
    "    plt.scatter(all_x1[i][:, 0]*224, all_x1[i][:,1]*(2*3.14), marker='d', color='g', s=4)\n",
    "#     plt.scatter(all_x1[i][:, 0], all_x1[i][:,1], marker='d', color='g', s=4)\n",
    "\n",
    "\n",
    "Z, CS = draw_density_ratio_GP(ax=ax,\n",
    "                   model=model,\n",
    "                   likelihood=likelihood,\n",
    "                   p_type='p_y_given_x',\n",
    "#                    p_type='log_density_ratio',\n",
    "                   device=device,\n",
    "                   x_lim=[0, 224],\n",
    "                   y_lim=[0, 2*np.pi],\n",
    "                   cmap='RdBu',\n",
    "                   step_size=0.1,\n",
    "                   Np=Np, Nq=Nq)\n",
    "fig.colorbar(CS, ax=ax)\n",
    "\n",
    "\n",
    "\n",
    "ax.set_title(f'GP Classifier Log Density Ratio')\n",
    "ax.set_xlim([0, 300])\n",
    "ax.set_ylim([0, 2*np.pi])\n",
    "\n",
    "plt.show()"
   ]
  },
  {
   "cell_type": "code",
   "execution_count": null,
   "metadata": {},
   "outputs": [],
   "source": []
  },
  {
   "cell_type": "code",
   "execution_count": null,
   "metadata": {},
   "outputs": [],
   "source": []
  },
  {
   "cell_type": "code",
   "execution_count": null,
   "metadata": {},
   "outputs": [],
   "source": []
  },
  {
   "cell_type": "code",
   "execution_count": null,
   "metadata": {},
   "outputs": [],
   "source": []
  },
  {
   "cell_type": "code",
   "execution_count": null,
   "metadata": {},
   "outputs": [],
   "source": []
  },
  {
   "cell_type": "code",
   "execution_count": null,
   "metadata": {},
   "outputs": [],
   "source": []
  },
  {
   "cell_type": "markdown",
   "metadata": {},
   "source": [
    "# Refining Multiple Grasps"
   ]
  },
  {
   "cell_type": "markdown",
   "metadata": {},
   "source": [
    "1. Create test dataset\n",
    "2. Refine datapoints\n",
    "    - using single refinement\n",
    "    - using corrector refinement\n",
    "3. create graph/table"
   ]
  },
  {
   "cell_type": "code",
   "execution_count": null,
   "metadata": {},
   "outputs": [],
   "source": [
    "from dataset import ToyGraspDataset\n",
    "# real_dataset = ToyGraspDataset(root='data', size=10000, is_pos_label=True, device=device)\n",
    "real_dataset = ToyGraspDataset(root='data', name='real_refine', size=200, is_pos_label=True, device=device)\n",
    "\n",
    "# show the data\n",
    "real_data = real_dataset.data\n",
    "real_pos_masks = real_data[:,2] == 1\n",
    "real_neg_masks = ~real_pos_masks\n",
    "\n",
    "\n",
    "fig = plt.figure(figsize=(6,6))\n",
    "ax1 = fig.add_subplot(111)\n",
    "\n",
    "ax1.scatter(real_data[real_pos_masks][:,0], real_data[real_pos_masks][:,1], marker='.', alpha=1.0, color='b')\n",
    "ax1.scatter(real_data[real_neg_masks][:,0], real_data[real_neg_masks][:,1], marker='.', alpha=1.0, color='r')\n",
    "ax1.set_title('Real+ vs Real-')\n",
    "ax1.set_xlabel('Grasp center')\n",
    "ax1.set_ylabel('Grasp angle')\n",
    "\n",
    "plt.show()\n",
    "\n",
    "real_data = torch.tensor(real_data[:,:2])\n",
    "real_data[:,0] /= 224\n",
    "real_data[:,1] /= (2*3.14)\n",
    "\n",
    "all_data = {}"
   ]
  },
  {
   "cell_type": "code",
   "execution_count": null,
   "metadata": {},
   "outputs": [],
   "source": [
    "# load pos vs neg classifier\n",
    "f1 = ClassifierNN([2, 64, 64, 1])\n",
    "f1, info1 = load_model_info('pos_vs_neg', f1)\n",
    "f1 = f1.to(device)\n",
    "all_data['f1'] = f1\n",
    "all_data['info1'] = info1"
   ]
  },
  {
   "cell_type": "code",
   "execution_count": null,
   "metadata": {},
   "outputs": [],
   "source": [
    "# load sim+ vs sim- classifier\n",
    "f2 = ClassifierNN([2, 32, 32, 1])\n",
    "f2, info2 = load_model_info('sim_vs_real_1k', f2)\n",
    "# f2, info2 = load_model_info('sim_vs_real_2.5k', f2)\n",
    "# f2, info2 = load_model_info('sim_vs_real_1k', f2)\n",
    "f2 = f2.to(device)\n",
    "all_data['f2'] = f2\n",
    "all_data['info2'] = info2"
   ]
  },
  {
   "cell_type": "code",
   "execution_count": null,
   "metadata": {},
   "outputs": [],
   "source": [
    "f4 = model\n",
    "info4={}\n",
    "info4['pos_samples_size'] = Nq\n",
    "info4['neg_samples_size'] = Np\n",
    "all_data['f4'] = f4\n",
    "all_data['info4'] = info4"
   ]
  },
  {
   "cell_type": "code",
   "execution_count": null,
   "metadata": {},
   "outputs": [],
   "source": [
    "# set refinement parameters\n",
    "f_div = 'KL'\n",
    "steps_refinement = 100"
   ]
  },
  {
   "cell_type": "markdown",
   "metadata": {},
   "source": [
    "## Classifier Refinement"
   ]
  },
  {
   "cell_type": "code",
   "execution_count": null,
   "metadata": {},
   "outputs": [],
   "source": [
    "all_x1, all_v1 = refine_sample(real_data.to(device), f1, steps=steps_refinement, f=f_div,\n",
    "                               eta=0.00001, noise_factor=0.001,\n",
    "                              Nq = info1['pos_samples_size'], Np = info1['neg_samples_size'])\n",
    "\n",
    "refined_points = all_x1[-1].clone()\n",
    "refined_points[:,0] *= 224\n",
    "refined_points[:,1] *= (2*3.14)*(180/np.pi)\n",
    "\n",
    "n_orig_pos = np.sum(real_pos_masks)\n",
    "n_refined_pos, pos_mask = count_real_positives(refined_points)\n",
    "\n",
    "all_data['all_x1'] = all_x1\n",
    "all_data['all_v1'] = all_v1\n",
    "all_data['n_orig_pos'] = n_orig_pos\n",
    "all_data['n_pos_1'] = n_refined_pos\n",
    "all_data['pos_mask_1'] = pos_mask\n",
    "\n",
    "\n",
    "print(n_orig_pos)\n",
    "print(n_refined_pos)"
   ]
  },
  {
   "cell_type": "markdown",
   "metadata": {},
   "source": [
    "## NN Corrector Refinement "
   ]
  },
  {
   "cell_type": "code",
   "execution_count": null,
   "metadata": {},
   "outputs": [],
   "source": [
    "all_x2, all_v2 = refine_sample(real_data.to(device), f2, steps=steps_refinement, f=f_div,\n",
    "                               eta=0.0001, noise_factor=0.0000,\n",
    "                              Nq = info2['pos_samples_size'], Np = info2['neg_samples_size'])\n",
    "refined_points = all_x2[-1].clone()\n",
    "refined_points[:,0] *= 224\n",
    "refined_points[:,1] *= (2*3.14)*(180/np.pi)\n",
    "\n",
    "n_refined_pos, pos_mask = count_real_positives(refined_points)\n",
    "all_data['pos_mask_2'] = pos_mask\n",
    "\n",
    "all_data['all_x2'] = all_x2\n",
    "all_data['all_v2'] = all_v2\n",
    "all_data['n_pos_2'] = n_refined_pos\n",
    "\n",
    "print(n_orig_pos)\n",
    "print(n_refined_pos)"
   ]
  },
  {
   "cell_type": "markdown",
   "metadata": {},
   "source": [
    "## Classifier + NN Corrector Refinement"
   ]
  },
  {
   "cell_type": "code",
   "execution_count": null,
   "metadata": {},
   "outputs": [],
   "source": [
    "all_x3, all_v3 = refine_sample2(real_data.to(device), f1, f2,\n",
    "                                steps=steps_refinement,\n",
    "#                                 steps=150,\n",
    "                                f=f_div,\n",
    "                                eta=0.00004,\n",
    "                                noise_factor=0.000,\n",
    "                                Np1=info['neg_samples_size'],\n",
    "                                Nq1=info['pos_samples_size'],\n",
    "                                Np2=info2['neg_samples_size'],\n",
    "                                Nq2=info2['pos_samples_size']\n",
    "                                )\n",
    "# all_x8 = torch.cat(all_x8).numpy()\n",
    "\n",
    "refined_points = all_x3[-1].clone()\n",
    "refined_points[:,0] *= 224\n",
    "refined_points[:,1] *= (2*3.14)*(180/np.pi)\n",
    "\n",
    "n_refined_pos, pos_mask = count_real_positives(refined_points)\n",
    "all_data['pos_mask_3'] = pos_mask\n",
    "all_data['all_x3'] = all_x3\n",
    "all_data['all_v3'] = all_v3\n",
    "all_data['n_pos_3'] = n_refined_pos\n",
    "\n",
    "print(n_orig_pos)\n",
    "print(n_refined_pos)"
   ]
  },
  {
   "cell_type": "markdown",
   "metadata": {},
   "source": [
    "## GP Corrector Refinement"
   ]
  },
  {
   "cell_type": "code",
   "execution_count": null,
   "metadata": {},
   "outputs": [],
   "source": [
    "all_x_GC, all_v_GC = refine_sample_GP(real_data.to(device), f4, likelihood,\n",
    "                                steps=steps_refinement,\n",
    "#                                 steps=150,\n",
    "                                f=f_div,\n",
    "                                eta=0.00004,\n",
    "                                noise_factor=0.000,\n",
    "                                Np=info3['neg_samples_size'],\n",
    "                                Nq=info3['pos_samples_size'],\n",
    "                                )\n",
    "# all_x8 = torch.cat(all_x8).numpy()\n",
    "\n",
    "refined_points = all_x_GC[-1].clone()\n",
    "refined_points[:,0] *= 224\n",
    "refined_points[:,1] *= (2*3.14)*(180/np.pi)\n",
    "\n",
    "n_refined_pos, pos_mask = count_real_positives(refined_points)\n",
    "all_data['pos_mask_4'] = pos_mask\n",
    "all_data['likelihood'] = likelihood\n",
    "all_data['all_x4'] = all_x_GP\n",
    "all_data['all_v4'] = all_v_GP\n",
    "all_data['n_pos_4'] = n_refined_pos\n",
    "\n",
    "print(n_orig_pos)\n",
    "print(n_refined_pos)"
   ]
  },
  {
   "cell_type": "markdown",
   "metadata": {},
   "source": [
    "## Classifier + GP Corrector Refinement"
   ]
  },
  {
   "cell_type": "code",
   "execution_count": null,
   "metadata": {},
   "outputs": [],
   "source": [
    "f4 = model\n",
    "info4={}\n",
    "info4['pos_samples_size'] = Nq\n",
    "info4['neg_samples_size'] = Np\n",
    "all_x_GP, all_v_GP = refine_sample2_GP(real_data.to(device), f1, f4, likelihood,\n",
    "                                steps=steps_refinement,\n",
    "#                                 steps=150,\n",
    "                                f=f_div,\n",
    "                                eta=0.00004,\n",
    "                                noise_factor=0.000,\n",
    "                                Np1=info['neg_samples_size'],\n",
    "                                Nq1=info['pos_samples_size'],\n",
    "                                Np2=info3['neg_samples_size'],\n",
    "                                Nq2=info3['pos_samples_size']\n",
    "                                )\n",
    "# all_x8 = torch.cat(all_x8).numpy()\n",
    "\n",
    "refined_points = all_x_GP[-1].clone()\n",
    "refined_points[:,0] *= 224\n",
    "refined_points[:,1] *= (2*3.14)*(180/np.pi)\n",
    "\n",
    "n_refined_pos, pos_mask = count_real_positives(refined_points)\n",
    "all_data['pos_mask_5'] = pos_mask\n",
    "\n",
    "all_data['all_x5'] = all_x_GP\n",
    "all_data['all_v5'] = all_v_GP\n",
    "all_data['n_pos_5'] = n_refined_pos\n",
    "\n",
    "\n",
    "print(n_orig_pos)\n",
    "print(n_refined_pos)"
   ]
  },
  {
   "cell_type": "code",
   "execution_count": null,
   "metadata": {},
   "outputs": [],
   "source": [
    "all_data.keys()"
   ]
  },
  {
   "cell_type": "code",
   "execution_count": null,
   "metadata": {
    "scrolled": false
   },
   "outputs": [],
   "source": [
    "colors = ['b','g','r','c','m','y','k','w']\n",
    "titles = ['',\n",
    "          'NN',\n",
    "          'NN Corrector',\n",
    "          'NN + NN Corrector',\n",
    "          'GP Corrector',\n",
    "          'NN + GP Corrector'\n",
    "         ]\n",
    "\n",
    "fig = plt.figure(figsize=(10,50))\n",
    "\n",
    "for a in range(1,6):\n",
    "    ax = fig.add_subplot(int(f'51{a}'))\n",
    "\n",
    "    fig.colorbar(CS, ax=ax)\n",
    "    ax.set_xlim([0, 224])\n",
    "    ax.set_ylim([0, 2*np.pi])\n",
    "                         \n",
    "    pos_mask = all_data[f'pos_mask_{a}']\n",
    "#     neg_mask = ~pos_mask\n",
    "                         \n",
    "    for i in range(50):\n",
    "#     for i in range(real_data.size(0)):\n",
    "\n",
    "#     if a!=5:\n",
    "#         if pos_mask[i]==True:\n",
    "#             ax.scatter(all_data[f'all_x{a}'][-1][i, 0]*224, all_data[f'all_x{a}'][-1][i,1]*(2*3.14), marker='o', color='b', s=10)\n",
    "#         else:\n",
    "#             ax.scatter(all_data[f'all_x{a}'][-1][i, 0]*224, all_data[f'all_x{a}'][-1][i,1]*(2*3.14), marker='o', color='r', s=10)\n",
    "#     else:\n",
    "        for j in range(1, steps_refinement, 5):\n",
    "            if pos_mask[i]==True:\n",
    "                ax.scatter(all_data[f'all_x{a}'][j][i, 0]*224, all_data[f'all_x{a}'][j][i,1]*(2*3.14), marker='o', color='b', s=10)\n",
    "            else:\n",
    "                ax.scatter(all_data[f'all_x{a}'][j][i, 0]*224, all_data[f'all_x{a}'][j][i,1]*(2*3.14), marker='o', color='r', s=10)\n",
    "\n",
    "#     info = None\n",
    "    \n",
    "    if a<3:\n",
    "        f = all_data[f'f{a}']\n",
    "        info = all_data[f'info{a}']\n",
    "    elif a == 3:\n",
    "        f = all_data['f2']\n",
    "        info = all_data['info2']\n",
    "    elif a>=4:\n",
    "        f = all_data['f4']\n",
    "        info = all_data['info4']             \n",
    "                         \n",
    "    if a < 4:\n",
    "        Z, CS = draw_density_ratio(ax=ax,\n",
    "                           model=f,\n",
    "        #                    p_type='log_density_ratio',\n",
    "                           p_type='p_y_given_x',\n",
    "                           device=device,\n",
    "                           x_lim=[0, 224],\n",
    "                           y_lim=[0, 2*np.pi],\n",
    "                           cmap='RdBu',\n",
    "                           step_size=0.05,\n",
    "                           Np=info['neg_samples_size'], Nq=info['pos_samples_size'])\n",
    "    else:\n",
    "\n",
    "        Z, CS = draw_density_ratio_GP(ax=ax,\n",
    "                           model=f,\n",
    "                           likelihood=all_data['likelihood'],\n",
    "                           p_type='p_y_given_x',\n",
    "        #                    p_type='log_density_ratio',\n",
    "                           device=device,\n",
    "                           x_lim=[0, 224],\n",
    "                           y_lim=[0, 2*np.pi],\n",
    "                           cmap='RdBu',\n",
    "                           step_size=0.1,\n",
    "                           Np=info['neg_samples_size'],\n",
    "                           Nq=info['pos_samples_size'])\n",
    "    # Z, CS = draw_density_ratio2(ax=ax,\n",
    "    #                    model1=f,\n",
    "    #                    model2=f2,\n",
    "    #                    device=device,\n",
    "    #                    x_lim=[0, 224],\n",
    "    #                    y_lim=[0, 2*np.pi],\n",
    "    #                    cmap='RdBu',\n",
    "    #                    step_size=0.05,\n",
    "    #                    Np1=info['neg_samples_size'],\n",
    "    #                    Nq1=info['pos_samples_size'],\n",
    "    #                    Np2=info2['neg_samples_size'],\n",
    "    #                    Nq2=info2['pos_samples_size'])\n",
    "    ax.set_title(f\"{titles[a]} {all_data[f'n_pos_{a}']}/{real_data.size(0)}\", fontsize=20)\n",
    "    \n",
    "\n",
    "\n",
    "plt.show()"
   ]
  },
  {
   "cell_type": "code",
   "execution_count": null,
   "metadata": {},
   "outputs": [],
   "source": [
    "info['pos_samples_size']"
   ]
  },
  {
   "cell_type": "code",
   "execution_count": null,
   "metadata": {},
   "outputs": [],
   "source": [
    "colors = ['b','g','r','c','m','y','k','w']\n",
    "\n",
    "fig, ax = plt.subplots(nrows=1, figsize=(8,8))\n",
    "# ax.scatter(corr_data[c_pos_masks][:,0], corr_data[c_pos_masks][:,1], marker='.', alpha=0.2, color='b')\n",
    "# ax.scatter(corr_data[c_neg_masks][:,0], corr_data[c_neg_masks][:,1], marker='.', alpha=0.2, color='r')\n",
    "\n",
    "\n",
    "# for i in range(real_data.size(0)):\n",
    "# for i in range(10):\n",
    "#     plt.scatter(real_data[i, 0]*224, real_data[i,1]*(2*3.14), marker='*', color=colors[i%8], s=200)\n",
    "#     for j in range(1, steps_refinement, 1):\n",
    "#         plt.scatter(all_x_GP[j][i, 0]*224, all_x_GP[j][i,1]*(2*3.14), marker='d', color=colors[i%8], s=4)\n",
    "\n",
    "\n",
    "\n",
    "for i in range(real_data.size(0)):\n",
    "# for i in range(10):\n",
    "#     plt.scatter(real_data[i, 0]*224, real_data[i,1]*(2*3.14), marker='*', color=colors[i%8], s=200)\n",
    "    plt.scatter(all_x_GP[-1][i, 0]*224, all_x_GP[-1][i,1]*(2*3.14), marker='d', color=colors[i%8], s=4)\n",
    "\n",
    "\n",
    "\n",
    "Z, CS = draw_density_ratio_GP(ax=ax,\n",
    "                   model=f3,\n",
    "                   likelihood=likelihood,\n",
    "                   p_type='p_y_given_x',\n",
    "#                    p_type='log_density_ratio',\n",
    "                   device=device,\n",
    "                   x_lim=[0, 224],\n",
    "                   y_lim=[0, 2*np.pi],\n",
    "                   cmap='RdBu',\n",
    "                   step_size=0.1,\n",
    "                   Np=info3['neg_samples_size'],\n",
    "                   Nq=info3['pos_samples_size'])\n",
    "\n",
    "\n",
    "# ax.set_title(f'Log density ratio')\n",
    "ax.set_title(f'GP Corrector DGflow')\n",
    "fig.colorbar(CS, ax=ax)\n",
    "ax.set_xlim([0, 224])\n",
    "ax.set_ylim([0, 2*np.pi])\n",
    "\n",
    "plt.show()"
   ]
  },
  {
   "cell_type": "code",
   "execution_count": null,
   "metadata": {},
   "outputs": [],
   "source": [
    "colors = ['b','g','r','c','m','y','k','w']\n",
    "\n",
    "fig, ax = plt.subplots(nrows=1, figsize=(12,12))\n",
    "# ax.scatter(corr_data[c_pos_masks][:,0], corr_data[c_pos_masks][:,1], marker='.', alpha=0.2, color='b')\n",
    "# ax.scatter(corr_data[c_neg_masks][:,0], corr_data[c_neg_masks][:,1], marker='.', alpha=0.2, color='r')\n",
    "\n",
    "\n",
    "# for i in range(real_data.size(0)):\n",
    "for i in range(10):\n",
    "    plt.scatter(real_data[i, 0]*224, real_data[i,1]*(2*3.14), marker='*', color=colors[i%8], s=200)\n",
    "    for j in range(1, steps_refinement, 1):\n",
    "        plt.scatter(all_x8[j][i, 0]*224, all_x8[j][i,1]*(2*3.14), marker='d', color=colors[i%8], s=4)\n",
    "#         plt.scatter(all_xr[j][i, 0]*224, all_xr[j][i,1]*(2*3.14), marker='d', color=colors[i%8], s=4)\n",
    "\n",
    "\n",
    "\n",
    "\n",
    "\n",
    "\n",
    "Z, CS = draw_density_ratio_GP(ax=ax,\n",
    "#                    model=f,\n",
    "                   model=f3,\n",
    "                   likelihood=likelihood,\n",
    "#                    p_type='log_density_ratio',\n",
    "                   p_type='p_y_given_x',\n",
    "                   device=device,\n",
    "                   x_lim=[0, 224],\n",
    "                   y_lim=[0, 2*np.pi],\n",
    "                   cmap='RdBu',\n",
    "                   step_size=0.05,\n",
    "                   Np=info3['neg_samples_size'], Nq=info3['pos_samples_size'])\n",
    "\n",
    "# Z, CS = draw_density_ratio2(ax=ax,\n",
    "#                    model1=f,\n",
    "#                    model2=f2,\n",
    "#                    device=device,\n",
    "#                    x_lim=[0, 224],\n",
    "#                    y_lim=[0, 2*np.pi],\n",
    "#                    cmap='RdBu',\n",
    "#                    step_size=0.05,\n",
    "#                    Np1=info['neg_samples_size'],\n",
    "#                    Nq1=info['pos_samples_size'],\n",
    "#                    Np2=info2['neg_samples_size'],\n",
    "#                    Nq2=info2['pos_samples_size'])\n",
    "\n",
    "\n",
    "\n",
    "# ax.set_title(f'Log density ratio')\n",
    "ax.set_title(f'NN Corrector DGflow')\n",
    "fig.colorbar(CS, ax=ax)\n",
    "ax.set_xlim([0, 224])\n",
    "ax.set_ylim([0, 2*np.pi])\n",
    "\n",
    "plt.show()"
   ]
  },
  {
   "cell_type": "code",
   "execution_count": null,
   "metadata": {},
   "outputs": [],
   "source": []
  },
  {
   "cell_type": "code",
   "execution_count": null,
   "metadata": {},
   "outputs": [],
   "source": []
  },
  {
   "cell_type": "code",
   "execution_count": null,
   "metadata": {},
   "outputs": [],
   "source": []
  },
  {
   "cell_type": "code",
   "execution_count": null,
   "metadata": {},
   "outputs": [],
   "source": [
    "item = load_item('fork')"
   ]
  },
  {
   "cell_type": "code",
   "execution_count": null,
   "metadata": {},
   "outputs": [],
   "source": [
    "# from matplotlib.patches import ArrowStyle\n",
    "from matplotlib import animation\n",
    "# arrow_style = ArrowStyle(\"Simple\", head_length=.6, head_width=1.0, tail_width=.1)\n",
    "from matplotlib.patches import Arrow"
   ]
  },
  {
   "cell_type": "code",
   "execution_count": null,
   "metadata": {},
   "outputs": [],
   "source": []
  },
  {
   "cell_type": "code",
   "execution_count": null,
   "metadata": {},
   "outputs": [],
   "source": [
    "%matplotlib notebook"
   ]
  },
  {
   "cell_type": "code",
   "execution_count": null,
   "metadata": {},
   "outputs": [],
   "source": [
    "sample_stream = all_x8[1::2]"
   ]
  },
  {
   "cell_type": "code",
   "execution_count": null,
   "metadata": {},
   "outputs": [],
   "source": [
    "# def animate_grasp(sample_stream, fname):\n",
    "fname = 'bad_to_pos_handle'\n",
    "fig, ax = plt.subplots(nrows=1, figsize=(4, 4))\n",
    "x, angle = sample_stream[0]\n",
    "x *= 224\n",
    "angle *= 2*3.14\n",
    "x2_coef = np.sin(angle)\n",
    "x1_coef = np.cos(angle)\n",
    "x1 = x + x1_coef*50#+50#*50\n",
    "x2 = 224/2 + x2_coef*50# +50#*50\n",
    "\n",
    "im = ax.imshow(item, cmap='Greys')\n",
    "arr1 = Arrow(x1,x2,x+x1_coef*20-x1, 224/2+x2_coef*20-x2, width=15)\n",
    "arr1 = ax.add_patch(arr1)\n",
    "\n",
    "x1 = x - x1_coef*50\n",
    "x2 = 224/2 - x2_coef*50\n",
    "arrow = Arrow(x1,x2, x-x1_coef*20-x1, 224/2-x2_coef*20-x2, width=15)\n",
    "arr2 = ax.add_patch(arrow)\n",
    "\n",
    "origin = ax.scatter(x, 224/2, s=40, color='g')\n",
    "\n",
    "\n",
    "def init():\n",
    "    global im, arr1, arr2, origin\n",
    "\n",
    "    x, angle = sample_stream[0]\n",
    "    x *= 224\n",
    "    angle *= 2*3.14\n",
    "    x2_coef = np.sin(angle)\n",
    "    x1_coef = np.cos(angle)\n",
    "    x1 = x + x1_coef*50#+50#*50\n",
    "    x2 = 224/2 + x2_coef*50# +50#*50\n",
    "\n",
    "    arr1.remove()\n",
    "    arr1 = Arrow(x1,x2,x+x1_coef*20-x1, 224/2+x2_coef*20-x2, width=15)\n",
    "    ax.add_patch(arr1)\n",
    "\n",
    "    arr2.remove()\n",
    "    x1 = x - x1_coef*50\n",
    "    x2 = 224/2 - x2_coef*50\n",
    "    arrow = Arrow(x1,x2, x-x1_coef*20-x1, 224/2-x2_coef*20-x2, width=15)\n",
    "    arr2 = ax.add_patch(arrow)\n",
    "\n",
    "\n",
    "    origin.set_offsets((x, 224/2))\n",
    "    return im, arr1, arr2, origin\n",
    "\n",
    "# let us make animation\n",
    "def animate(i):\n",
    "    global im, arr1, arr2, origin\n",
    "    if i <=30:\n",
    "        init()\n",
    "        return\n",
    "    else:\n",
    "        i = i - 30\n",
    "    x, angle = sample_stream[i]\n",
    "    x *= 224\n",
    "    angle *= 2*3.14\n",
    "    x2_coef = np.sin(angle)\n",
    "    x1_coef = np.cos(angle)\n",
    "    x1 = x + x1_coef*50#+50#*50\n",
    "    x2 = 224/2 + x2_coef*50# +50#*50\n",
    "\n",
    "    arr1.remove()\n",
    "    arrow = Arrow(x1,x2,x+x1_coef*20-x1, 224/2+x2_coef*20-x2, width=15)\n",
    "    arr1 = ax.add_patch(arrow)\n",
    "\n",
    "    arr2.remove()\n",
    "    x1 = x - x1_coef*50\n",
    "    x2 = 224/2 - x2_coef*50\n",
    "    arrow = Arrow(x1,x2, x-x1_coef*20-x1, 224/2-x2_coef*20-x2, width=15)\n",
    "    arr2 = ax.add_patch(arrow)\n",
    "\n",
    "\n",
    "    origin.set_offsets((x, 224/2))\n",
    "    return im, arr1, arr2, origin\n",
    "\n",
    "Writer = animation.writers['ffmpeg']\n",
    "writer = Writer(fps=30, metadata=dict(artist='Me'), bitrate=20000)\n",
    "\n",
    "anim = animation.FuncAnimation(fig, animate, init_func=init, interval=1500, blit=True, frames=30+sample_stream.shape[0])\n",
    "anim.save(f'{fname}.mp4', writer=writer)\n",
    "plt.show()"
   ]
  },
  {
   "cell_type": "code",
   "execution_count": null,
   "metadata": {},
   "outputs": [],
   "source": [
    "sample_stream = all_x8[::2]"
   ]
  },
  {
   "cell_type": "code",
   "execution_count": null,
   "metadata": {},
   "outputs": [],
   "source": [
    "# def animate_grasp(sample_stream, fname):\n",
    "fname = 'neg_to_pos'\n",
    "fig, ax = plt.subplots(nrows=1, figsize=(4, 4))\n",
    "x, angle = sample_stream[0]\n",
    "x *= 224\n",
    "angle *= 2*3.14\n",
    "x2_coef = np.sin(angle)\n",
    "x1_coef = np.cos(angle)\n",
    "x1 = x + x1_coef*50#+50#*50\n",
    "x2 = 224/2 + x2_coef*50# +50#*50\n",
    "\n",
    "im = ax.imshow(item, cmap='Greys')\n",
    "arr1 = Arrow(x1,x2,x+x1_coef*20-x1, 224/2+x2_coef*20-x2, width=15)\n",
    "arr1 = ax.add_patch(arr1)\n",
    "\n",
    "x1 = x - x1_coef*50\n",
    "x2 = 224/2 - x2_coef*50\n",
    "arrow = Arrow(x1,x2, x-x1_coef*20-x1, 224/2-x2_coef*20-x2, width=15)\n",
    "arr2 = ax.add_patch(arrow)\n",
    "\n",
    "origin = ax.scatter(x, 224/2, s=40, color='g')\n",
    "\n",
    "\n",
    "def init():\n",
    "    global im, arr1, arr2, origin\n",
    "\n",
    "    x, angle = sample_stream[0]\n",
    "    x *= 224\n",
    "    angle *= 2*3.14\n",
    "    x2_coef = np.sin(angle)\n",
    "    x1_coef = np.cos(angle)\n",
    "    x1 = x + x1_coef*50#+50#*50\n",
    "    x2 = 224/2 + x2_coef*50# +50#*50\n",
    "\n",
    "    arr1.remove()\n",
    "    arr1 = Arrow(x1,x2,x+x1_coef*20-x1, 224/2+x2_coef*20-x2, width=15)\n",
    "    ax.add_patch(arr1)\n",
    "\n",
    "    arr2.remove()\n",
    "    x1 = x - x1_coef*50\n",
    "    x2 = 224/2 - x2_coef*50\n",
    "    arrow = Arrow(x1,x2, x-x1_coef*20-x1, 224/2-x2_coef*20-x2, width=15)\n",
    "    arr2 = ax.add_patch(arrow)\n",
    "\n",
    "\n",
    "    origin.set_offsets((x, 224/2))\n",
    "    return im, arr1, arr2, origin\n",
    "\n",
    "# let us make animation\n",
    "def animate(i):\n",
    "    global im, arr1, arr2, origin\n",
    "    if i <=30:\n",
    "        init()\n",
    "        return\n",
    "    else:\n",
    "        i = i - 30\n",
    "    x, angle = sample_stream[i]\n",
    "    x *= 224\n",
    "    angle *= 2*3.14\n",
    "    x2_coef = np.sin(angle)\n",
    "    x1_coef = np.cos(angle)\n",
    "    x1 = x + x1_coef*50#+50#*50\n",
    "    x2 = 224/2 + x2_coef*50# +50#*50\n",
    "\n",
    "    arr1.remove()\n",
    "    arrow = Arrow(x1,x2,x+x1_coef*20-x1, 224/2+x2_coef*20-x2, width=15)\n",
    "    arr1 = ax.add_patch(arrow)\n",
    "\n",
    "    arr2.remove()\n",
    "    x1 = x - x1_coef*50\n",
    "    x2 = 224/2 - x2_coef*50\n",
    "    arrow = Arrow(x1,x2, x-x1_coef*20-x1, 224/2-x2_coef*20-x2, width=15)\n",
    "    arr2 = ax.add_patch(arrow)\n",
    "\n",
    "\n",
    "    origin.set_offsets((x, 224/2))\n",
    "    return im, arr1, arr2, origin\n",
    "\n",
    "Writer = animation.writers['ffmpeg']\n",
    "writer = Writer(fps=30, metadata=dict(artist='Me'), bitrate=20000)\n",
    "\n",
    "anim = animation.FuncAnimation(fig, animate, init_func=init, interval=1500, blit=True, frames=30+sample_stream.shape[0])\n",
    "anim.save(f'{fname}.mp4', writer=writer)\n",
    "plt.show()"
   ]
  },
  {
   "cell_type": "code",
   "execution_count": null,
   "metadata": {},
   "outputs": [],
   "source": []
  }
 ],
 "metadata": {
  "kernelspec": {
   "display_name": "Python 3",
   "language": "python",
   "name": "python3"
  },
  "language_info": {
   "codemirror_mode": {
    "name": "ipython",
    "version": 3
   },
   "file_extension": ".py",
   "mimetype": "text/x-python",
   "name": "python",
   "nbconvert_exporter": "python",
   "pygments_lexer": "ipython3",
   "version": "3.9.9"
  }
 },
 "nbformat": 4,
 "nbformat_minor": 4
}
