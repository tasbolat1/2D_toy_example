{
 "cells": [
  {
   "cell_type": "code",
   "execution_count": 7,
   "id": "e7659c22",
   "metadata": {},
   "outputs": [],
   "source": [
    "from sklearn.gaussian_process import GaussianProcessRegressor\n",
    "from sklearn.gaussian_process.kernels import WhiteKernel, DotProduct, RBF\n",
    "import matplotlib.pyplot as plt\n",
    "import numpy as np\n",
    "\n",
    "# Random seeds\n",
    "np.random.seed(seed=0)  # Set seed for NumPy\n",
    "random_state = 0\n",
    "\n",
    "# Generate features, and take norm for use with target\n",
    "x = np.random.normal(loc=0, scale=1, size=(50, 1))\n",
    "y = np.sin(x)\n",
    "\n",
    "\n",
    "\n"
   ]
  },
  {
   "cell_type": "code",
   "execution_count": 15,
   "id": "7c398860",
   "metadata": {},
   "outputs": [],
   "source": [
    "import torch\n",
    "import matplotlib.pyplot as plt\n",
    "from torch import distributions\n",
    "import seaborn as sns\n",
    "import numpy as np\n",
    "import torch\n",
    "import torch.nn as nn\n",
    "from tqdm.auto import tqdm\n",
    "import matplotlib as mpl\n",
    "mpl.rcParams['font.size'] = 14\n",
    "\n",
    "torch.manual_seed(42)\n",
    "np.random.seed(42)\n",
    "device = torch.device('cuda:0' if torch.cuda.is_available() else 'cpu')\n",
    "\n",
    "from network import ClassifierNN,load_model_info\n",
    "from density_utils import draw_density_ratio, refine_sample, refine_sample2, draw_density_ratio2\n",
    "\n",
    "from utils import load_item, show_grasp\n",
    "from dataset import ToyGraspDataset"
   ]
  },
  {
   "cell_type": "code",
   "execution_count": 20,
   "id": "8da6f8d0",
   "metadata": {},
   "outputs": [],
   "source": [
    "# train classifier\n",
    "train_dataset = ToyGraspDataset(root='data', name='train_data', size=50, is_pos_label=True, device=device, dataset='sim2real')\n",
    "# train_dataloader = DataLoader(train_dataset, batch_size=512, shuffle=True)\n",
    "\n",
    "test_dataset = ToyGraspDataset(root='data', name='test_data', size=50, is_pos_label=True, device=device, dataset='sim2real')\n",
    "# test_dataloader = DataLoader(test_dataset, batch_size=512, shuffle=False)\n",
    "\n",
    "# dataset = ToyGraspDataset(root='data', size=50)\n",
    "x = train_dataset.data[:,:2]\n",
    "y = train_dataset.data[:,2].reshape(-1,1)\n",
    "\n",
    "x_test = test_dataset.data[:,:2]\n",
    "y_test = test_dataset.data[:,2].reshape(-1,1)"
   ]
  },
  {
   "cell_type": "code",
   "execution_count": 24,
   "id": "c3975773",
   "metadata": {},
   "outputs": [],
   "source": [
    "# Create kernel and define GPR\n",
    "kernel = RBF() + WhiteKernel()\n",
    "gpr = GaussianProcessRegressor(kernel=kernel, random_state=random_state)\n",
    "\n",
    "# Fit GPR model\n",
    "gpr.fit(x, y)\n",
    "\n",
    "# Create test data\n",
    "# x_test = np.random.normal(loc=0, scale=1, size=(50, 1))\n",
    "# y_test = np.sin(x_test)\n",
    " \n",
    "# Predict mean\n",
    "y_hat, y_sigma = gpr.predict(x_test, return_std=True)"
   ]
  },
  {
   "cell_type": "code",
   "execution_count": null,
   "id": "3d652d6d",
   "metadata": {},
   "outputs": [],
   "source": [
    "# Initialize plot\n",
    "f, ax = plt.subplots(1, 1, figsize=(4, 3))\n",
    "\n",
    "# Squeeze data\n",
    "x = np.squeeze(x)\n",
    "y = np.squeeze(y)\n",
    "x_test = np.squeeze(x_test)\n",
    "y_test = np.squeeze(y_test)\n",
    "\n",
    "# Plot the training data\n",
    "ax.scatter(x, y)\n",
    "\n",
    "# Plot predictive means as blue line\n",
    "ax.plot(x_test, y_hat, 'b')\n",
    "\n",
    "# Shade between the lower and upper confidence bounds\n",
    "lower = x_test - y_sigma\n",
    "upper = x_test + y_sigma\n",
    "ax.fill_between(x_test, lower, upper, alpha=0.5)\n",
    "ax.set_ylim([-3, 3])\n",
    "plt.title(\"GPR Model Predictions\")\n",
    "\n",
    "plt.show()"
   ]
  },
  {
   "cell_type": "code",
   "execution_count": 25,
   "id": "73cc8fb0",
   "metadata": {},
   "outputs": [
    {
     "data": {
      "text/plain": [
       "<matplotlib.collections.PathCollection at 0x7f668e338820>"
      ]
     },
     "execution_count": 25,
     "metadata": {},
     "output_type": "execute_result"
    },
    {
     "data": {
      "image/png": "[encoded data removed]",
      "text/plain": [
       "<Figure size 720x720 with 1 Axes>"
      ]
     },
     "metadata": {
      "needs_background": "light"
     },
     "output_type": "display_data"
    }
   ],
   "source": [
    "data = test_dataset.data\n",
    "pos_masks = data[:,2] == 1\n",
    "neg_masks = ~pos_masks\n",
    "\n",
    "fig = plt.figure(figsize=(10,10))\n",
    "ax1 = fig.add_subplot(111)\n",
    "\n",
    "ax1.scatter(data[pos_masks][:,0], data[pos_masks][:,1], marker='.', alpha=1.0, color='y')\n",
    "ax1.scatter(data[neg_masks][:,0], data[neg_masks][:,1], marker='.', alpha=1.0, color='b')"
   ]
  },
  {
   "cell_type": "code",
   "execution_count": null,
   "id": "5b2ca3bd",
   "metadata": {},
   "outputs": [],
   "source": []
  }
 ],
 "metadata": {
  "kernelspec": {
   "display_name": "Python 3 (ipykernel)",
   "language": "python",
   "name": "python3"
  },
  "language_info": {
   "codemirror_mode": {
    "name": "ipython",
    "version": 3
   },
   "file_extension": ".py",
   "mimetype": "text/x-python",
   "name": "python",
   "nbconvert_exporter": "python",
   "pygments_lexer": "ipython3",
   "version": "3.8.12"
  }
 },
 "nbformat": 4,
 "nbformat_minor": 5
}
