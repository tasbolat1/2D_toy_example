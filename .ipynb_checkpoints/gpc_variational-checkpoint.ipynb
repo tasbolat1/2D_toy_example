{
 "cells": [
  {
   "cell_type": "code",
   "execution_count": 1,
   "metadata": {},
   "outputs": [],
   "source": [
    "import torch\n",
    "import matplotlib.pyplot as plt\n",
    "from torch import distributions\n",
    "import seaborn as sns\n",
    "import numpy as np\n",
    "import torch\n",
    "import torch.nn as nn\n",
    "from tqdm.auto import tqdm\n",
    "import matplotlib as mpl\n",
    "mpl.rcParams['font.size'] = 14\n",
    "\n",
    "%matplotlib inline\n",
    "\n",
    "torch.manual_seed(42)\n",
    "np.random.seed(42)\n",
    "device = torch.device('cuda:0' if torch.cuda.is_available() else 'cpu')\n",
    "\n",
    "from network import ClassifierNN,load_model_info\n",
    "from density_utils import draw_density_ratio, refine_sample_GPC, refine_sample2, draw_density_ratio2, draw_density_ratio_GPC, refine_sample_GP, refine_sample2_GP\n",
    "\n",
    "from utils import load_item, show_grasp, count_real_positives\n",
    "from dataset import ToyGraspDataset\n",
    "\n",
    "%load_ext autoreload\n",
    "%autoreload 2"
   ]
  },
  {
   "cell_type": "code",
   "execution_count": null,
   "metadata": {},
   "outputs": [],
   "source": []
  },
  {
   "cell_type": "code",
   "execution_count": null,
   "metadata": {},
   "outputs": [],
   "source": []
  },
  {
   "cell_type": "markdown",
   "metadata": {},
   "source": [
    "# GP Classifier Sim+ vs Real+"
   ]
  },
  {
   "cell_type": "code",
   "execution_count": 2,
   "metadata": {},
   "outputs": [],
   "source": [
    "import torch\n",
    "import matplotlib.pyplot as plt\n",
    "from torch import distributions\n",
    "import seaborn as sns\n",
    "import numpy as np\n",
    "import torch\n",
    "import torch.nn as nn\n",
    "from tqdm.auto import tqdm\n",
    "import matplotlib as mpl\n",
    "mpl.rcParams['font.size'] = 14\n",
    "\n",
    "torch.manual_seed(42)\n",
    "np.random.seed(42)\n",
    "device = torch.device('cuda:0' if torch.cuda.is_available() else 'cpu')\n",
    "\n",
    "from network import ClassifierNN, train_network, save_model_info, load_model_info\n",
    "\n",
    "from density_utils import draw_density_ratio, refine_sample, refine_sample2, draw_density_ratio2, refine_sample_GP, draw_density_ratio_GP\n",
    "\n",
    "from utils import load_item, show_grasp\n",
    "from dataset import ToyGraspDataset\n",
    "\n",
    "from torch.utils.data import TensorDataset, DataLoader\n",
    "import torch.optim as optim\n",
    "\n",
    "torch.manual_seed(42)\n",
    "import math\n"
   ]
  },
  {
   "cell_type": "code",
   "execution_count": 4,
   "metadata": {},
   "outputs": [
    {
     "name": "stdout",
     "output_type": "stream",
     "text": [
      "sim2real!!!\n"
     ]
    },
    {
     "data": {
      "text/plain": [
       "<matplotlib.contour.QuadContourSet at 0x2b33be39c40>"
      ]
     },
     "execution_count": 4,
     "metadata": {},
     "output_type": "execute_result"
    },
    {
     "data": {
      "image/png": "[encoded data removed]",
      "text/plain": [
       "<Figure size 432x288 with 1 Axes>"
      ]
     },
     "metadata": {
      "needs_background": "light"
     },
     "output_type": "display_data"
    }
   ],
   "source": [
    "# USING 2D FORK DATA ===============================\n",
    "n = 10\n",
    "\n",
    "# train classifier\n",
    "train_dataset = ToyGraspDataset(root='data', name='sim2real_train', size=100, is_pos_label=True, device=device)\n",
    "train_dataloader = DataLoader(train_dataset, batch_size=512, shuffle=True)\n",
    "\n",
    "test_dataset = ToyGraspDataset(root='data', name='sim2real_test', size=n, is_pos_label=True, device=device)\n",
    "test_dataloader = DataLoader(test_dataset, batch_size=512, shuffle=False)\n",
    "\n",
    "\n",
    "# dataset = ToyGraspDataset(root='data', size=50)\n",
    "train_x = torch.Tensor(train_dataset.data[:,:2])\n",
    "train_y = torch.Tensor(train_dataset.data[:,2]).long()\n",
    "# train_y = torch.Tensor(train_dataset.data[:,2]).long() * 2 -1 \n",
    "\n",
    "train_x[:,0] /= 244\n",
    "train_x[:,1] /= 2*(3.14)\n",
    "\n",
    "# y = train_dataset.data[:,2].reshape(-1,1)\n",
    "\n",
    "test_x = torch.Tensor(test_dataset.data[:,:2])\n",
    "test_x_mat = torch.reshape(test_x[:,0], (n, n))\n",
    "test_y_mat = torch.reshape(test_x[:,1], (n, n))\n",
    "\n",
    "test_x[:,0] /= 244\n",
    "test_x[:,1] /= 2*(3.14)\n",
    "\n",
    "test_y = torch.Tensor(test_dataset.data[:,2]).long()\n",
    "# test_y = torch.Tensor(test_dataset.data[:,2]).long() * 2 -1 \n",
    "test_labels = torch.reshape(test_y, (n, n))\n",
    "\n",
    "\n",
    "plt.contourf(test_x_mat.numpy(), test_y_mat.numpy(), test_labels.numpy())"
   ]
  },
  {
   "cell_type": "code",
   "execution_count": 5,
   "metadata": {},
   "outputs": [],
   "source": [
    "# print(train_y[train_y==1].sum())\n",
    "# # print(train_y.shape[0])\n",
    "# train_x = torch.linspace(0, 1, 100)\n",
    "# train_y = torch.sign(torch.cos(train_x * (4 * math.pi)))"
   ]
  },
  {
   "cell_type": "code",
   "execution_count": 6,
   "metadata": {
    "scrolled": true
   },
   "outputs": [],
   "source": [
    "import gpytorch\n",
    "from gpytorch.models import AbstractVariationalGP\n",
    "from gpytorch.variational import CholeskyVariationalDistribution\n",
    "from gpytorch.variational import VariationalStrategy\n",
    "from gpytorch.variational import UnwhitenedVariationalStrategy\n",
    "\n",
    "class GPClassificationModel(AbstractVariationalGP):\n",
    "    def __init__(self, train_x):\n",
    "        variational_distribution = CholeskyVariationalDistribution(train_x.size(0))\n",
    "#         variational_strategy = VariationalStrategy(\n",
    "#             self, train_x, variational_distribution)\n",
    "        \n",
    "        variational_strategy = UnwhitenedVariationalStrategy(\n",
    "            self, train_x, variational_distribution, learn_inducing_locations=False\n",
    "        )\n",
    "        super(GPClassificationModel, self).__init__(variational_strategy)\n",
    "        self.mean_module = gpytorch.means.ConstantMean()\n",
    "        self.covar_module = gpytorch.kernels.ScaleKernel(gpytorch.kernels.RBFKernel())\n",
    "\n",
    "    def forward(self, x):\n",
    "        mean_x = self.mean_module(x)\n",
    "        covar_x = self.covar_module(x)\n",
    "        latent_pred = gpytorch.distributions.MultivariateNormal(mean_x, covar_x)\n",
    "        return latent_pred\n",
    "\n",
    "\n",
    "# Initialize model and likelihood\n",
    "model = GPClassificationModel(train_x)\n",
    "likelihood = gpytorch.likelihoods.BernoulliLikelihood()"
   ]
  },
  {
   "cell_type": "code",
   "execution_count": 7,
   "metadata": {},
   "outputs": [
    {
     "name": "stdout",
     "output_type": "stream",
     "text": [
      "The autoreload extension is already loaded. To reload it, use:\n",
      "  %reload_ext autoreload\n",
      "Iter 1/500 - Loss: 0.909\n",
      "Iter 51/500 - Loss: 1.920\n",
      "Iter 101/500 - Loss: 0.983\n",
      "Iter 151/500 - Loss: 0.716\n",
      "Iter 201/500 - Loss: 0.586\n",
      "Iter 251/500 - Loss: 0.534\n",
      "Iter 301/500 - Loss: 0.507\n",
      "Iter 351/500 - Loss: 0.492\n",
      "Iter 401/500 - Loss: 0.481\n",
      "Iter 451/500 - Loss: 0.474\n"
     ]
    }
   ],
   "source": [
    "import math\n",
    "import torch\n",
    "import numpy as np\n",
    "import gpytorch\n",
    "from matplotlib import pyplot as plt\n",
    "\n",
    "%matplotlib inline\n",
    "%load_ext autoreload\n",
    "%autoreload 2\n",
    "\n",
    "# this is for running the notebook in our testing framework\n",
    "import os\n",
    "smoke_test = ('CI' in os.environ)\n",
    "training_iter = 2 if smoke_test else 500\n",
    "\n",
    "\n",
    "\n",
    "\n",
    "# Find optimal model hyperparameters\n",
    "\n",
    "model.train()\n",
    "likelihood.train()\n",
    "# Use the adam optimizer\n",
    "optimizer = torch.optim.Adam(model.parameters(), lr=0.1)  # Includes GaussianLikelihood parameters\n",
    "\n",
    "from gpytorch.mlls.variational_elbo import VariationalELBO\n",
    "# \"Loss\" for GPs - the marginal log likelihood\n",
    "# mll = gpytorch.mlls.ExactMarginalLogLikelihood(likelihood, model)\n",
    "mll = VariationalELBO(likelihood, model, train_y.numel())\n",
    "\n",
    "# train_x = train_x.to(device)\n",
    "# model = model.to(device)\n",
    "# likelihood = likelihood.to(device)\n",
    "# likelihood.transformed_targets = likelihood.transformed_targets.to(device)\n",
    "\n",
    "model, likelihood, train_x, train_y = model.to(device), likelihood.to(device), train_x.to(device), train_y.to(device)\n",
    "for i in range(training_iter):\n",
    "    # Zero gradients from previous iteration\n",
    "    optimizer.zero_grad()\n",
    "    # Output from model\n",
    "    output = model(train_x)\n",
    "    # Calc loss and backprop gradients\n",
    "    loss = -mll(output, train_y)\n",
    "    loss.backward()\n",
    "    if i % 50 == 0:\n",
    "        print('Iter %d/%d - Loss: %.3f' % (i + 1, training_iter, loss.item()))\n",
    "    optimizer.step()"
   ]
  },
  {
   "cell_type": "code",
   "execution_count": 8,
   "metadata": {},
   "outputs": [],
   "source": [
    "# # Go into eval mode\n",
    "# model.eval()\n",
    "# likelihood.eval()\n",
    "\n",
    "\n",
    "# with torch.no_grad():\n",
    "#     # Test x are regularly spaced by 0.01 0,1 inclusive\n",
    "#     test_x = torch.linspace(0, 1, 50).to(device)\n",
    "#     # Get classification predictions\n",
    "    \n",
    "#     observed_pred = likelihood(model(test_x))\n",
    "\n",
    "#     # Initialize fig and axes for plot\n",
    "#     f, ax = plt.subplots(1, 1, figsize=(10, 10))\n",
    "#     ax.scatter(train_x.cpu().numpy(), train_y.cpu().numpy())\n",
    "#     # Get the predicted labels (probabilites of belonging to the positive class)\n",
    "#     # Transform these probabilities to be 0/1 labels\n",
    "#     pred_labels = observed_pred.mean.ge(0.5).float().mul(2).sub(1)\n",
    "#     ax.plot(test_x.cpu().numpy(), pred_labels.cpu().numpy(), 'b')\n",
    "#     ax.set_ylim([-3, 3])\n",
    "#     ax.legend(['Observed Data', 'Mean', 'Confidence'])"
   ]
  },
  {
   "cell_type": "code",
   "execution_count": 9,
   "metadata": {},
   "outputs": [],
   "source": [
    "# # Go into eval mode\n",
    "# model.eval()\n",
    "# likelihood.eval()\n",
    "# test_x  = test_x.to(device)\n",
    "# model = model.to(device)\n",
    "\n",
    "# with torch.no_grad():\n",
    "#     # Test x are regularly spaced by 0.01 0,1 inclusive\n",
    "# #     test_x = torch.linspace(0, 1, 101)\n",
    "#     # Get classification predictions\n",
    "#     observed_pred = likelihood(model(test_x))\n",
    "#     print(observed_pred.probs)\n",
    "  \n",
    "    \n",
    "#     # Initialize fig and axes for plot\n",
    "#     fig, ax = plt.subplots(nrows=1, figsize=(8,8))\n",
    "# #     pos_masks = train_y == 1\n",
    "# #     neg_masks = ~pos_masks\n",
    "# #     ax.scatter(train_x[pos_masks][:,0]*224, train_x[pos_masks][:,1]*(2*3.14), marker='.', alpha=0.2, color='b')\n",
    "# #     ax.scatter(train_x[neg_masks][:,0]*224, train_x[neg_masks][:,1]*(2*3.14), marker='.', alpha=0.2, color='r')\n",
    "#     # Get the predicted labels (probabilites of belonging to the positive class)\n",
    "#     # Transform these probabilities to be 0/1 labels\n",
    "#     pred_labels = observed_pred.mean.ge(0.5).float().mul(2).sub(1)\n",
    "# #     print(pred_labels.mean)\n",
    "# #     print(test_x.size())\n",
    "#     plot_x = test_x.cpu().numpy()\n",
    "    \n",
    "#     pos_masks = pred_labels == 1\n",
    "#     neg_masks = ~pos_masks\n",
    "#     pos_masks, neg_masks = pos_masks.cpu(), neg_masks.cpu()\n",
    "#     ax.scatter(plot_x[pos_masks][:,0]*224, plot_x[pos_masks][:,1]*(2*3.14), marker='.', alpha=0.2, color='b')\n",
    "#     ax.scatter(plot_x[neg_masks][:,0]*224, plot_x[neg_masks][:,1]*(2*3.14), marker='.', alpha=0.2, color='r')\n",
    "#     ax.legend(['Observed Data', 'Mean', 'Confidence'])\n",
    "    \n",
    "    \n",
    "# # fig, ax = plt.subplots(nrows=1, figsize=(8,8))\n",
    "# # pos_masks = train_y == 1\n",
    "# # neg_masks = ~pos_masks\n",
    "# # ax.scatter(train_x[pos_masks][:,0]*224, train_x[pos_masks][:,1]*(2*3.14), marker='.', alpha=0.2, color='b')\n",
    "# # ax.scatter(train_x[neg_masks][:,0]*224, train_x[neg_masks][:,1]*(2*3.14), marker='.', alpha=0.2, color='r')\n",
    "# # plt.scatter(my_sample[:, 0]*224, my_sample[:,1]*(2*3.14), marker='*', color='g', s=200)\n"
   ]
  },
  {
   "cell_type": "code",
   "execution_count": 14,
   "metadata": {},
   "outputs": [],
   "source": [
    "pos_masks = train_y == 1\n",
    "neg_masks = ~pos_masks\n",
    "pos_masks, neg_masks = pos_masks.cpu(), neg_masks.cpu()\n",
    "\n",
    "train_x = train_x.cpu().numpy()\n"
   ]
  },
  {
   "cell_type": "code",
   "execution_count": 19,
   "metadata": {
    "scrolled": true
   },
   "outputs": [
    {
     "data": {
      "application/vnd.jupyter.widget-view+json": {
       "model_id": "9a191129bdfe4a24ae7dc0aa1fe5f4f0",
       "version_major": 2,
       "version_minor": 0
      },
      "text/plain": [
       "  0%|          | 0/28685 [00:00<?, ?it/s]"
      ]
     },
     "metadata": {},
     "output_type": "display_data"
    },
    {
     "ename": "RuntimeError",
     "evalue": "Expected all tensors to be on the same device, but found at least two devices, cpu and cuda:0! (when checking argument for argument other in method wrapper__equal)",
     "output_type": "error",
     "traceback": [
      "\u001b[1;31m---------------------------------------------------------------------------\u001b[0m",
      "\u001b[1;31mRuntimeError\u001b[0m                              Traceback (most recent call last)",
      "Input \u001b[1;32mIn [19]\u001b[0m, in \u001b[0;36m<module>\u001b[1;34m\u001b[0m\n\u001b[0;32m     20\u001b[0m ax\u001b[38;5;241m.\u001b[39mscatter(train_x[neg_masks][:,\u001b[38;5;241m0\u001b[39m]\u001b[38;5;241m*\u001b[39m\u001b[38;5;241m224\u001b[39m, train_x[neg_masks][:,\u001b[38;5;241m1\u001b[39m]\u001b[38;5;241m*\u001b[39m(\u001b[38;5;241m2\u001b[39m\u001b[38;5;241m*\u001b[39m\u001b[38;5;241m3.14\u001b[39m), marker\u001b[38;5;241m=\u001b[39m\u001b[38;5;124m'\u001b[39m\u001b[38;5;124m.\u001b[39m\u001b[38;5;124m'\u001b[39m, alpha\u001b[38;5;241m=\u001b[39m\u001b[38;5;241m0.25\u001b[39m, color\u001b[38;5;241m=\u001b[39m\u001b[38;5;124m'\u001b[39m\u001b[38;5;124mr\u001b[39m\u001b[38;5;124m'\u001b[39m)\n\u001b[0;32m     22\u001b[0m \u001b[38;5;66;03m# plt.scatter(my_sample[:, 0]*224, my_sample[:,1]*(2*3.14), marker='*', color='g', s=200)\u001b[39;00m\n\u001b[0;32m     23\u001b[0m \u001b[38;5;66;03m# plt.scatter(my_sample[:, 0], my_sample[:,1], marker='*', color='g', s=200)\u001b[39;00m\n\u001b[1;32m---> 25\u001b[0m Z, CS \u001b[38;5;241m=\u001b[39m \u001b[43mdraw_density_ratio_GPC\u001b[49m\u001b[43m(\u001b[49m\u001b[43max\u001b[49m\u001b[38;5;241;43m=\u001b[39;49m\u001b[43max\u001b[49m\u001b[43m,\u001b[49m\n\u001b[0;32m     26\u001b[0m \u001b[43m                   \u001b[49m\u001b[43mmodel\u001b[49m\u001b[38;5;241;43m=\u001b[39;49m\u001b[43mmodel\u001b[49m\u001b[43m,\u001b[49m\n\u001b[0;32m     27\u001b[0m \u001b[43m                   \u001b[49m\u001b[43mlikelihood\u001b[49m\u001b[38;5;241;43m=\u001b[39;49m\u001b[43mlikelihood\u001b[49m\u001b[43m,\u001b[49m\n\u001b[0;32m     28\u001b[0m \u001b[38;5;66;43;03m#                    model=model.to(device),\u001b[39;49;00m\n\u001b[0;32m     29\u001b[0m \u001b[38;5;66;43;03m#                    likelihood=likelihood.to(device),\u001b[39;49;00m\n\u001b[0;32m     30\u001b[0m \u001b[38;5;66;43;03m#                    p_type='p_y_given_x',\u001b[39;49;00m\n\u001b[0;32m     31\u001b[0m \u001b[43m                   \u001b[49m\u001b[43mp_type\u001b[49m\u001b[38;5;241;43m=\u001b[39;49m\u001b[38;5;124;43m'\u001b[39;49m\u001b[38;5;124;43mlog_density_ratio\u001b[39;49m\u001b[38;5;124;43m'\u001b[39;49m\u001b[43m,\u001b[49m\n\u001b[0;32m     32\u001b[0m \u001b[43m                   \u001b[49m\u001b[43mdevice\u001b[49m\u001b[38;5;241;43m=\u001b[39;49m\u001b[43mdevice\u001b[49m\u001b[43m,\u001b[49m\n\u001b[0;32m     33\u001b[0m \u001b[43m                   \u001b[49m\u001b[43mx_lim\u001b[49m\u001b[38;5;241;43m=\u001b[39;49m\u001b[43m[\u001b[49m\u001b[38;5;241;43m0\u001b[39;49m\u001b[43m,\u001b[49m\u001b[43m \u001b[49m\u001b[38;5;241;43m224\u001b[39;49m\u001b[43m]\u001b[49m\u001b[43m,\u001b[49m\n\u001b[0;32m     34\u001b[0m \u001b[43m                   \u001b[49m\u001b[43my_lim\u001b[49m\u001b[38;5;241;43m=\u001b[39;49m\u001b[43m[\u001b[49m\u001b[38;5;241;43m0\u001b[39;49m\u001b[43m,\u001b[49m\u001b[43m \u001b[49m\u001b[38;5;241;43m2\u001b[39;49m\u001b[38;5;241;43m*\u001b[39;49m\u001b[43mnp\u001b[49m\u001b[38;5;241;43m.\u001b[39;49m\u001b[43mpi\u001b[49m\u001b[43m]\u001b[49m\u001b[43m,\u001b[49m\n\u001b[0;32m     35\u001b[0m \u001b[43m                   \u001b[49m\u001b[43mcmap\u001b[49m\u001b[38;5;241;43m=\u001b[39;49m\u001b[38;5;124;43m'\u001b[39;49m\u001b[38;5;124;43mRdBu\u001b[39;49m\u001b[38;5;124;43m'\u001b[39;49m\u001b[43m,\u001b[49m\n\u001b[0;32m     36\u001b[0m \u001b[43m                   \u001b[49m\u001b[43mstep_size\u001b[49m\u001b[38;5;241;43m=\u001b[39;49m\u001b[38;5;241;43m0.1\u001b[39;49m\u001b[43m,\u001b[49m\n\u001b[0;32m     37\u001b[0m \u001b[43m                   \u001b[49m\u001b[43mNp\u001b[49m\u001b[38;5;241;43m=\u001b[39;49m\u001b[43mNp\u001b[49m\u001b[43m,\u001b[49m\u001b[43m \u001b[49m\u001b[43mNq\u001b[49m\u001b[38;5;241;43m=\u001b[39;49m\u001b[43mNq\u001b[49m\u001b[43m)\u001b[49m\n\u001b[0;32m     38\u001b[0m fig\u001b[38;5;241m.\u001b[39mcolorbar(CS, ax\u001b[38;5;241m=\u001b[39max)\n\u001b[0;32m     42\u001b[0m ax\u001b[38;5;241m.\u001b[39mset_title(\u001b[38;5;124mf\u001b[39m\u001b[38;5;124m'\u001b[39m\u001b[38;5;124mGP Classifier Log Density Ratio\u001b[39m\u001b[38;5;124m'\u001b[39m)\n",
      "File \u001b[1;32m~\\Documents\\2D_toy_example\\density_utils.py:300\u001b[0m, in \u001b[0;36mdraw_density_ratio_GPC\u001b[1;34m(ax, model, likelihood, x_lim, y_lim, step_size, cmap, alpha, device, level, p_type, Np, Nq)\u001b[0m\n\u001b[0;32m    289\u001b[0m s[:,\u001b[38;5;241m1\u001b[39m] \u001b[38;5;241m/\u001b[39m\u001b[38;5;241m=\u001b[39m (\u001b[38;5;241m3.14\u001b[39m\u001b[38;5;241m*\u001b[39m\u001b[38;5;241m2\u001b[39m)\n\u001b[0;32m    291\u001b[0m \u001b[38;5;66;03m# s = s.repeat(1,200)\u001b[39;00m\n\u001b[0;32m    292\u001b[0m \u001b[38;5;66;03m# print(f\"s: {s}\")\u001b[39;00m\n\u001b[0;32m    293\u001b[0m \u001b[38;5;66;03m# print(f\"model: {model}\")\u001b[39;00m\n\u001b[1;32m   (...)\u001b[0m\n\u001b[0;32m    298\u001b[0m \u001b[38;5;66;03m# _pred_means = model(s)\u001b[39;00m\n\u001b[0;32m    299\u001b[0m \u001b[38;5;66;03m# pred_means = _pred_means.loc\u001b[39;00m\n\u001b[1;32m--> 300\u001b[0m pred_means \u001b[38;5;241m=\u001b[39m likelihood(\u001b[43mmodel\u001b[49m\u001b[43m(\u001b[49m\u001b[43ms\u001b[49m\u001b[43m)\u001b[49m)\u001b[38;5;241m.\u001b[39mloc\n\u001b[0;32m    302\u001b[0m logit \u001b[38;5;241m=\u001b[39m pred_means[\u001b[38;5;241m1\u001b[39m,:] \u001b[38;5;241m-\u001b[39m pred_means[\u001b[38;5;241m0\u001b[39m,:]\n\u001b[0;32m    304\u001b[0m \u001b[38;5;66;03m# logit = likelihood(model(s)).loc[1]\u001b[39;00m\n\u001b[0;32m    305\u001b[0m \u001b[38;5;66;03m# logit = model(s)\u001b[39;00m\n\u001b[0;32m    306\u001b[0m \u001b[38;5;66;03m# print(f\"logit: {torch.unique(logit)}\")\u001b[39;00m\n",
      "File \u001b[1;32m~\\anaconda3\\envs\\grasp_pytorch\\lib\\site-packages\\gpytorch\\models\\approximate_gp.py:81\u001b[0m, in \u001b[0;36mApproximateGP.__call__\u001b[1;34m(self, inputs, prior, **kwargs)\u001b[0m\n\u001b[0;32m     79\u001b[0m \u001b[38;5;28;01mif\u001b[39;00m inputs\u001b[38;5;241m.\u001b[39mdim() \u001b[38;5;241m==\u001b[39m \u001b[38;5;241m1\u001b[39m:\n\u001b[0;32m     80\u001b[0m     inputs \u001b[38;5;241m=\u001b[39m inputs\u001b[38;5;241m.\u001b[39munsqueeze(\u001b[38;5;241m-\u001b[39m\u001b[38;5;241m1\u001b[39m)\n\u001b[1;32m---> 81\u001b[0m \u001b[38;5;28;01mreturn\u001b[39;00m \u001b[38;5;28;43mself\u001b[39;49m\u001b[38;5;241;43m.\u001b[39;49m\u001b[43mvariational_strategy\u001b[49m\u001b[43m(\u001b[49m\u001b[43minputs\u001b[49m\u001b[43m,\u001b[49m\u001b[43m \u001b[49m\u001b[43mprior\u001b[49m\u001b[38;5;241;43m=\u001b[39;49m\u001b[43mprior\u001b[49m\u001b[43m,\u001b[49m\u001b[43m \u001b[49m\u001b[38;5;241;43m*\u001b[39;49m\u001b[38;5;241;43m*\u001b[39;49m\u001b[43mkwargs\u001b[49m\u001b[43m)\u001b[49m\n",
      "File \u001b[1;32m~\\anaconda3\\envs\\grasp_pytorch\\lib\\site-packages\\gpytorch\\variational\\_variational_strategy.py:124\u001b[0m, in \u001b[0;36m_VariationalStrategy.__call__\u001b[1;34m(self, x, prior, **kwargs)\u001b[0m\n\u001b[0;32m    122\u001b[0m \u001b[38;5;66;03m# Get q(f)\u001b[39;00m\n\u001b[0;32m    123\u001b[0m \u001b[38;5;28;01mif\u001b[39;00m \u001b[38;5;28misinstance\u001b[39m(variational_dist_u, MultivariateNormal):\n\u001b[1;32m--> 124\u001b[0m     \u001b[38;5;28;01mreturn\u001b[39;00m \u001b[38;5;28;43msuper\u001b[39;49m\u001b[43m(\u001b[49m\u001b[43m)\u001b[49m\u001b[38;5;241;43m.\u001b[39;49m\u001b[38;5;21;43m__call__\u001b[39;49m\u001b[43m(\u001b[49m\n\u001b[0;32m    125\u001b[0m \u001b[43m        \u001b[49m\u001b[43mx\u001b[49m\u001b[43m,\u001b[49m\n\u001b[0;32m    126\u001b[0m \u001b[43m        \u001b[49m\u001b[43minducing_points\u001b[49m\u001b[43m,\u001b[49m\n\u001b[0;32m    127\u001b[0m \u001b[43m        \u001b[49m\u001b[43minducing_values\u001b[49m\u001b[38;5;241;43m=\u001b[39;49m\u001b[43mvariational_dist_u\u001b[49m\u001b[38;5;241;43m.\u001b[39;49m\u001b[43mmean\u001b[49m\u001b[43m,\u001b[49m\n\u001b[0;32m    128\u001b[0m \u001b[43m        \u001b[49m\u001b[43mvariational_inducing_covar\u001b[49m\u001b[38;5;241;43m=\u001b[39;49m\u001b[43mvariational_dist_u\u001b[49m\u001b[38;5;241;43m.\u001b[39;49m\u001b[43mlazy_covariance_matrix\u001b[49m\u001b[43m,\u001b[49m\n\u001b[0;32m    129\u001b[0m \u001b[43m        \u001b[49m\u001b[38;5;241;43m*\u001b[39;49m\u001b[38;5;241;43m*\u001b[39;49m\u001b[43mkwargs\u001b[49m\u001b[43m,\u001b[49m\n\u001b[0;32m    130\u001b[0m \u001b[43m    \u001b[49m\u001b[43m)\u001b[49m\n\u001b[0;32m    131\u001b[0m \u001b[38;5;28;01melif\u001b[39;00m \u001b[38;5;28misinstance\u001b[39m(variational_dist_u, Delta):\n\u001b[0;32m    132\u001b[0m     \u001b[38;5;28;01mreturn\u001b[39;00m \u001b[38;5;28msuper\u001b[39m()\u001b[38;5;241m.\u001b[39m\u001b[38;5;21m__call__\u001b[39m(\n\u001b[0;32m    133\u001b[0m         x, inducing_points, inducing_values\u001b[38;5;241m=\u001b[39mvariational_dist_u\u001b[38;5;241m.\u001b[39mmean, variational_inducing_covar\u001b[38;5;241m=\u001b[39m\u001b[38;5;28;01mNone\u001b[39;00m, \u001b[38;5;241m*\u001b[39m\u001b[38;5;241m*\u001b[39mkwargs\n\u001b[0;32m    134\u001b[0m     )\n",
      "File \u001b[1;32m~\\anaconda3\\envs\\grasp_pytorch\\lib\\site-packages\\gpytorch\\module.py:30\u001b[0m, in \u001b[0;36mModule.__call__\u001b[1;34m(self, *inputs, **kwargs)\u001b[0m\n\u001b[0;32m     29\u001b[0m \u001b[38;5;28;01mdef\u001b[39;00m \u001b[38;5;21m__call__\u001b[39m(\u001b[38;5;28mself\u001b[39m, \u001b[38;5;241m*\u001b[39minputs, \u001b[38;5;241m*\u001b[39m\u001b[38;5;241m*\u001b[39mkwargs):\n\u001b[1;32m---> 30\u001b[0m     outputs \u001b[38;5;241m=\u001b[39m \u001b[38;5;28;43mself\u001b[39;49m\u001b[38;5;241;43m.\u001b[39;49m\u001b[43mforward\u001b[49m\u001b[43m(\u001b[49m\u001b[38;5;241;43m*\u001b[39;49m\u001b[43minputs\u001b[49m\u001b[43m,\u001b[49m\u001b[43m \u001b[49m\u001b[38;5;241;43m*\u001b[39;49m\u001b[38;5;241;43m*\u001b[39;49m\u001b[43mkwargs\u001b[49m\u001b[43m)\u001b[49m\n\u001b[0;32m     31\u001b[0m     \u001b[38;5;28;01mif\u001b[39;00m \u001b[38;5;28misinstance\u001b[39m(outputs, \u001b[38;5;28mlist\u001b[39m):\n\u001b[0;32m     32\u001b[0m         \u001b[38;5;28;01mreturn\u001b[39;00m [_validate_module_outputs(output) \u001b[38;5;28;01mfor\u001b[39;00m output \u001b[38;5;129;01min\u001b[39;00m outputs]\n",
      "File \u001b[1;32m~\\anaconda3\\envs\\grasp_pytorch\\lib\\site-packages\\gpytorch\\variational\\unwhitened_variational_strategy.py:63\u001b[0m, in \u001b[0;36mUnwhitenedVariationalStrategy.forward\u001b[1;34m(self, x, inducing_points, inducing_values, variational_inducing_covar)\u001b[0m\n\u001b[0;32m     61\u001b[0m \u001b[38;5;28;01mdef\u001b[39;00m \u001b[38;5;21mforward\u001b[39m(\u001b[38;5;28mself\u001b[39m, x, inducing_points, inducing_values, variational_inducing_covar\u001b[38;5;241m=\u001b[39m\u001b[38;5;28;01mNone\u001b[39;00m):\n\u001b[0;32m     62\u001b[0m     \u001b[38;5;66;03m# If our points equal the inducing points, we're done\u001b[39;00m\n\u001b[1;32m---> 63\u001b[0m     \u001b[38;5;28;01mif\u001b[39;00m \u001b[43mtorch\u001b[49m\u001b[38;5;241;43m.\u001b[39;49m\u001b[43mequal\u001b[49m\u001b[43m(\u001b[49m\u001b[43mx\u001b[49m\u001b[43m,\u001b[49m\u001b[43m \u001b[49m\u001b[43minducing_points\u001b[49m\u001b[43m)\u001b[49m:\n\u001b[0;32m     64\u001b[0m         \u001b[38;5;28;01mif\u001b[39;00m variational_inducing_covar \u001b[38;5;129;01mis\u001b[39;00m \u001b[38;5;28;01mNone\u001b[39;00m:\n\u001b[0;32m     65\u001b[0m             \u001b[38;5;28;01mraise\u001b[39;00m \u001b[38;5;167;01mRuntimeError\u001b[39;00m\n",
      "\u001b[1;31mRuntimeError\u001b[0m: Expected all tensors to be on the same device, but found at least two devices, cpu and cuda:0! (when checking argument for argument other in method wrapper__equal)"
     ]
    },
    {
     "data": {
      "image/png": "[encoded data removed]",
      "text/plain": [
       "<Figure size 864x864 with 1 Axes>"
      ]
     },
     "metadata": {
      "needs_background": "light"
     },
     "output_type": "display_data"
    }
   ],
   "source": [
    "import torch\n",
    "torch.cuda.empty_cache()\n",
    "\n",
    "Nq = int(train_y.sum())\n",
    "Np = int(train_y.size()[0] - train_y.sum())\n",
    "\n",
    "# print(my_sample)\n",
    "# my_sample = torch.FloatTensor([[25, 0.3],\n",
    "my_sample = torch.FloatTensor([[60, 1.5],\n",
    "                               [80, 1.5]])#[160, 3]\n",
    "# my_sample = torch.FloatTensor([[210, 3]])\n",
    "\n",
    "my_sample[:,0] /= 224\n",
    "my_sample[:,1] /= (2*3.14)\n",
    "\n",
    "\n",
    "\n",
    "fig, ax = plt.subplots(nrows=1, figsize=(12,12))\n",
    "ax.scatter(train_x[pos_masks][:,0]*224, train_x[pos_masks][:,1]*(2*3.14), marker='.', alpha=0.25, color='b')\n",
    "ax.scatter(train_x[neg_masks][:,0]*224, train_x[neg_masks][:,1]*(2*3.14), marker='.', alpha=0.25, color='r')\n",
    "\n",
    "# plt.scatter(my_sample[:, 0]*224, my_sample[:,1]*(2*3.14), marker='*', color='g', s=200)\n",
    "# plt.scatter(my_sample[:, 0], my_sample[:,1], marker='*', color='g', s=200)\n",
    "\n",
    "Z, CS = draw_density_ratio_GPC(ax=ax,\n",
    "                   model=model,\n",
    "                   likelihood=likelihood,\n",
    "#                    model=model.to(device),\n",
    "#                    likelihood=likelihood.to(device),\n",
    "#                    p_type='p_y_given_x',\n",
    "                   p_type='log_density_ratio',\n",
    "                   device=device,\n",
    "                   x_lim=[0, 224],\n",
    "                   y_lim=[0, 2*np.pi],\n",
    "                   cmap='RdBu',\n",
    "                   step_size=0.1,\n",
    "                   Np=Np, Nq=Nq)\n",
    "fig.colorbar(CS, ax=ax)\n",
    "\n",
    "\n",
    "\n",
    "ax.set_title(f'GP Classifier Log Density Ratio')\n",
    "ax.set_xlim([0, 300])\n",
    "ax.set_ylim([0, 2*np.pi])\n",
    "\n",
    "plt.show()"
   ]
  },
  {
   "cell_type": "code",
   "execution_count": null,
   "metadata": {},
   "outputs": [],
   "source": []
  },
  {
   "cell_type": "code",
   "execution_count": null,
   "metadata": {},
   "outputs": [],
   "source": []
  },
  {
   "cell_type": "code",
   "execution_count": null,
   "metadata": {},
   "outputs": [],
   "source": []
  },
  {
   "cell_type": "code",
   "execution_count": null,
   "metadata": {},
   "outputs": [],
   "source": []
  }
 ],
 "metadata": {
  "kernelspec": {
   "display_name": "Python 3 (ipykernel)",
   "language": "python",
   "name": "python3"
  },
  "language_info": {
   "codemirror_mode": {
    "name": "ipython",
    "version": 3
   },
   "file_extension": ".py",
   "mimetype": "text/x-python",
   "name": "python",
   "nbconvert_exporter": "python",
   "pygments_lexer": "ipython3",
   "version": "3.8.12"
  }
 },
 "nbformat": 4,
 "nbformat_minor": 4
}
